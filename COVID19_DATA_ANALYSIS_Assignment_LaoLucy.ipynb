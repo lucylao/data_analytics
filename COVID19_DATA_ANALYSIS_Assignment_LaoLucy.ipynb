{
  "nbformat": 4,
  "nbformat_minor": 0,
  "metadata": {
    "colab": {
      "name": "COVID19_DATA_ANALYSIS_Assignment_LaoLucy.ipynb",
      "provenance": [],
      "collapsed_sections": [],
      "toc_visible": true,
      "include_colab_link": true
    },
    "kernelspec": {
      "name": "python3",
      "display_name": "Python 3"
    }
  },
  "cells": [
    {
      "cell_type": "markdown",
      "metadata": {
        "id": "view-in-github",
        "colab_type": "text"
      },
      "source": [
        "<a href=\"https://colab.research.google.com/github/lucylao/data_analytics/blob/main/COVID19_DATA_ANALYSIS_Assignment_LaoLucy.ipynb\" target=\"_parent\"><img src=\"https://colab.research.google.com/assets/colab-badge.svg\" alt=\"Open In Colab\"/></a>"
      ]
    },
    {
      "cell_type": "markdown",
      "metadata": {
        "id": "9jvXpX2bbIFF"
      },
      "source": [
        "# COVID 19 Data Analysis"
      ]
    },
    {
      "cell_type": "markdown",
      "metadata": {
        "id": "RSvGZmxBa_Gk"
      },
      "source": [
        "**Description:** This script will read the latest data from the New York Times' county-level COVID-19 database at https://github.com/nytimes/covid-19-data/blob/master/us-counties.csv, filter the data for a chosen county in a chosen state, calculate the daily count of new cases and new deaths, print the most recent 28 days' worth of data for the selected county, and save the county's data for all dates to a comma-separated value (.csv) file on your computer. The printed data can be copied and pasted directly into a spreadsheet for further analysis and visualization.\r\n",
        "\r\n",
        "**Note:** For information about the data, see https://github.com/nytimes/covid-19-data.\r\n",
        "\r\n",
        "**Note:** After you have run the script one time in a given Anaconda environment, you may reduce the script's execution time by adding a `#` in front of `pip install pandas`. For example, `#pip install pandas` instead of `pip install pandas`. The `#` will tell Python to skip the code without running it."
      ]
    },
    {
      "cell_type": "markdown",
      "metadata": {
        "id": "ji_HknaobZJh"
      },
      "source": [
        "# Task 1 : Environment Set up"
      ]
    },
    {
      "cell_type": "markdown",
      "metadata": {
        "id": "q2y0bY0XbhNZ"
      },
      "source": [
        "Import all required libraries that are needed for data analysis"
      ]
    },
    {
      "cell_type": "code",
      "metadata": {
        "id": "k2f9bX3aiTDP"
      },
      "source": [
        "import pandas as pd\n",
        "import numpy as np\n",
        "import matplotlib.pyplot as plt\n",
        "from matplotlib import style\n",
        "import seaborn as sns\n",
        "import datetime"
      ],
      "execution_count": 4,
      "outputs": []
    },
    {
      "cell_type": "markdown",
      "metadata": {
        "id": "vgt8s61dbueM"
      },
      "source": [
        "# Task 2 :  Data Collection"
      ]
    },
    {
      "cell_type": "markdown",
      "metadata": {
        "id": "CEc5pqrkbxcX"
      },
      "source": [
        "Use nytimes github repository as a data source to collect the covid 19 data in real time and ingest it into colab notebook for data analysis purpose"
      ]
    },
    {
      "cell_type": "code",
      "metadata": {
        "id": "vgw9nO9Hm_SB"
      },
      "source": [
        "# import data\r\n",
        "\r\n",
        "df = pd.read_csv('https://raw.githubusercontent.com/nytimes/covid-19-data/master/us-states.csv')"
      ],
      "execution_count": 5,
      "outputs": []
    },
    {
      "cell_type": "code",
      "metadata": {
        "id": "ap0owuu30bLe",
        "colab": {
          "base_uri": "https://localhost:8080/",
          "height": 284
        },
        "outputId": "5e08b6de-00d2-445c-8c67-0adf3f79b043"
      },
      "source": [
        "# stat summary of data\r\n",
        "\r\n",
        "df.describe()"
      ],
      "execution_count": 6,
      "outputs": [
        {
          "output_type": "execute_result",
          "data": {
            "text/html": [
              "<div>\n",
              "<style scoped>\n",
              "    .dataframe tbody tr th:only-of-type {\n",
              "        vertical-align: middle;\n",
              "    }\n",
              "\n",
              "    .dataframe tbody tr th {\n",
              "        vertical-align: top;\n",
              "    }\n",
              "\n",
              "    .dataframe thead th {\n",
              "        text-align: right;\n",
              "    }\n",
              "</style>\n",
              "<table border=\"1\" class=\"dataframe\">\n",
              "  <thead>\n",
              "    <tr style=\"text-align: right;\">\n",
              "      <th></th>\n",
              "      <th>fips</th>\n",
              "      <th>cases</th>\n",
              "      <th>deaths</th>\n",
              "    </tr>\n",
              "  </thead>\n",
              "  <tbody>\n",
              "    <tr>\n",
              "      <th>count</th>\n",
              "      <td>17669.000000</td>\n",
              "      <td>1.766900e+04</td>\n",
              "      <td>17669.000000</td>\n",
              "    </tr>\n",
              "    <tr>\n",
              "      <th>mean</th>\n",
              "      <td>31.910861</td>\n",
              "      <td>1.190759e+05</td>\n",
              "      <td>2984.598053</td>\n",
              "    </tr>\n",
              "    <tr>\n",
              "      <th>std</th>\n",
              "      <td>18.640163</td>\n",
              "      <td>2.274607e+05</td>\n",
              "      <td>5554.979599</td>\n",
              "    </tr>\n",
              "    <tr>\n",
              "      <th>min</th>\n",
              "      <td>1.000000</td>\n",
              "      <td>1.000000e+00</td>\n",
              "      <td>0.000000</td>\n",
              "    </tr>\n",
              "    <tr>\n",
              "      <th>25%</th>\n",
              "      <td>17.000000</td>\n",
              "      <td>4.587000e+03</td>\n",
              "      <td>98.000000</td>\n",
              "    </tr>\n",
              "    <tr>\n",
              "      <th>50%</th>\n",
              "      <td>31.000000</td>\n",
              "      <td>3.417400e+04</td>\n",
              "      <td>774.000000</td>\n",
              "    </tr>\n",
              "    <tr>\n",
              "      <th>75%</th>\n",
              "      <td>46.000000</td>\n",
              "      <td>1.334700e+05</td>\n",
              "      <td>3324.000000</td>\n",
              "    </tr>\n",
              "    <tr>\n",
              "      <th>max</th>\n",
              "      <td>78.000000</td>\n",
              "      <td>3.006583e+06</td>\n",
              "      <td>40570.000000</td>\n",
              "    </tr>\n",
              "  </tbody>\n",
              "</table>\n",
              "</div>"
            ],
            "text/plain": [
              "               fips         cases        deaths\n",
              "count  17669.000000  1.766900e+04  17669.000000\n",
              "mean      31.910861  1.190759e+05   2984.598053\n",
              "std       18.640163  2.274607e+05   5554.979599\n",
              "min        1.000000  1.000000e+00      0.000000\n",
              "25%       17.000000  4.587000e+03     98.000000\n",
              "50%       31.000000  3.417400e+04    774.000000\n",
              "75%       46.000000  1.334700e+05   3324.000000\n",
              "max       78.000000  3.006583e+06  40570.000000"
            ]
          },
          "metadata": {
            "tags": []
          },
          "execution_count": 6
        }
      ]
    },
    {
      "cell_type": "code",
      "metadata": {
        "id": "FEG9n2sI0Yxu",
        "colab": {
          "base_uri": "https://localhost:8080/",
          "height": 195
        },
        "outputId": "14b8e7a0-37ba-40a6-d35c-4db857be1fc5"
      },
      "source": [
        "# show columns and first five rows\r\n",
        "\r\n",
        "df.head()"
      ],
      "execution_count": 7,
      "outputs": [
        {
          "output_type": "execute_result",
          "data": {
            "text/html": [
              "<div>\n",
              "<style scoped>\n",
              "    .dataframe tbody tr th:only-of-type {\n",
              "        vertical-align: middle;\n",
              "    }\n",
              "\n",
              "    .dataframe tbody tr th {\n",
              "        vertical-align: top;\n",
              "    }\n",
              "\n",
              "    .dataframe thead th {\n",
              "        text-align: right;\n",
              "    }\n",
              "</style>\n",
              "<table border=\"1\" class=\"dataframe\">\n",
              "  <thead>\n",
              "    <tr style=\"text-align: right;\">\n",
              "      <th></th>\n",
              "      <th>date</th>\n",
              "      <th>state</th>\n",
              "      <th>fips</th>\n",
              "      <th>cases</th>\n",
              "      <th>deaths</th>\n",
              "    </tr>\n",
              "  </thead>\n",
              "  <tbody>\n",
              "    <tr>\n",
              "      <th>0</th>\n",
              "      <td>2020-01-21</td>\n",
              "      <td>Washington</td>\n",
              "      <td>53</td>\n",
              "      <td>1</td>\n",
              "      <td>0</td>\n",
              "    </tr>\n",
              "    <tr>\n",
              "      <th>1</th>\n",
              "      <td>2020-01-22</td>\n",
              "      <td>Washington</td>\n",
              "      <td>53</td>\n",
              "      <td>1</td>\n",
              "      <td>0</td>\n",
              "    </tr>\n",
              "    <tr>\n",
              "      <th>2</th>\n",
              "      <td>2020-01-23</td>\n",
              "      <td>Washington</td>\n",
              "      <td>53</td>\n",
              "      <td>1</td>\n",
              "      <td>0</td>\n",
              "    </tr>\n",
              "    <tr>\n",
              "      <th>3</th>\n",
              "      <td>2020-01-24</td>\n",
              "      <td>Illinois</td>\n",
              "      <td>17</td>\n",
              "      <td>1</td>\n",
              "      <td>0</td>\n",
              "    </tr>\n",
              "    <tr>\n",
              "      <th>4</th>\n",
              "      <td>2020-01-24</td>\n",
              "      <td>Washington</td>\n",
              "      <td>53</td>\n",
              "      <td>1</td>\n",
              "      <td>0</td>\n",
              "    </tr>\n",
              "  </tbody>\n",
              "</table>\n",
              "</div>"
            ],
            "text/plain": [
              "         date       state  fips  cases  deaths\n",
              "0  2020-01-21  Washington    53      1       0\n",
              "1  2020-01-22  Washington    53      1       0\n",
              "2  2020-01-23  Washington    53      1       0\n",
              "3  2020-01-24    Illinois    17      1       0\n",
              "4  2020-01-24  Washington    53      1       0"
            ]
          },
          "metadata": {
            "tags": []
          },
          "execution_count": 7
        }
      ]
    },
    {
      "cell_type": "code",
      "metadata": {
        "id": "zZdaTiUk0fqE",
        "colab": {
          "base_uri": "https://localhost:8080/",
          "height": 195
        },
        "outputId": "5d7f101e-5ce9-4c0b-88d4-2fffe3f3972a"
      },
      "source": [
        "# show columns and last five rows\r\n",
        "\r\n",
        "df.tail()"
      ],
      "execution_count": 9,
      "outputs": [
        {
          "output_type": "execute_result",
          "data": {
            "text/html": [
              "<div>\n",
              "<style scoped>\n",
              "    .dataframe tbody tr th:only-of-type {\n",
              "        vertical-align: middle;\n",
              "    }\n",
              "\n",
              "    .dataframe tbody tr th {\n",
              "        vertical-align: top;\n",
              "    }\n",
              "\n",
              "    .dataframe thead th {\n",
              "        text-align: right;\n",
              "    }\n",
              "</style>\n",
              "<table border=\"1\" class=\"dataframe\">\n",
              "  <thead>\n",
              "    <tr style=\"text-align: right;\">\n",
              "      <th></th>\n",
              "      <th>date</th>\n",
              "      <th>state</th>\n",
              "      <th>fips</th>\n",
              "      <th>cases</th>\n",
              "      <th>deaths</th>\n",
              "    </tr>\n",
              "  </thead>\n",
              "  <tbody>\n",
              "    <tr>\n",
              "      <th>17664</th>\n",
              "      <td>2021-01-17</td>\n",
              "      <td>Virginia</td>\n",
              "      <td>51</td>\n",
              "      <td>439305</td>\n",
              "      <td>5729</td>\n",
              "    </tr>\n",
              "    <tr>\n",
              "      <th>17665</th>\n",
              "      <td>2021-01-17</td>\n",
              "      <td>Washington</td>\n",
              "      <td>53</td>\n",
              "      <td>293296</td>\n",
              "      <td>3971</td>\n",
              "    </tr>\n",
              "    <tr>\n",
              "      <th>17666</th>\n",
              "      <td>2021-01-17</td>\n",
              "      <td>West Virginia</td>\n",
              "      <td>54</td>\n",
              "      <td>108821</td>\n",
              "      <td>1776</td>\n",
              "    </tr>\n",
              "    <tr>\n",
              "      <th>17667</th>\n",
              "      <td>2021-01-17</td>\n",
              "      <td>Wisconsin</td>\n",
              "      <td>55</td>\n",
              "      <td>568166</td>\n",
              "      <td>5907</td>\n",
              "    </tr>\n",
              "    <tr>\n",
              "      <th>17668</th>\n",
              "      <td>2021-01-17</td>\n",
              "      <td>Wyoming</td>\n",
              "      <td>56</td>\n",
              "      <td>49363</td>\n",
              "      <td>522</td>\n",
              "    </tr>\n",
              "  </tbody>\n",
              "</table>\n",
              "</div>"
            ],
            "text/plain": [
              "             date          state  fips   cases  deaths\n",
              "17664  2021-01-17       Virginia    51  439305    5729\n",
              "17665  2021-01-17     Washington    53  293296    3971\n",
              "17666  2021-01-17  West Virginia    54  108821    1776\n",
              "17667  2021-01-17      Wisconsin    55  568166    5907\n",
              "17668  2021-01-17        Wyoming    56   49363     522"
            ]
          },
          "metadata": {
            "tags": []
          },
          "execution_count": 9
        }
      ]
    },
    {
      "cell_type": "code",
      "metadata": {
        "colab": {
          "base_uri": "https://localhost:8080/"
        },
        "id": "7FeYCv-kPgKu",
        "outputId": "3309cd98-3835-4ce0-cc6b-37faa7074982"
      },
      "source": [
        "# checking data types\r\n",
        "\r\n",
        "df.dtypes"
      ],
      "execution_count": 8,
      "outputs": [
        {
          "output_type": "execute_result",
          "data": {
            "text/plain": [
              "date      object\n",
              "state     object\n",
              "fips       int64\n",
              "cases      int64\n",
              "deaths     int64\n",
              "dtype: object"
            ]
          },
          "metadata": {
            "tags": []
          },
          "execution_count": 8
        }
      ]
    },
    {
      "cell_type": "code",
      "metadata": {
        "colab": {
          "base_uri": "https://localhost:8080/"
        },
        "id": "KDSUXt5YjpqI",
        "outputId": "7f681c4b-b303-4a52-9688-7d6643abe5e2"
      },
      "source": [
        "# change 'date' data type to datetime\r\n",
        "df['date'] = pd.to_datetime(df['date'])\r\n",
        "df.dtypes"
      ],
      "execution_count": 64,
      "outputs": [
        {
          "output_type": "execute_result",
          "data": {
            "text/plain": [
              "date      datetime64[ns]\n",
              "state             object\n",
              "fips               int64\n",
              "cases              int64\n",
              "deaths             int64\n",
              "dtype: object"
            ]
          },
          "metadata": {
            "tags": []
          },
          "execution_count": 64
        }
      ]
    },
    {
      "cell_type": "markdown",
      "metadata": {
        "id": "dXToiyPccf4h"
      },
      "source": [
        "# Task 3 : Data Wrangling and EDA (Exploratory Data Analysis)"
      ]
    },
    {
      "cell_type": "markdown",
      "metadata": {
        "id": "XrywUhma1LD6"
      },
      "source": [
        "**1. Analyzing New York state data for Covid 19**"
      ]
    },
    {
      "cell_type": "code",
      "metadata": {
        "id": "-IXvRlig1Qjq",
        "colab": {
          "base_uri": "https://localhost:8080/",
          "height": 402
        },
        "outputId": "d199af64-f427-47bf-faae-ad82252bb75b"
      },
      "source": [
        "# extract New York data into new data frame\r\n",
        "\r\n",
        "New_York_df = df[df['state'] == 'New York']\r\n",
        "New_York_df"
      ],
      "execution_count": 10,
      "outputs": [
        {
          "output_type": "execute_result",
          "data": {
            "text/html": [
              "<div>\n",
              "<style scoped>\n",
              "    .dataframe tbody tr th:only-of-type {\n",
              "        vertical-align: middle;\n",
              "    }\n",
              "\n",
              "    .dataframe tbody tr th {\n",
              "        vertical-align: top;\n",
              "    }\n",
              "\n",
              "    .dataframe thead th {\n",
              "        text-align: right;\n",
              "    }\n",
              "</style>\n",
              "<table border=\"1\" class=\"dataframe\">\n",
              "  <thead>\n",
              "    <tr style=\"text-align: right;\">\n",
              "      <th></th>\n",
              "      <th>date</th>\n",
              "      <th>state</th>\n",
              "      <th>fips</th>\n",
              "      <th>cases</th>\n",
              "      <th>deaths</th>\n",
              "    </tr>\n",
              "  </thead>\n",
              "  <tbody>\n",
              "    <tr>\n",
              "      <th>246</th>\n",
              "      <td>2020-03-01</td>\n",
              "      <td>New York</td>\n",
              "      <td>36</td>\n",
              "      <td>1</td>\n",
              "      <td>0</td>\n",
              "    </tr>\n",
              "    <tr>\n",
              "      <th>261</th>\n",
              "      <td>2020-03-02</td>\n",
              "      <td>New York</td>\n",
              "      <td>36</td>\n",
              "      <td>1</td>\n",
              "      <td>0</td>\n",
              "    </tr>\n",
              "    <tr>\n",
              "      <th>276</th>\n",
              "      <td>2020-03-03</td>\n",
              "      <td>New York</td>\n",
              "      <td>36</td>\n",
              "      <td>2</td>\n",
              "      <td>0</td>\n",
              "    </tr>\n",
              "    <tr>\n",
              "      <th>293</th>\n",
              "      <td>2020-03-04</td>\n",
              "      <td>New York</td>\n",
              "      <td>36</td>\n",
              "      <td>11</td>\n",
              "      <td>0</td>\n",
              "    </tr>\n",
              "    <tr>\n",
              "      <th>313</th>\n",
              "      <td>2020-03-05</td>\n",
              "      <td>New York</td>\n",
              "      <td>36</td>\n",
              "      <td>22</td>\n",
              "      <td>0</td>\n",
              "    </tr>\n",
              "    <tr>\n",
              "      <th>...</th>\n",
              "      <td>...</td>\n",
              "      <td>...</td>\n",
              "      <td>...</td>\n",
              "      <td>...</td>\n",
              "      <td>...</td>\n",
              "    </tr>\n",
              "    <tr>\n",
              "      <th>17427</th>\n",
              "      <td>2021-01-13</td>\n",
              "      <td>New York</td>\n",
              "      <td>36</td>\n",
              "      <td>1179523</td>\n",
              "      <td>39760</td>\n",
              "    </tr>\n",
              "    <tr>\n",
              "      <th>17482</th>\n",
              "      <td>2021-01-14</td>\n",
              "      <td>New York</td>\n",
              "      <td>36</td>\n",
              "      <td>1193710</td>\n",
              "      <td>39997</td>\n",
              "    </tr>\n",
              "    <tr>\n",
              "      <th>17537</th>\n",
              "      <td>2021-01-15</td>\n",
              "      <td>New York</td>\n",
              "      <td>36</td>\n",
              "      <td>1213179</td>\n",
              "      <td>40203</td>\n",
              "    </tr>\n",
              "    <tr>\n",
              "      <th>17592</th>\n",
              "      <td>2021-01-16</td>\n",
              "      <td>New York</td>\n",
              "      <td>36</td>\n",
              "      <td>1229124</td>\n",
              "      <td>40376</td>\n",
              "    </tr>\n",
              "    <tr>\n",
              "      <th>17647</th>\n",
              "      <td>2021-01-17</td>\n",
              "      <td>New York</td>\n",
              "      <td>36</td>\n",
              "      <td>1242818</td>\n",
              "      <td>40570</td>\n",
              "    </tr>\n",
              "  </tbody>\n",
              "</table>\n",
              "<p>323 rows × 5 columns</p>\n",
              "</div>"
            ],
            "text/plain": [
              "             date     state  fips    cases  deaths\n",
              "246    2020-03-01  New York    36        1       0\n",
              "261    2020-03-02  New York    36        1       0\n",
              "276    2020-03-03  New York    36        2       0\n",
              "293    2020-03-04  New York    36       11       0\n",
              "313    2020-03-05  New York    36       22       0\n",
              "...           ...       ...   ...      ...     ...\n",
              "17427  2021-01-13  New York    36  1179523   39760\n",
              "17482  2021-01-14  New York    36  1193710   39997\n",
              "17537  2021-01-15  New York    36  1213179   40203\n",
              "17592  2021-01-16  New York    36  1229124   40376\n",
              "17647  2021-01-17  New York    36  1242818   40570\n",
              "\n",
              "[323 rows x 5 columns]"
            ]
          },
          "metadata": {
            "tags": []
          },
          "execution_count": 10
        }
      ]
    },
    {
      "cell_type": "code",
      "metadata": {
        "id": "vAPsO4Yq1yAj",
        "colab": {
          "base_uri": "https://localhost:8080/"
        },
        "outputId": "c98b4a00-b757-4159-e41d-adfc6150ac70"
      },
      "source": [
        "# What is the average daily case count?\r\n",
        "\r\n",
        "Avg_Cases = New_York_df['cases'].mean()\r\n",
        "Avg_Cases"
      ],
      "execution_count": 11,
      "outputs": [
        {
          "output_type": "execute_result",
          "data": {
            "text/plain": [
              "449848.14241486066"
            ]
          },
          "metadata": {
            "tags": []
          },
          "execution_count": 11
        }
      ]
    },
    {
      "cell_type": "code",
      "metadata": {
        "id": "XNuZqUlI1096",
        "colab": {
          "base_uri": "https://localhost:8080/"
        },
        "outputId": "efd8ee82-6a4e-436c-d0f5-ef05eee75eb7"
      },
      "source": [
        "# What is the average daily death count?\r\n",
        "\r\n",
        "Avg_Deaths = New_York_df['deaths'].mean()\r\n",
        "Avg_Deaths"
      ],
      "execution_count": 12,
      "outputs": [
        {
          "output_type": "execute_result",
          "data": {
            "text/plain": [
              "27816.811145510837"
            ]
          },
          "metadata": {
            "tags": []
          },
          "execution_count": 12
        }
      ]
    },
    {
      "cell_type": "code",
      "metadata": {
        "id": "TNYs0GNm4K5O",
        "colab": {
          "base_uri": "https://localhost:8080/",
          "height": 402
        },
        "outputId": "34ea50e5-c49e-4031-b9f1-b28d653326a0"
      },
      "source": [
        "# Delete 'fips' column from data frame. Extraneous data\r\n",
        "\r\n",
        "NY_df = New_York_df.drop('fips', axis = 1)\r\n",
        "NY_df"
      ],
      "execution_count": 13,
      "outputs": [
        {
          "output_type": "execute_result",
          "data": {
            "text/html": [
              "<div>\n",
              "<style scoped>\n",
              "    .dataframe tbody tr th:only-of-type {\n",
              "        vertical-align: middle;\n",
              "    }\n",
              "\n",
              "    .dataframe tbody tr th {\n",
              "        vertical-align: top;\n",
              "    }\n",
              "\n",
              "    .dataframe thead th {\n",
              "        text-align: right;\n",
              "    }\n",
              "</style>\n",
              "<table border=\"1\" class=\"dataframe\">\n",
              "  <thead>\n",
              "    <tr style=\"text-align: right;\">\n",
              "      <th></th>\n",
              "      <th>date</th>\n",
              "      <th>state</th>\n",
              "      <th>cases</th>\n",
              "      <th>deaths</th>\n",
              "    </tr>\n",
              "  </thead>\n",
              "  <tbody>\n",
              "    <tr>\n",
              "      <th>246</th>\n",
              "      <td>2020-03-01</td>\n",
              "      <td>New York</td>\n",
              "      <td>1</td>\n",
              "      <td>0</td>\n",
              "    </tr>\n",
              "    <tr>\n",
              "      <th>261</th>\n",
              "      <td>2020-03-02</td>\n",
              "      <td>New York</td>\n",
              "      <td>1</td>\n",
              "      <td>0</td>\n",
              "    </tr>\n",
              "    <tr>\n",
              "      <th>276</th>\n",
              "      <td>2020-03-03</td>\n",
              "      <td>New York</td>\n",
              "      <td>2</td>\n",
              "      <td>0</td>\n",
              "    </tr>\n",
              "    <tr>\n",
              "      <th>293</th>\n",
              "      <td>2020-03-04</td>\n",
              "      <td>New York</td>\n",
              "      <td>11</td>\n",
              "      <td>0</td>\n",
              "    </tr>\n",
              "    <tr>\n",
              "      <th>313</th>\n",
              "      <td>2020-03-05</td>\n",
              "      <td>New York</td>\n",
              "      <td>22</td>\n",
              "      <td>0</td>\n",
              "    </tr>\n",
              "    <tr>\n",
              "      <th>...</th>\n",
              "      <td>...</td>\n",
              "      <td>...</td>\n",
              "      <td>...</td>\n",
              "      <td>...</td>\n",
              "    </tr>\n",
              "    <tr>\n",
              "      <th>17427</th>\n",
              "      <td>2021-01-13</td>\n",
              "      <td>New York</td>\n",
              "      <td>1179523</td>\n",
              "      <td>39760</td>\n",
              "    </tr>\n",
              "    <tr>\n",
              "      <th>17482</th>\n",
              "      <td>2021-01-14</td>\n",
              "      <td>New York</td>\n",
              "      <td>1193710</td>\n",
              "      <td>39997</td>\n",
              "    </tr>\n",
              "    <tr>\n",
              "      <th>17537</th>\n",
              "      <td>2021-01-15</td>\n",
              "      <td>New York</td>\n",
              "      <td>1213179</td>\n",
              "      <td>40203</td>\n",
              "    </tr>\n",
              "    <tr>\n",
              "      <th>17592</th>\n",
              "      <td>2021-01-16</td>\n",
              "      <td>New York</td>\n",
              "      <td>1229124</td>\n",
              "      <td>40376</td>\n",
              "    </tr>\n",
              "    <tr>\n",
              "      <th>17647</th>\n",
              "      <td>2021-01-17</td>\n",
              "      <td>New York</td>\n",
              "      <td>1242818</td>\n",
              "      <td>40570</td>\n",
              "    </tr>\n",
              "  </tbody>\n",
              "</table>\n",
              "<p>323 rows × 4 columns</p>\n",
              "</div>"
            ],
            "text/plain": [
              "             date     state    cases  deaths\n",
              "246    2020-03-01  New York        1       0\n",
              "261    2020-03-02  New York        1       0\n",
              "276    2020-03-03  New York        2       0\n",
              "293    2020-03-04  New York       11       0\n",
              "313    2020-03-05  New York       22       0\n",
              "...           ...       ...      ...     ...\n",
              "17427  2021-01-13  New York  1179523   39760\n",
              "17482  2021-01-14  New York  1193710   39997\n",
              "17537  2021-01-15  New York  1213179   40203\n",
              "17592  2021-01-16  New York  1229124   40376\n",
              "17647  2021-01-17  New York  1242818   40570\n",
              "\n",
              "[323 rows x 4 columns]"
            ]
          },
          "metadata": {
            "tags": []
          },
          "execution_count": 13
        }
      ]
    },
    {
      "cell_type": "code",
      "metadata": {
        "colab": {
          "base_uri": "https://localhost:8080/"
        },
        "id": "Lbrz5_9Qea7I",
        "outputId": "3b2f218b-40d0-473a-db83-b3950f724a85"
      },
      "source": [
        "# change date to datetime\n",
        "NY_df['date'] = pd.to_datetime(NY_df['date'])\n",
        "NY_df['date']"
      ],
      "execution_count": 19,
      "outputs": [
        {
          "output_type": "execute_result",
          "data": {
            "text/plain": [
              "246     2020-03-01\n",
              "261     2020-03-02\n",
              "276     2020-03-03\n",
              "293     2020-03-04\n",
              "313     2020-03-05\n",
              "           ...    \n",
              "17427   2021-01-13\n",
              "17482   2021-01-14\n",
              "17537   2021-01-15\n",
              "17592   2021-01-16\n",
              "17647   2021-01-17\n",
              "Name: date, Length: 323, dtype: datetime64[ns]"
            ]
          },
          "metadata": {
            "tags": []
          },
          "execution_count": 19
        }
      ]
    },
    {
      "cell_type": "code",
      "metadata": {
        "colab": {
          "base_uri": "https://localhost:8080/"
        },
        "id": "FcDdzf2RO6fP",
        "outputId": "cc5eb0a9-ce92-43a3-e9c3-72022734acac"
      },
      "source": [
        "# check data types\r\n",
        "NY_df.dtypes"
      ],
      "execution_count": 20,
      "outputs": [
        {
          "output_type": "execute_result",
          "data": {
            "text/plain": [
              "date      datetime64[ns]\n",
              "state             object\n",
              "cases              int64\n",
              "deaths             int64\n",
              "dtype: object"
            ]
          },
          "metadata": {
            "tags": []
          },
          "execution_count": 20
        }
      ]
    },
    {
      "cell_type": "code",
      "metadata": {
        "id": "QfaJDBRcQP-e",
        "colab": {
          "base_uri": "https://localhost:8080/",
          "height": 402
        },
        "outputId": "244cac71-889d-4a66-8503-829728ce4cf3"
      },
      "source": [
        "NY_df"
      ],
      "execution_count": 21,
      "outputs": [
        {
          "output_type": "execute_result",
          "data": {
            "text/html": [
              "<div>\n",
              "<style scoped>\n",
              "    .dataframe tbody tr th:only-of-type {\n",
              "        vertical-align: middle;\n",
              "    }\n",
              "\n",
              "    .dataframe tbody tr th {\n",
              "        vertical-align: top;\n",
              "    }\n",
              "\n",
              "    .dataframe thead th {\n",
              "        text-align: right;\n",
              "    }\n",
              "</style>\n",
              "<table border=\"1\" class=\"dataframe\">\n",
              "  <thead>\n",
              "    <tr style=\"text-align: right;\">\n",
              "      <th></th>\n",
              "      <th>date</th>\n",
              "      <th>state</th>\n",
              "      <th>cases</th>\n",
              "      <th>deaths</th>\n",
              "    </tr>\n",
              "  </thead>\n",
              "  <tbody>\n",
              "    <tr>\n",
              "      <th>246</th>\n",
              "      <td>2020-03-01</td>\n",
              "      <td>New York</td>\n",
              "      <td>1</td>\n",
              "      <td>0</td>\n",
              "    </tr>\n",
              "    <tr>\n",
              "      <th>261</th>\n",
              "      <td>2020-03-02</td>\n",
              "      <td>New York</td>\n",
              "      <td>1</td>\n",
              "      <td>0</td>\n",
              "    </tr>\n",
              "    <tr>\n",
              "      <th>276</th>\n",
              "      <td>2020-03-03</td>\n",
              "      <td>New York</td>\n",
              "      <td>2</td>\n",
              "      <td>0</td>\n",
              "    </tr>\n",
              "    <tr>\n",
              "      <th>293</th>\n",
              "      <td>2020-03-04</td>\n",
              "      <td>New York</td>\n",
              "      <td>11</td>\n",
              "      <td>0</td>\n",
              "    </tr>\n",
              "    <tr>\n",
              "      <th>313</th>\n",
              "      <td>2020-03-05</td>\n",
              "      <td>New York</td>\n",
              "      <td>22</td>\n",
              "      <td>0</td>\n",
              "    </tr>\n",
              "    <tr>\n",
              "      <th>...</th>\n",
              "      <td>...</td>\n",
              "      <td>...</td>\n",
              "      <td>...</td>\n",
              "      <td>...</td>\n",
              "    </tr>\n",
              "    <tr>\n",
              "      <th>17427</th>\n",
              "      <td>2021-01-13</td>\n",
              "      <td>New York</td>\n",
              "      <td>1179523</td>\n",
              "      <td>39760</td>\n",
              "    </tr>\n",
              "    <tr>\n",
              "      <th>17482</th>\n",
              "      <td>2021-01-14</td>\n",
              "      <td>New York</td>\n",
              "      <td>1193710</td>\n",
              "      <td>39997</td>\n",
              "    </tr>\n",
              "    <tr>\n",
              "      <th>17537</th>\n",
              "      <td>2021-01-15</td>\n",
              "      <td>New York</td>\n",
              "      <td>1213179</td>\n",
              "      <td>40203</td>\n",
              "    </tr>\n",
              "    <tr>\n",
              "      <th>17592</th>\n",
              "      <td>2021-01-16</td>\n",
              "      <td>New York</td>\n",
              "      <td>1229124</td>\n",
              "      <td>40376</td>\n",
              "    </tr>\n",
              "    <tr>\n",
              "      <th>17647</th>\n",
              "      <td>2021-01-17</td>\n",
              "      <td>New York</td>\n",
              "      <td>1242818</td>\n",
              "      <td>40570</td>\n",
              "    </tr>\n",
              "  </tbody>\n",
              "</table>\n",
              "<p>323 rows × 4 columns</p>\n",
              "</div>"
            ],
            "text/plain": [
              "            date     state    cases  deaths\n",
              "246   2020-03-01  New York        1       0\n",
              "261   2020-03-02  New York        1       0\n",
              "276   2020-03-03  New York        2       0\n",
              "293   2020-03-04  New York       11       0\n",
              "313   2020-03-05  New York       22       0\n",
              "...          ...       ...      ...     ...\n",
              "17427 2021-01-13  New York  1179523   39760\n",
              "17482 2021-01-14  New York  1193710   39997\n",
              "17537 2021-01-15  New York  1213179   40203\n",
              "17592 2021-01-16  New York  1229124   40376\n",
              "17647 2021-01-17  New York  1242818   40570\n",
              "\n",
              "[323 rows x 4 columns]"
            ]
          },
          "metadata": {
            "tags": []
          },
          "execution_count": 21
        }
      ]
    },
    {
      "cell_type": "code",
      "metadata": {
        "id": "U_F6tOghZw0G"
      },
      "source": [
        "# change date values to \"mmyy\" format and create new data frame\r\n",
        "\r\n",
        "# NY_month_df = pd.datetime(NY_df['date'], format = \"%m%Y\")"
      ],
      "execution_count": null,
      "outputs": []
    },
    {
      "cell_type": "code",
      "metadata": {
        "id": "z7sGUFdO2CAo",
        "colab": {
          "base_uri": "https://localhost:8080/",
          "height": 319
        },
        "outputId": "baf5e9b0-85d4-4a72-c51b-bd7ddf332f85"
      },
      "source": [
        "# Plot cases and deaths over time\r\n",
        "\r\n",
        "NY_df.plot(x='date')"
      ],
      "execution_count": 26,
      "outputs": [
        {
          "output_type": "execute_result",
          "data": {
            "text/plain": [
              "<matplotlib.axes._subplots.AxesSubplot at 0x7f7fec23c5c0>"
            ]
          },
          "metadata": {
            "tags": []
          },
          "execution_count": 26
        },
        {
          "output_type": "display_data",
          "data": {
            "image/png": "[encoded data removed]",
            "text/plain": [
              "<Figure size 432x288 with 1 Axes>"
            ]
          },
          "metadata": {
            "tags": [],
            "needs_background": "light"
          }
        }
      ]
    },
    {
      "cell_type": "code",
      "metadata": {
        "colab": {
          "base_uri": "https://localhost:8080/",
          "height": 458
        },
        "id": "4HDC4pk_V525",
        "outputId": "126664b3-23eb-4973-9fcf-0196480b3dce"
      },
      "source": [
        "# graphing cases over time\r\n",
        "\r\n",
        "sns.jointplot(x='date', y='cases', data=NY_df)"
      ],
      "execution_count": 23,
      "outputs": [
        {
          "output_type": "execute_result",
          "data": {
            "text/plain": [
              "<seaborn.axisgrid.JointGrid at 0x7f7ff4c50be0>"
            ]
          },
          "metadata": {
            "tags": []
          },
          "execution_count": 23
        },
        {
          "output_type": "display_data",
          "data": {
            "image/png": "[encoded data removed]",
            "text/plain": [
              "<Figure size 432x432 with 3 Axes>"
            ]
          },
          "metadata": {
            "tags": [],
            "needs_background": "light"
          }
        }
      ]
    },
    {
      "cell_type": "code",
      "metadata": {
        "colab": {
          "base_uri": "https://localhost:8080/",
          "height": 458
        },
        "id": "VD9bnJNRfZhN",
        "outputId": "392b7f76-8ca2-4657-d423-ca32d29ba934"
      },
      "source": [
        "# plotting deaths over time\r\n",
        "\r\n",
        "sns.jointplot(x='date', y='deaths', data=NY_df)"
      ],
      "execution_count": null,
      "outputs": [
        {
          "output_type": "execute_result",
          "data": {
            "text/plain": [
              "<seaborn.axisgrid.JointGrid at 0x7ff303c8ac50>"
            ]
          },
          "metadata": {
            "tags": []
          },
          "execution_count": 162
        },
        {
          "output_type": "display_data",
          "data": {
            "image/png": "[encoded data removed]",
            "text/plain": [
              "<Figure size 432x432 with 3 Axes>"
            ]
          },
          "metadata": {
            "tags": [],
            "needs_background": "light"
          }
        }
      ]
    },
    {
      "cell_type": "code",
      "metadata": {
        "colab": {
          "base_uri": "https://localhost:8080/",
          "height": 458
        },
        "id": "PdzjrUjjfpPM",
        "outputId": "bd759056-7ff5-49c5-8e10-7f86223b010f"
      },
      "source": [
        "# new daily cases over time\r\n",
        "\r\n",
        "sns.jointplot(x='date', y='New Daily Cases', data=NY_df)"
      ],
      "execution_count": null,
      "outputs": [
        {
          "output_type": "execute_result",
          "data": {
            "text/plain": [
              "<seaborn.axisgrid.JointGrid at 0x7ff304fffd30>"
            ]
          },
          "metadata": {
            "tags": []
          },
          "execution_count": 163
        },
        {
          "output_type": "display_data",
          "data": {
            "image/png": "[encoded data removed]",
            "text/plain": [
              "<Figure size 432x432 with 3 Axes>"
            ]
          },
          "metadata": {
            "tags": [],
            "needs_background": "light"
          }
        }
      ]
    },
    {
      "cell_type": "markdown",
      "metadata": {
        "id": "vUbZP5tccvEp"
      },
      "source": [
        "**2. Find new covid 19 cases daily basis (new cases added everyday)**"
      ]
    },
    {
      "cell_type": "code",
      "metadata": {
        "id": "yKryzOu25uDi",
        "colab": {
          "base_uri": "https://localhost:8080/"
        },
        "outputId": "c33a871e-a2ff-4b40-d2d3-b7c5e3345154"
      },
      "source": [
        "difference = NY_df['cases'].diff()\r\n",
        "difference\r\n"
      ],
      "execution_count": 24,
      "outputs": [
        {
          "output_type": "execute_result",
          "data": {
            "text/plain": [
              "246          NaN\n",
              "261          0.0\n",
              "276          1.0\n",
              "293          9.0\n",
              "313         11.0\n",
              "          ...   \n",
              "17427    14704.0\n",
              "17482    14187.0\n",
              "17537    19469.0\n",
              "17592    15945.0\n",
              "17647    13694.0\n",
              "Name: cases, Length: 323, dtype: float64"
            ]
          },
          "metadata": {
            "tags": []
          },
          "execution_count": 24
        }
      ]
    },
    {
      "cell_type": "code",
      "metadata": {
        "id": "CvPTpg6T-p15",
        "colab": {
          "base_uri": "https://localhost:8080/",
          "height": 402
        },
        "outputId": "06e77d24-8300-4da9-ec96-c72785304a78"
      },
      "source": [
        "# add 'difference' column to dataframe\r\n",
        "\r\n",
        "NY_df['New Daily Cases'] = difference\r\n",
        "NY_df"
      ],
      "execution_count": 25,
      "outputs": [
        {
          "output_type": "execute_result",
          "data": {
            "text/html": [
              "<div>\n",
              "<style scoped>\n",
              "    .dataframe tbody tr th:only-of-type {\n",
              "        vertical-align: middle;\n",
              "    }\n",
              "\n",
              "    .dataframe tbody tr th {\n",
              "        vertical-align: top;\n",
              "    }\n",
              "\n",
              "    .dataframe thead th {\n",
              "        text-align: right;\n",
              "    }\n",
              "</style>\n",
              "<table border=\"1\" class=\"dataframe\">\n",
              "  <thead>\n",
              "    <tr style=\"text-align: right;\">\n",
              "      <th></th>\n",
              "      <th>date</th>\n",
              "      <th>state</th>\n",
              "      <th>cases</th>\n",
              "      <th>deaths</th>\n",
              "      <th>New Daily Cases</th>\n",
              "    </tr>\n",
              "  </thead>\n",
              "  <tbody>\n",
              "    <tr>\n",
              "      <th>246</th>\n",
              "      <td>2020-03-01</td>\n",
              "      <td>New York</td>\n",
              "      <td>1</td>\n",
              "      <td>0</td>\n",
              "      <td>NaN</td>\n",
              "    </tr>\n",
              "    <tr>\n",
              "      <th>261</th>\n",
              "      <td>2020-03-02</td>\n",
              "      <td>New York</td>\n",
              "      <td>1</td>\n",
              "      <td>0</td>\n",
              "      <td>0.0</td>\n",
              "    </tr>\n",
              "    <tr>\n",
              "      <th>276</th>\n",
              "      <td>2020-03-03</td>\n",
              "      <td>New York</td>\n",
              "      <td>2</td>\n",
              "      <td>0</td>\n",
              "      <td>1.0</td>\n",
              "    </tr>\n",
              "    <tr>\n",
              "      <th>293</th>\n",
              "      <td>2020-03-04</td>\n",
              "      <td>New York</td>\n",
              "      <td>11</td>\n",
              "      <td>0</td>\n",
              "      <td>9.0</td>\n",
              "    </tr>\n",
              "    <tr>\n",
              "      <th>313</th>\n",
              "      <td>2020-03-05</td>\n",
              "      <td>New York</td>\n",
              "      <td>22</td>\n",
              "      <td>0</td>\n",
              "      <td>11.0</td>\n",
              "    </tr>\n",
              "    <tr>\n",
              "      <th>...</th>\n",
              "      <td>...</td>\n",
              "      <td>...</td>\n",
              "      <td>...</td>\n",
              "      <td>...</td>\n",
              "      <td>...</td>\n",
              "    </tr>\n",
              "    <tr>\n",
              "      <th>17427</th>\n",
              "      <td>2021-01-13</td>\n",
              "      <td>New York</td>\n",
              "      <td>1179523</td>\n",
              "      <td>39760</td>\n",
              "      <td>14704.0</td>\n",
              "    </tr>\n",
              "    <tr>\n",
              "      <th>17482</th>\n",
              "      <td>2021-01-14</td>\n",
              "      <td>New York</td>\n",
              "      <td>1193710</td>\n",
              "      <td>39997</td>\n",
              "      <td>14187.0</td>\n",
              "    </tr>\n",
              "    <tr>\n",
              "      <th>17537</th>\n",
              "      <td>2021-01-15</td>\n",
              "      <td>New York</td>\n",
              "      <td>1213179</td>\n",
              "      <td>40203</td>\n",
              "      <td>19469.0</td>\n",
              "    </tr>\n",
              "    <tr>\n",
              "      <th>17592</th>\n",
              "      <td>2021-01-16</td>\n",
              "      <td>New York</td>\n",
              "      <td>1229124</td>\n",
              "      <td>40376</td>\n",
              "      <td>15945.0</td>\n",
              "    </tr>\n",
              "    <tr>\n",
              "      <th>17647</th>\n",
              "      <td>2021-01-17</td>\n",
              "      <td>New York</td>\n",
              "      <td>1242818</td>\n",
              "      <td>40570</td>\n",
              "      <td>13694.0</td>\n",
              "    </tr>\n",
              "  </tbody>\n",
              "</table>\n",
              "<p>323 rows × 5 columns</p>\n",
              "</div>"
            ],
            "text/plain": [
              "            date     state    cases  deaths  New Daily Cases\n",
              "246   2020-03-01  New York        1       0              NaN\n",
              "261   2020-03-02  New York        1       0              0.0\n",
              "276   2020-03-03  New York        2       0              1.0\n",
              "293   2020-03-04  New York       11       0              9.0\n",
              "313   2020-03-05  New York       22       0             11.0\n",
              "...          ...       ...      ...     ...              ...\n",
              "17427 2021-01-13  New York  1179523   39760          14704.0\n",
              "17482 2021-01-14  New York  1193710   39997          14187.0\n",
              "17537 2021-01-15  New York  1213179   40203          19469.0\n",
              "17592 2021-01-16  New York  1229124   40376          15945.0\n",
              "17647 2021-01-17  New York  1242818   40570          13694.0\n",
              "\n",
              "[323 rows x 5 columns]"
            ]
          },
          "metadata": {
            "tags": []
          },
          "execution_count": 25
        }
      ]
    },
    {
      "cell_type": "code",
      "metadata": {
        "id": "QDc2omEP_-qS",
        "colab": {
          "base_uri": "https://localhost:8080/",
          "height": 458
        },
        "outputId": "0027ce3d-7411-4355-ca78-4d372664e084"
      },
      "source": [
        "# plotting New Cases over time\r\n",
        "\r\n",
        "sns.jointplot(x='date', y='New Daily Cases', data=NY_df)"
      ],
      "execution_count": null,
      "outputs": [
        {
          "output_type": "execute_result",
          "data": {
            "text/plain": [
              "<seaborn.axisgrid.JointGrid at 0x7ff305678400>"
            ]
          },
          "metadata": {
            "tags": []
          },
          "execution_count": 147
        },
        {
          "output_type": "display_data",
          "data": {
            "image/png": "[encoded data removed]",
            "text/plain": [
              "<Figure size 432x432 with 3 Axes>"
            ]
          },
          "metadata": {
            "tags": [],
            "needs_background": "light"
          }
        }
      ]
    },
    {
      "cell_type": "code",
      "metadata": {
        "id": "-PtteplsAWT-"
      },
      "source": [
        ""
      ],
      "execution_count": null,
      "outputs": []
    },
    {
      "cell_type": "markdown",
      "metadata": {
        "id": "IKuLfv3SF27O"
      },
      "source": [
        "# Task4: Understand NY covid 19 data in last 30 days"
      ]
    },
    {
      "cell_type": "code",
      "metadata": {
        "id": "g-isLW6s4XaJ",
        "colab": {
          "base_uri": "https://localhost:8080/",
          "height": 935
        },
        "outputId": "892a97dd-59d3-47ec-8a0f-09a457aee976"
      },
      "source": [
        "# new dataframe for last 30 days\r\n",
        "\r\n",
        "Last_30_days_df = NY_df.tail(30)\r\n",
        "Last_30_days_df"
      ],
      "execution_count": 27,
      "outputs": [
        {
          "output_type": "execute_result",
          "data": {
            "text/html": [
              "<div>\n",
              "<style scoped>\n",
              "    .dataframe tbody tr th:only-of-type {\n",
              "        vertical-align: middle;\n",
              "    }\n",
              "\n",
              "    .dataframe tbody tr th {\n",
              "        vertical-align: top;\n",
              "    }\n",
              "\n",
              "    .dataframe thead th {\n",
              "        text-align: right;\n",
              "    }\n",
              "</style>\n",
              "<table border=\"1\" class=\"dataframe\">\n",
              "  <thead>\n",
              "    <tr style=\"text-align: right;\">\n",
              "      <th></th>\n",
              "      <th>date</th>\n",
              "      <th>state</th>\n",
              "      <th>cases</th>\n",
              "      <th>deaths</th>\n",
              "      <th>New Daily Cases</th>\n",
              "    </tr>\n",
              "  </thead>\n",
              "  <tbody>\n",
              "    <tr>\n",
              "      <th>16052</th>\n",
              "      <td>2020-12-19</td>\n",
              "      <td>New York</td>\n",
              "      <td>841946</td>\n",
              "      <td>35897</td>\n",
              "      <td>9913.0</td>\n",
              "    </tr>\n",
              "    <tr>\n",
              "      <th>16107</th>\n",
              "      <td>2020-12-20</td>\n",
              "      <td>New York</td>\n",
              "      <td>851400</td>\n",
              "      <td>36017</td>\n",
              "      <td>9454.0</td>\n",
              "    </tr>\n",
              "    <tr>\n",
              "      <th>16162</th>\n",
              "      <td>2020-12-21</td>\n",
              "      <td>New York</td>\n",
              "      <td>860856</td>\n",
              "      <td>36147</td>\n",
              "      <td>9456.0</td>\n",
              "    </tr>\n",
              "    <tr>\n",
              "      <th>16217</th>\n",
              "      <td>2020-12-22</td>\n",
              "      <td>New York</td>\n",
              "      <td>871155</td>\n",
              "      <td>36300</td>\n",
              "      <td>10299.0</td>\n",
              "    </tr>\n",
              "    <tr>\n",
              "      <th>16272</th>\n",
              "      <td>2020-12-23</td>\n",
              "      <td>New York</td>\n",
              "      <td>882895</td>\n",
              "      <td>36454</td>\n",
              "      <td>11740.0</td>\n",
              "    </tr>\n",
              "    <tr>\n",
              "      <th>16327</th>\n",
              "      <td>2020-12-24</td>\n",
              "      <td>New York</td>\n",
              "      <td>896242</td>\n",
              "      <td>36604</td>\n",
              "      <td>13347.0</td>\n",
              "    </tr>\n",
              "    <tr>\n",
              "      <th>16382</th>\n",
              "      <td>2020-12-25</td>\n",
              "      <td>New York</td>\n",
              "      <td>909123</td>\n",
              "      <td>36739</td>\n",
              "      <td>12881.0</td>\n",
              "    </tr>\n",
              "    <tr>\n",
              "      <th>16437</th>\n",
              "      <td>2020-12-26</td>\n",
              "      <td>New York</td>\n",
              "      <td>920171</td>\n",
              "      <td>36870</td>\n",
              "      <td>11048.0</td>\n",
              "    </tr>\n",
              "    <tr>\n",
              "      <th>16492</th>\n",
              "      <td>2020-12-27</td>\n",
              "      <td>New York</td>\n",
              "      <td>928376</td>\n",
              "      <td>37000</td>\n",
              "      <td>8205.0</td>\n",
              "    </tr>\n",
              "    <tr>\n",
              "      <th>16547</th>\n",
              "      <td>2020-12-28</td>\n",
              "      <td>New York</td>\n",
              "      <td>938710</td>\n",
              "      <td>37118</td>\n",
              "      <td>10334.0</td>\n",
              "    </tr>\n",
              "    <tr>\n",
              "      <th>16602</th>\n",
              "      <td>2020-12-29</td>\n",
              "      <td>New York</td>\n",
              "      <td>950730</td>\n",
              "      <td>37256</td>\n",
              "      <td>12020.0</td>\n",
              "    </tr>\n",
              "    <tr>\n",
              "      <th>16657</th>\n",
              "      <td>2020-12-30</td>\n",
              "      <td>New York</td>\n",
              "      <td>963647</td>\n",
              "      <td>37412</td>\n",
              "      <td>12917.0</td>\n",
              "    </tr>\n",
              "    <tr>\n",
              "      <th>16712</th>\n",
              "      <td>2020-12-31</td>\n",
              "      <td>New York</td>\n",
              "      <td>979040</td>\n",
              "      <td>37557</td>\n",
              "      <td>15393.0</td>\n",
              "    </tr>\n",
              "    <tr>\n",
              "      <th>16767</th>\n",
              "      <td>2021-01-01</td>\n",
              "      <td>New York</td>\n",
              "      <td>996073</td>\n",
              "      <td>37733</td>\n",
              "      <td>17033.0</td>\n",
              "    </tr>\n",
              "    <tr>\n",
              "      <th>16822</th>\n",
              "      <td>2021-01-02</td>\n",
              "      <td>New York</td>\n",
              "      <td>1011922</td>\n",
              "      <td>37854</td>\n",
              "      <td>15849.0</td>\n",
              "    </tr>\n",
              "    <tr>\n",
              "      <th>16877</th>\n",
              "      <td>2021-01-03</td>\n",
              "      <td>New York</td>\n",
              "      <td>1024154</td>\n",
              "      <td>38001</td>\n",
              "      <td>12232.0</td>\n",
              "    </tr>\n",
              "    <tr>\n",
              "      <th>16932</th>\n",
              "      <td>2021-01-04</td>\n",
              "      <td>New York</td>\n",
              "      <td>1035396</td>\n",
              "      <td>38167</td>\n",
              "      <td>11242.0</td>\n",
              "    </tr>\n",
              "    <tr>\n",
              "      <th>16987</th>\n",
              "      <td>2021-01-05</td>\n",
              "      <td>New York</td>\n",
              "      <td>1048538</td>\n",
              "      <td>38315</td>\n",
              "      <td>13142.0</td>\n",
              "    </tr>\n",
              "    <tr>\n",
              "      <th>17042</th>\n",
              "      <td>2021-01-06</td>\n",
              "      <td>New York</td>\n",
              "      <td>1064554</td>\n",
              "      <td>38486</td>\n",
              "      <td>16016.0</td>\n",
              "    </tr>\n",
              "    <tr>\n",
              "      <th>17097</th>\n",
              "      <td>2021-01-07</td>\n",
              "      <td>New York</td>\n",
              "      <td>1082142</td>\n",
              "      <td>38683</td>\n",
              "      <td>17588.0</td>\n",
              "    </tr>\n",
              "    <tr>\n",
              "      <th>17152</th>\n",
              "      <td>2021-01-08</td>\n",
              "      <td>New York</td>\n",
              "      <td>1101702</td>\n",
              "      <td>38846</td>\n",
              "      <td>19560.0</td>\n",
              "    </tr>\n",
              "    <tr>\n",
              "      <th>17207</th>\n",
              "      <td>2021-01-09</td>\n",
              "      <td>New York</td>\n",
              "      <td>1119541</td>\n",
              "      <td>39041</td>\n",
              "      <td>17839.0</td>\n",
              "    </tr>\n",
              "    <tr>\n",
              "      <th>17262</th>\n",
              "      <td>2021-01-10</td>\n",
              "      <td>New York</td>\n",
              "      <td>1135849</td>\n",
              "      <td>39208</td>\n",
              "      <td>16308.0</td>\n",
              "    </tr>\n",
              "    <tr>\n",
              "      <th>17317</th>\n",
              "      <td>2021-01-11</td>\n",
              "      <td>New York</td>\n",
              "      <td>1150028</td>\n",
              "      <td>39404</td>\n",
              "      <td>14179.0</td>\n",
              "    </tr>\n",
              "    <tr>\n",
              "      <th>17372</th>\n",
              "      <td>2021-01-12</td>\n",
              "      <td>New York</td>\n",
              "      <td>1164819</td>\n",
              "      <td>39588</td>\n",
              "      <td>14791.0</td>\n",
              "    </tr>\n",
              "    <tr>\n",
              "      <th>17427</th>\n",
              "      <td>2021-01-13</td>\n",
              "      <td>New York</td>\n",
              "      <td>1179523</td>\n",
              "      <td>39760</td>\n",
              "      <td>14704.0</td>\n",
              "    </tr>\n",
              "    <tr>\n",
              "      <th>17482</th>\n",
              "      <td>2021-01-14</td>\n",
              "      <td>New York</td>\n",
              "      <td>1193710</td>\n",
              "      <td>39997</td>\n",
              "      <td>14187.0</td>\n",
              "    </tr>\n",
              "    <tr>\n",
              "      <th>17537</th>\n",
              "      <td>2021-01-15</td>\n",
              "      <td>New York</td>\n",
              "      <td>1213179</td>\n",
              "      <td>40203</td>\n",
              "      <td>19469.0</td>\n",
              "    </tr>\n",
              "    <tr>\n",
              "      <th>17592</th>\n",
              "      <td>2021-01-16</td>\n",
              "      <td>New York</td>\n",
              "      <td>1229124</td>\n",
              "      <td>40376</td>\n",
              "      <td>15945.0</td>\n",
              "    </tr>\n",
              "    <tr>\n",
              "      <th>17647</th>\n",
              "      <td>2021-01-17</td>\n",
              "      <td>New York</td>\n",
              "      <td>1242818</td>\n",
              "      <td>40570</td>\n",
              "      <td>13694.0</td>\n",
              "    </tr>\n",
              "  </tbody>\n",
              "</table>\n",
              "</div>"
            ],
            "text/plain": [
              "            date     state    cases  deaths  New Daily Cases\n",
              "16052 2020-12-19  New York   841946   35897           9913.0\n",
              "16107 2020-12-20  New York   851400   36017           9454.0\n",
              "16162 2020-12-21  New York   860856   36147           9456.0\n",
              "16217 2020-12-22  New York   871155   36300          10299.0\n",
              "16272 2020-12-23  New York   882895   36454          11740.0\n",
              "16327 2020-12-24  New York   896242   36604          13347.0\n",
              "16382 2020-12-25  New York   909123   36739          12881.0\n",
              "16437 2020-12-26  New York   920171   36870          11048.0\n",
              "16492 2020-12-27  New York   928376   37000           8205.0\n",
              "16547 2020-12-28  New York   938710   37118          10334.0\n",
              "16602 2020-12-29  New York   950730   37256          12020.0\n",
              "16657 2020-12-30  New York   963647   37412          12917.0\n",
              "16712 2020-12-31  New York   979040   37557          15393.0\n",
              "16767 2021-01-01  New York   996073   37733          17033.0\n",
              "16822 2021-01-02  New York  1011922   37854          15849.0\n",
              "16877 2021-01-03  New York  1024154   38001          12232.0\n",
              "16932 2021-01-04  New York  1035396   38167          11242.0\n",
              "16987 2021-01-05  New York  1048538   38315          13142.0\n",
              "17042 2021-01-06  New York  1064554   38486          16016.0\n",
              "17097 2021-01-07  New York  1082142   38683          17588.0\n",
              "17152 2021-01-08  New York  1101702   38846          19560.0\n",
              "17207 2021-01-09  New York  1119541   39041          17839.0\n",
              "17262 2021-01-10  New York  1135849   39208          16308.0\n",
              "17317 2021-01-11  New York  1150028   39404          14179.0\n",
              "17372 2021-01-12  New York  1164819   39588          14791.0\n",
              "17427 2021-01-13  New York  1179523   39760          14704.0\n",
              "17482 2021-01-14  New York  1193710   39997          14187.0\n",
              "17537 2021-01-15  New York  1213179   40203          19469.0\n",
              "17592 2021-01-16  New York  1229124   40376          15945.0\n",
              "17647 2021-01-17  New York  1242818   40570          13694.0"
            ]
          },
          "metadata": {
            "tags": []
          },
          "execution_count": 27
        }
      ]
    },
    {
      "cell_type": "code",
      "metadata": {
        "id": "280y4sHrAyuk",
        "colab": {
          "base_uri": "https://localhost:8080/",
          "height": 458
        },
        "outputId": "ea6d4cad-ab63-4b82-bc0b-5b6729b9edbc"
      },
      "source": [
        "# plotting cases over last 30 days\r\n",
        "\r\n",
        "sns.jointplot(x='date', y='cases', data=Last_30_days_df)\r\n"
      ],
      "execution_count": 28,
      "outputs": [
        {
          "output_type": "execute_result",
          "data": {
            "text/plain": [
              "<seaborn.axisgrid.JointGrid at 0x7f7ff4b06e80>"
            ]
          },
          "metadata": {
            "tags": []
          },
          "execution_count": 28
        },
        {
          "output_type": "display_data",
          "data": {
            "image/png": "[encoded data removed]",
            "text/plain": [
              "<Figure size 432x432 with 3 Axes>"
            ]
          },
          "metadata": {
            "tags": [],
            "needs_background": "light"
          }
        }
      ]
    },
    {
      "cell_type": "code",
      "metadata": {
        "id": "BUDcyVRwHY6F",
        "colab": {
          "base_uri": "https://localhost:8080/",
          "height": 454
        },
        "outputId": "bb236720-6e2a-4d13-80fa-af1a02428dd5"
      },
      "source": [
        "# plotting death over last 30 days\r\n",
        "\r\n",
        "sns.jointplot(x='date', y='deaths', data=Last_30_days_df)"
      ],
      "execution_count": null,
      "outputs": [
        {
          "output_type": "execute_result",
          "data": {
            "text/plain": [
              "<seaborn.axisgrid.JointGrid at 0x7f1bb58e76a0>"
            ]
          },
          "metadata": {
            "tags": []
          },
          "execution_count": 182
        },
        {
          "output_type": "display_data",
          "data": {
            "image/png": "[encoded data removed]",
            "text/plain": [
              "<Figure size 432x432 with 3 Axes>"
            ]
          },
          "metadata": {
            "tags": []
          }
        }
      ]
    },
    {
      "cell_type": "markdown",
      "metadata": {
        "id": "PtjNZZmOdAhy"
      },
      "source": [
        "# Task5: Comparing Covid 19 data with different states"
      ]
    },
    {
      "cell_type": "markdown",
      "metadata": {
        "id": "HInHQMh0dHvu"
      },
      "source": [
        "**Let's compare the Covid 19 cases after July for states: New York, California, Florida, Texas, Arizona**"
      ]
    },
    {
      "cell_type": "code",
      "metadata": {
        "id": "R8uefJBunazw"
      },
      "source": [
        "# new data frame with selected states for comparison\r\n",
        "\r\n",
        "#comparision_df = df[df['state'] == ('New York','California' , 'Florida' , 'Texas' , 'Arizona')]\r\n",
        "#comparision_df"
      ],
      "execution_count": 29,
      "outputs": []
    },
    {
      "cell_type": "code",
      "metadata": {
        "id": "2xVCN1IBInu0",
        "colab": {
          "base_uri": "https://localhost:8080/",
          "height": 128
        },
        "outputId": "81633cd9-8f36-4ce8-c11f-9dc8095f015b"
      },
      "source": [
        "# sort dataframe after July\n",
        "\n",
        "# reindex__date_df = comparision_df.set_index['date'] > '2020-07-31'\n",
        "\n",
        "# California_df['date'] == [(2020-07-31):]\n",
        "# California_df.set_index('date')"
      ],
      "execution_count": 38,
      "outputs": [
        {
          "output_type": "error",
          "ename": "SyntaxError",
          "evalue": "ignored",
          "traceback": [
            "\u001b[0;36m  File \u001b[0;32m\"<ipython-input-38-6fae7f020242>\"\u001b[0;36m, line \u001b[0;32m5\u001b[0m\n\u001b[0;31m    California_df['date'] == [(2020-07-31):]\u001b[0m\n\u001b[0m                                     ^\u001b[0m\n\u001b[0;31mSyntaxError\u001b[0m\u001b[0;31m:\u001b[0m invalid token\n"
          ]
        }
      ]
    },
    {
      "cell_type": "code",
      "metadata": {
        "id": "vu_eV2RmHvyO"
      },
      "source": [
        "# state-by-state data frame\r\n",
        "\r\n",
        "California_df = df[df['state'] == 'California']\r\n",
        "Florida_df = df[df['state'] == 'Florida']\r\n",
        "Texas_df = df[df['state'] == 'Texas']\r\n",
        "Arizona_df = df[df['state'] == 'Arizona']\r\n"
      ],
      "execution_count": 65,
      "outputs": []
    },
    {
      "cell_type": "code",
      "metadata": {
        "colab": {
          "base_uri": "https://localhost:8080/",
          "height": 293
        },
        "id": "thlxZoXnhxDf",
        "outputId": "7b2e61d4-1cc1-4685-ffe6-1f5c8ad278d3"
      },
      "source": [
        "# plot state comparision of cases after July 2020\r\n",
        "\r\n",
        "plt.plot( 'date', 'cases', data=NY_df, marker='',color='blue',  linestyle='dashed',label='new york')\r\n",
        "plt.plot( 'date', 'cases', data=California_df, marker='', color='olive', linestyle='dashed',label='arizona')\r\n",
        "plt.plot( 'date', 'cases', data=Florida_df, marker='', color='pink', linestyle='dashed', label=\"california\")\r\n",
        "plt.plot( 'date', 'cases', data=Texas_df, marker='', color='black',  linestyle='dashed', label=\"florida\")\r\n",
        "plt.plot( 'date', 'cases', data=Arizona_df, marker='', color='red',  linestyle='dashed', label=\"texas\")\r\n",
        "plt.legend()"
      ],
      "execution_count": 66,
      "outputs": [
        {
          "output_type": "execute_result",
          "data": {
            "text/plain": [
              "<matplotlib.legend.Legend at 0x7f7fe37095f8>"
            ]
          },
          "metadata": {
            "tags": []
          },
          "execution_count": 66
        },
        {
          "output_type": "display_data",
          "data": {
            "image/png": "[encoded data removed]",
            "text/plain": [
              "<Figure size 432x288 with 1 Axes>"
            ]
          },
          "metadata": {
            "tags": [],
            "needs_background": "light"
          }
        }
      ]
    },
    {
      "cell_type": "code",
      "metadata": {
        "colab": {
          "base_uri": "https://localhost:8080/",
          "height": 282
        },
        "id": "MMpB1OTLkgaJ",
        "outputId": "c2ec1fcb-53fc-4d4c-8ad3-00559a9ff16c"
      },
      "source": [
        "# plot state comparision of deaths after July 2020\r\n",
        "\r\n",
        "plt.plot( 'date', 'deaths', data=NY_df, marker='',color='blue',  linestyle='solid',label='new york')\r\n",
        "plt.plot( 'date', 'deaths', data=California_df, marker='', color='olive', linestyle='solid',label='arizona')\r\n",
        "plt.plot( 'date', 'deaths', data=Florida_df, marker='', color='pink', linestyle='solid', label=\"california\")\r\n",
        "plt.plot( 'date', 'deaths', data=Texas_df, marker='', color='black',  linestyle='solid', label=\"florida\")\r\n",
        "plt.plot( 'date', 'deaths', data=Arizona_df, marker='', color='red',  linestyle='solid', label=\"texas\")\r\n",
        "plt.legend()"
      ],
      "execution_count": 70,
      "outputs": [
        {
          "output_type": "execute_result",
          "data": {
            "text/plain": [
              "<matplotlib.legend.Legend at 0x7f7fe2af37f0>"
            ]
          },
          "metadata": {
            "tags": []
          },
          "execution_count": 70
        },
        {
          "output_type": "display_data",
          "data": {
            "image/png": "[encoded data removed]",
            "text/plain": [
              "<Figure size 432x288 with 1 Axes>"
            ]
          },
          "metadata": {
            "tags": [],
            "needs_background": "light"
          }
        }
      ]
    },
    {
      "cell_type": "markdown",
      "metadata": {
        "id": "Hwch-J5PIHA1"
      },
      "source": [
        "# Task6: Conclusion"
      ]
    },
    {
      "cell_type": "markdown",
      "metadata": {
        "id": "q5G5KP6CINBS"
      },
      "source": [
        "Below are the conclusions:\r\n",
        "\r\n",
        "\r\n",
        "\r\n",
        "1.   Conclusion 1\r\n",
        "     --Your text here\r\n",
        "2.   Conclusion 2\r\n",
        "     --Your text here>\r\n",
        "\r\n"
      ]
    },
    {
      "cell_type": "code",
      "metadata": {
        "id": "GCwtlBzLB9CU"
      },
      "source": [
        "1) Since March 1, 2020, cases and deaths from COVID-19 have been increasing on an upward curve.\r\n",
        "2) The average daily case count is 447,385.\r\n",
        "3) The average daily death count is 27,777.\r\n",
        "4) In the beginning, the case count and the death count were both increasing. \r\n",
        "As time went on, the death count started to decrease as the case increased. \r\n",
        "This could be attributed to effective treatments and a better understanding of the virus.\r\n",
        "5) In the past 30 days, New York as seen a steady increase in both cases and deaths.\r\n",
        "Task 5\r\n",
        "6) Comparing New York cases to other states after July 2020, we see a leveling of cases until Nov 2020. \r\n",
        "After Nov 2020, cases start rising in five states with the biggest rise in Arizona, Florida and California. \r\n",
        "This is folled by New York and Texas.\r\n",
        "Comparising New York total deaths to other states after July 2020, New York still has the highest death toll. \r\n",
        "However, after November 2020, Arizona, Florida and California's death toll is steadily climbing.\r\n",
        "Deaths in Arizonia matched then surpased the deaths in Florida.\r\n",
        "The rise in cases can be contributed to numerous factors including holiday travel and the 2020 election."
      ],
      "execution_count": null,
      "outputs": []
    }
  ]
}