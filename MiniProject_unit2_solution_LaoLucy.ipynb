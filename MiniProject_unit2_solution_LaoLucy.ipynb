{
  "nbformat": 4,
  "nbformat_minor": 0,
  "metadata": {
    "colab": {
      "name": "MiniProject_unit2_solution_LaoLucy.ipynb",
      "provenance": [],
      "collapsed_sections": [],
      "include_colab_link": true
    },
    "kernelspec": {
      "name": "python3",
      "display_name": "Python 3"
    }
  },
  "cells": [
    {
      "cell_type": "markdown",
      "metadata": {
        "id": "view-in-github",
        "colab_type": "text"
      },
      "source": [
        "<a href=\"https://colab.research.google.com/github/lucylao/data_analytics/blob/main/MiniProject_unit2_solution_LaoLucy.ipynb\" target=\"_parent\"><img src=\"https://colab.research.google.com/assets/colab-badge.svg\" alt=\"Open In Colab\"/></a>"
      ]
    },
    {
      "cell_type": "markdown",
      "metadata": {
        "id": "eyOFW9MkrE38"
      },
      "source": [
        "Ask the user for a number. Depending on whether the number is even or odd, print out an appropriate message to the user.  Hint: how does an even / odd number react differently when divided by 2?\r\n",
        "\r\n",
        "**Bonus:**\r\n",
        "* if the number is a multiple of 4, print out a different message.\r\n",
        "* Ask the user for two numbers: one number to check (call it num) and one number to divide by (check).  If check divides evenly into num, tell that to the user.  If not, print a different appropriate message.\r\n",
        "* Write a custom function for finding whether the number is even or odd and call it in your main program code.\r\n",
        "\r\n",
        "\r\n",
        "\r\n",
        "\r\n",
        "\r\n"
      ]
    },
    {
      "cell_type": "code",
      "metadata": {
        "id": "l3PpjTi8q3zC",
        "colab": {
          "base_uri": "https://localhost:8080/"
        },
        "outputId": "f9554727-4e2c-456c-aa98-54b567817d68"
      },
      "source": [
        "userNumber = input(\"Please enter a number \")\r\n",
        "\r\n",
        "if int(userNumber) % 2 == 0:\r\n",
        "  print(\"The number \" + userNumber + \" is an even number.\")\r\n",
        "else:\r\n",
        "  print(\"The number \" + userNumber + \" is an odd number.\")"
      ],
      "execution_count": 8,
      "outputs": [
        {
          "output_type": "stream",
          "text": [
            "Please enter a number 125\n",
            "The number 125 is an odd number.\n"
          ],
          "name": "stdout"
        }
      ]
    },
    {
      "cell_type": "code",
      "metadata": {
        "colab": {
          "base_uri": "https://localhost:8080/"
        },
        "id": "KMJqTHOmZC7O",
        "outputId": "cb378d66-9bed-440e-b749-a2064977f99a"
      },
      "source": [
        "# Bonus\r\n",
        "# if the number is a multiple of 4\r\n",
        "\r\n",
        "userNumber = input(\"Please enter a number \")\r\n",
        "\r\n",
        "if int(userNumber) % 4 == 0:\r\n",
        "  print(\"The number \" + userNumber + \" is divisible by 4.\")\r\n",
        "elif int(userNumber) % 2 == 0:\r\n",
        "  print(\"The number \" + userNumber + \" is an even number.\")\r\n",
        "else:\r\n",
        "  print(\"The number \" + userNumber + \" is an odd number.\")\r\n"
      ],
      "execution_count": 13,
      "outputs": [
        {
          "output_type": "stream",
          "text": [
            "Please enter a number 81\n",
            "The number 81 is an odd number.\n"
          ],
          "name": "stdout"
        }
      ]
    },
    {
      "cell_type": "code",
      "metadata": {
        "colab": {
          "base_uri": "https://localhost:8080/"
        },
        "id": "jw91Qm7fakLS",
        "outputId": "61504c02-2d78-4278-c4ce-e2c805488cbd"
      },
      "source": [
        "# Bonus\r\n",
        "# Ask the user for two numbers: one number to check (call it num) and one number to divide by (check). \r\n",
        "# If check divides evenly into num, tell that to the user. If not, print a different appropriate message.\r\n",
        "\r\n",
        "num = input(\"Please enter a number \")\r\n",
        "check = input(\"Please enter a number to divide by \")\r\n",
        "\r\n",
        "if int(num) % int(check) == 0:\r\n",
        "  print(\"The number \" + num + \" is evenly divisible by \" + check)\r\n",
        "else:\r\n",
        "  print(\"The number \" + num + \" is not evenly divisble by \" + check)\r\n",
        "  "
      ],
      "execution_count": 17,
      "outputs": [
        {
          "output_type": "stream",
          "text": [
            "Please enter a number 28\n",
            "Please enter a number to divide by 2\n",
            "The number 28 is evenly divisible by 2\n"
          ],
          "name": "stdout"
        }
      ]
    },
    {
      "cell_type": "code",
      "metadata": {
        "colab": {
          "base_uri": "https://localhost:8080/"
        },
        "id": "76JJRCf1cYNP",
        "outputId": "80dd35d6-d454-4f90-9c2a-eda9c15f47b5"
      },
      "source": [
        "# Bonus\r\n",
        "# Write a custom function for finding whether the number is even or odd and call it in your main program code.\r\n",
        "\r\n",
        "def evenorodd(x):\r\n",
        "  if int(x) % 2 == 0:\r\n",
        "    print(str(x) + \" is an even number\")\r\n",
        "  else:\r\n",
        "    print(str(x) + \" is an odd number\")\r\n",
        "\r\n",
        "evenorodd(2)\r\n",
        "evenorodd(5)\r\n",
        "evenorodd(135647)"
      ],
      "execution_count": 21,
      "outputs": [
        {
          "output_type": "stream",
          "text": [
            "2 is an even number\n",
            "5 is an odd number\n",
            "135647 is an odd number\n"
          ],
          "name": "stdout"
        }
      ]
    },
    {
      "cell_type": "markdown",
      "metadata": {
        "id": "j0aCubXkEui8"
      },
      "source": [
        "Make a two-player Rock-Paper-Scissors game. (Hint: Ask for player plays (using input), compare them, print out a message of congratulations to the winner, and ask if the players want to start a new game)​\r\n",
        "\r\n",
        "\r\n",
        "*  Remember the rules:​\r\n",
        "*  Rock beats scissors​\r\n",
        "*  Scissors beats paper​\r\n",
        "*  Paper beats rock\r\n",
        "\r\n",
        "\r\n",
        "\r\n",
        "\r\n",
        "\r\n",
        "\r\n"
      ]
    },
    {
      "cell_type": "code",
      "metadata": {
        "id": "ZwF9wr3eE7Fa",
        "colab": {
          "base_uri": "https://localhost:8080/"
        },
        "outputId": "2d18eeda-f919-414f-e607-1cf77ddd2256"
      },
      "source": [
        "print(\"Let's play Rock, Paper, Scissors\")\r\n",
        "\r\n",
        "game = False\r\n",
        "\r\n",
        "def ropapsi():\r\n",
        "  while not game:\r\n",
        "    \r\n",
        "    player_1 = input(\"Player 1: Please enter Rock, Paper or Scissors \").lower()\r\n",
        "    \r\n",
        "#    if player_1 != 'rock' or 'paper' or 'scissors':\r\n",
        "#      return player_1\r\n",
        "    \r\n",
        "    player_2 = input(\"Player 2: Please enter Rock, Paper or Scissors \").lower()\r\n",
        "\r\n",
        "#    if player_2 != 'rock' or 'paper' or 'scissors':\r\n",
        "#      return player_2\r\n",
        "\r\n",
        "    if player_1 == player_2:\r\n",
        "      print(\"It's a tie.\")\r\n",
        "    if player_1 == 'rock' and player_2 == 'scissors':\r\n",
        "      print(\"Player 1 wins.\")\r\n",
        "    if player_1 == 'rock' and player_2 == 'paper':\r\n",
        "      print(\"Player 2 wins.\")\r\n",
        "    if player_1 == 'scissors' and player_2 == 'rock':\r\n",
        "      print(\"Player 2 wins.\")\r\n",
        "    if player_1 == 'scissors' and player_2 == 'paper':\r\n",
        "      print(\"Player 1 wins.\")\r\n",
        "    if player_1 == 'paper' and player_2 == 'rock':\r\n",
        "      print(\"Player 2 wins.\")\r\n",
        "    if player_1 == 'paper' and player_2 == 'scissors':\r\n",
        "      print(\"Player 1 wins.\")\r\n",
        "    \r\n",
        "    playagain = input(\"Do you want to play again? Enter Yes or No \").lower()\r\n",
        "    \r\n",
        "    if playagain == 'no':\r\n",
        "      break\r\n",
        "  \r\n",
        "ropapsi()\r\n"
      ],
      "execution_count": 81,
      "outputs": [
        {
          "output_type": "stream",
          "text": [
            "Let's play Rock, Paper, Scissors\n",
            "Player 1: Please enter Rock, Paper or Scissors paper\n",
            "Player 2: Please enter Rock, Paper or Scissors rock\n",
            "Player 2 wins.\n",
            "Do you want to play again? Enter Yes or No yes\n",
            "Player 1: Please enter Rock, Paper or Scissors scissors\n",
            "Player 2: Please enter Rock, Paper or Scissors scissors\n",
            "It's a tie.\n",
            "Do you want to play again? Enter Yes or No no\n"
          ],
          "name": "stdout"
        }
      ]
    }
  ]
}