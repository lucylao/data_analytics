{
  "nbformat": 4,
  "nbformat_minor": 0,
  "metadata": {
    "colab": {
      "name": "Unit2_List_Assignment_2_LaoLucy.ipynb",
      "provenance": [],
      "collapsed_sections": [],
      "toc_visible": true,
      "include_colab_link": true
    },
    "kernelspec": {
      "name": "python3",
      "display_name": "Python 3"
    }
  },
  "cells": [
    {
      "cell_type": "markdown",
      "metadata": {
        "id": "view-in-github",
        "colab_type": "text"
      },
      "source": [
        "<a href=\"https://colab.research.google.com/github/lucylao/data_analytics/blob/main/Unit2_List_Assignment_2_LaoLucy.ipynb\" target=\"_parent\"><img src=\"https://colab.research.google.com/assets/colab-badge.svg\" alt=\"Open In Colab\"/></a>"
      ]
    },
    {
      "cell_type": "markdown",
      "metadata": {
        "id": "Vgs8Kp4TidFQ"
      },
      "source": [
        "# Introduction to Python - List - Assignment #2  \r\n",
        "\r\n",
        "---\r\n",
        "\r\n"
      ]
    },
    {
      "cell_type": "markdown",
      "metadata": {
        "id": "_Hq7Ny79iwgD"
      },
      "source": [
        "## 1.Create a list of 5 of your favorite tv shows.  ?"
      ]
    },
    {
      "cell_type": "code",
      "metadata": {
        "id": "lotvpVpvlKsR"
      },
      "source": [
        "myFavoriteShows = ['Buffy','Glow','The Expanse', 'Battlestar Galactica', 'Orange is the New Black']"
      ],
      "execution_count": null,
      "outputs": []
    },
    {
      "cell_type": "code",
      "metadata": {
        "id": "oNXY-CfrlLbE"
      },
      "source": [
        ""
      ],
      "execution_count": null,
      "outputs": []
    },
    {
      "cell_type": "markdown",
      "metadata": {
        "id": "io_27RSlizno"
      },
      "source": [
        "## 2.\tPrint the list in its original order"
      ]
    },
    {
      "cell_type": "code",
      "metadata": {
        "colab": {
          "base_uri": "https://localhost:8080/"
        },
        "id": "hss-b1o11FCs",
        "outputId": "eb7cd2bd-5de7-4823-b50f-755dad1fcb0e"
      },
      "source": [
        "myFavoriteShows = ['Buffy','Glow','The Expanse', 'Battlestar Galactica', 'Orange is the New Black']\r\n",
        "\r\n",
        "print(myFavoriteShows)"
      ],
      "execution_count": null,
      "outputs": [
        {
          "output_type": "stream",
          "text": [
            "['Buffy', 'Glow', 'The Expanse', 'Battlestar Galactica', 'Orange is the New Black']\n"
          ],
          "name": "stdout"
        }
      ]
    },
    {
      "cell_type": "code",
      "metadata": {
        "id": "vs8ppR-wlSKL"
      },
      "source": [
        ""
      ],
      "execution_count": null,
      "outputs": []
    },
    {
      "cell_type": "markdown",
      "metadata": {
        "id": "DAW8m8IQjRyR"
      },
      "source": [
        "## 3.\tUse the sorted() function to print the list in alphabetical order.  How is sorted() different from sort()?"
      ]
    },
    {
      "cell_type": "code",
      "metadata": {
        "colab": {
          "base_uri": "https://localhost:8080/"
        },
        "id": "zTvaPGVN1M8D",
        "outputId": "84b295bf-7112-466a-98fe-304c53340b12"
      },
      "source": [
        "myFavoriteShows = ['Buffy','Glow','The Expanse', 'Battlestar Galactica', 'Orange is the New Black']\r\n",
        "\r\n",
        "print(myFavoriteShows)\r\n",
        "\r\n",
        "newList = sorted(myFavoriteShows)\r\n",
        "\r\n",
        "print(newList)\r\n",
        "\r\n",
        "\r\n",
        "# In Python, sorted() temporarily arranges a list and sort() permanently sorts a list. \r\n",
        "# The sorted() function also creates a new sort list while sort() arranges the original list and does not create a new list.\r\n"
      ],
      "execution_count": null,
      "outputs": [
        {
          "output_type": "stream",
          "text": [
            "['Buffy', 'Glow', 'The Expanse', 'Battlestar Galactica', 'Orange is the New Black']\n",
            "['Battlestar Galactica', 'Buffy', 'Glow', 'Orange is the New Black', 'The Expanse']\n"
          ],
          "name": "stdout"
        }
      ]
    },
    {
      "cell_type": "code",
      "metadata": {
        "id": "cv946RaOjw-G"
      },
      "source": [
        ""
      ],
      "execution_count": null,
      "outputs": []
    },
    {
      "cell_type": "markdown",
      "metadata": {
        "id": "dpa_YOt4jXyo"
      },
      "source": [
        "## 4.\tPrint out your original list."
      ]
    },
    {
      "cell_type": "code",
      "metadata": {
        "colab": {
          "base_uri": "https://localhost:8080/"
        },
        "id": "d0He5IWm71E2",
        "outputId": "d0ce8d3f-407b-4d8b-9cea-f971698fb81e"
      },
      "source": [
        "myFavoriteShows = ['Buffy','Glow','The Expanse', 'Battlestar Galactica', 'Orange is the New Black']\r\n",
        "\r\n",
        "print(myFavoriteShows)\r\n"
      ],
      "execution_count": null,
      "outputs": [
        {
          "output_type": "stream",
          "text": [
            "['Buffy', 'Glow', 'The Expanse', 'Battlestar Galactica', 'Orange is the New Black']\n"
          ],
          "name": "stdout"
        }
      ]
    },
    {
      "cell_type": "markdown",
      "metadata": {
        "id": "Ka84RGy4jmLT"
      },
      "source": [
        "## 5.\tUsed sorted() to print your list in reverse alphabetical order."
      ]
    },
    {
      "cell_type": "code",
      "metadata": {
        "colab": {
          "base_uri": "https://localhost:8080/"
        },
        "id": "LqIceE9q9lgk",
        "outputId": "7272efdf-0fc8-4ad7-fdae-680ef3bf1e48"
      },
      "source": [
        "myFavoriteShows = ['Buffy','Glow','The Expanse', 'Battlestar Galactica', 'Orange is the New Black']\r\n",
        "\r\n",
        "newList = sorted(myFavoriteShows, reverse = True)\r\n",
        "\r\n",
        "print(newList)\r\n"
      ],
      "execution_count": null,
      "outputs": [
        {
          "output_type": "stream",
          "text": [
            "['The Expanse', 'Orange is the New Black', 'Glow', 'Buffy', 'Battlestar Galactica']\n"
          ],
          "name": "stdout"
        }
      ]
    },
    {
      "cell_type": "markdown",
      "metadata": {
        "id": "ZKHwdMnLliFy"
      },
      "source": [
        "## 6.\tCreate a message indicating how many favorite TV shows you have – use the len() function."
      ]
    },
    {
      "cell_type": "code",
      "metadata": {
        "id": "eXUDZfLOllTT",
        "colab": {
          "base_uri": "https://localhost:8080/"
        },
        "outputId": "7c6b88c3-d77e-45b0-91af-adb0b19b175d"
      },
      "source": [
        "myFavoriteShows = ['Buffy','Glow','The Expanse', 'Battlestar Galactica', 'Orange is the New Black']\r\n",
        "\r\n",
        "len(myFavoriteShows)\r\n"
      ],
      "execution_count": null,
      "outputs": [
        {
          "output_type": "execute_result",
          "data": {
            "text/plain": [
              "5"
            ]
          },
          "metadata": {
            "tags": []
          },
          "execution_count": 25
        }
      ]
    },
    {
      "cell_type": "code",
      "metadata": {
        "id": "4oNKGU70llVg"
      },
      "source": [
        ""
      ],
      "execution_count": null,
      "outputs": []
    },
    {
      "cell_type": "code",
      "metadata": {
        "id": "jjh2GdktllZY"
      },
      "source": [
        ""
      ],
      "execution_count": null,
      "outputs": []
    },
    {
      "cell_type": "code",
      "metadata": {
        "id": "iHaRIrt8llcd"
      },
      "source": [
        ""
      ],
      "execution_count": null,
      "outputs": []
    }
  ]
}