{
  "nbformat": 4,
  "nbformat_minor": 0,
  "metadata": {
    "colab": {
      "name": "Practice Exercise for Review011221_LaoLucy",
      "provenance": [],
      "collapsed_sections": [],
      "include_colab_link": true
    },
    "kernelspec": {
      "name": "python3",
      "display_name": "Python 3"
    }
  },
  "cells": [
    {
      "cell_type": "markdown",
      "metadata": {
        "id": "view-in-github",
        "colab_type": "text"
      },
      "source": [
        "<a href=\"https://colab.research.google.com/github/lucylao/data_analytics/blob/main/Practice_Exercise_for_Review011221_LaoLucy.ipynb\" target=\"_parent\"><img src=\"https://colab.research.google.com/assets/colab-badge.svg\" alt=\"Open In Colab\"/></a>"
      ]
    },
    {
      "cell_type": "markdown",
      "metadata": {
        "id": "tXcr7hqpYFIo"
      },
      "source": [
        "1. Write a Python program to sum all the items in a list"
      ]
    },
    {
      "cell_type": "code",
      "metadata": {
        "id": "Htkj5scKX53s",
        "colab": {
          "base_uri": "https://localhost:8080/"
        },
        "outputId": "70bb1506-e0af-4383-c356-c1c794c14796"
      },
      "source": [
        "# using a for loop\n",
        "\n",
        "list = [1, 2, 3, 4, 5]\n",
        "total = 0\n",
        "\n",
        "for number in list:\n",
        "  total = total + number\n",
        "print(total)"
      ],
      "execution_count": null,
      "outputs": [
        {
          "output_type": "stream",
          "text": [
            "15\n"
          ],
          "name": "stdout"
        }
      ]
    },
    {
      "cell_type": "code",
      "metadata": {
        "colab": {
          "base_uri": "https://localhost:8080/"
        },
        "id": "Hb0-23aPh65r",
        "outputId": "c0618689-94d0-4823-90de-cbc10f89a2fc"
      },
      "source": [
        "# If list is not integers\r\n",
        "\r\n",
        "numlist = ['1', '2', '3', '4', '5']\r\n",
        "total = 0\r\n",
        "\r\n",
        "for number in numlist:\r\n",
        "  total = total + int(number)\r\n",
        "print(total)"
      ],
      "execution_count": null,
      "outputs": [
        {
          "output_type": "stream",
          "text": [
            "15\n"
          ],
          "name": "stdout"
        }
      ]
    },
    {
      "cell_type": "markdown",
      "metadata": {
        "id": "2P9TAiyYYOcc"
      },
      "source": [
        "2. Write a Python program to count the number of strings where the string length is 2 or more and the first and last character are same from a given list of strings\r\n",
        "* Sample List : ['abc', 'xyz', 'aba', '1221']\r\n",
        "\r\n",
        "\r\n"
      ]
    },
    {
      "cell_type": "code",
      "metadata": {
        "id": "0XL35NokYpBZ",
        "colab": {
          "base_uri": "https://localhost:8080/"
        },
        "outputId": "f637104b-b381-4511-9fcb-d8bbb21b6540"
      },
      "source": [
        "samplelist = ['abc', 'xyz', 'aba', '1221']\r\n",
        "\r\n",
        "count = 0\r\n",
        "\r\n",
        "for element in samplelist:\r\n",
        "  if len(element) >= 2 and (element[0] == element[len(element)-1]):\r\n",
        "    count = count + 1\r\n",
        "print(count)"
      ],
      "execution_count": null,
      "outputs": [
        {
          "output_type": "stream",
          "text": [
            "2\n"
          ],
          "name": "stdout"
        }
      ]
    },
    {
      "cell_type": "markdown",
      "metadata": {
        "id": "4lsqufkdYqHg"
      },
      "source": [
        "3. Write a Python function that takes two lists and returns True if they have at least one common member."
      ]
    },
    {
      "cell_type": "code",
      "metadata": {
        "id": "hNhFSqHFYsWa",
        "colab": {
          "base_uri": "https://localhost:8080/"
        },
        "outputId": "9baafa58-05cb-4082-c4ad-15feb0b1088f"
      },
      "source": [
        "samplelist_1 = [1, 3, 5, 9]\r\n",
        "samplelist_2 = [5, 4, 7, 8]\r\n",
        "\r\n",
        "result = True\r\n",
        "\r\n",
        "for element in samplelist_1:\r\n",
        "  for element_2 in samplelist_2:\r\n",
        "    if element_2 == element:\r\n",
        "      print(result)\r\n"
      ],
      "execution_count": null,
      "outputs": [
        {
          "output_type": "stream",
          "text": [
            "True\n"
          ],
          "name": "stdout"
        }
      ]
    },
    {
      "cell_type": "markdown",
      "metadata": {
        "id": "vYfPDaBmYtFo"
      },
      "source": [
        "4. Write a Python program to print a specified list after removing the 0th, 4th and 5th elements.\r\n",
        "* Sample List : ['Red', 'Green', 'White', 'Black', 'Pink', 'Yellow']\r\n",
        "\r\n",
        "\r\n",
        "\r\n",
        "\r\n",
        "\r\n"
      ]
    },
    {
      "cell_type": "code",
      "metadata": {
        "id": "wXCNsI3qZAjB",
        "colab": {
          "base_uri": "https://localhost:8080/"
        },
        "outputId": "2a087231-42eb-4722-b2d0-15487ca3eb5a"
      },
      "source": [
        "samplecolors = ['Red', 'Green', 'White', 'Black', 'Pink', 'Yellow', 'Green', 'Orange' ]\r\n",
        "\r\n",
        "def removeElements(list):  \r\n",
        "  del list[0]\r\n",
        "  del list[4]\r\n",
        "  del list[5]\r\n",
        "  print(list)\r\n",
        "\r\n",
        "removeElements(samplecolors)"
      ],
      "execution_count": null,
      "outputs": [
        {
          "output_type": "stream",
          "text": [
            "['Green', 'White', 'Black', 'Pink', 'Green']\n"
          ],
          "name": "stdout"
        }
      ]
    },
    {
      "cell_type": "markdown",
      "metadata": {
        "id": "TR8c2eW_ZBJI"
      },
      "source": [
        ""
      ]
    },
    {
      "cell_type": "markdown",
      "metadata": {
        "id": "6qkBW70uZEkh"
      },
      "source": [
        "5. Write a Python program to print the numbers of a specified list after removing even numbers from it."
      ]
    },
    {
      "cell_type": "code",
      "metadata": {
        "id": "4BZTc8uqZHQo",
        "colab": {
          "base_uri": "https://localhost:8080/"
        },
        "outputId": "23e5001d-3465-4966-946a-17a7086d2120"
      },
      "source": [
        "numlist = [1, 3, 5, 4, 8, 6]\r\n",
        "\r\n",
        "for number in numlist:\r\n",
        "  if number % 2 != 0:\r\n",
        "    print(number)"
      ],
      "execution_count": null,
      "outputs": [
        {
          "output_type": "stream",
          "text": [
            "1\n",
            "3\n",
            "5\n"
          ],
          "name": "stdout"
        }
      ]
    },
    {
      "cell_type": "markdown",
      "metadata": {
        "id": "iIrq_TfAZQhk"
      },
      "source": [
        "6. Write a Python program to convert a list of characters into a string."
      ]
    },
    {
      "cell_type": "code",
      "metadata": {
        "colab": {
          "base_uri": "https://localhost:8080/"
        },
        "id": "tnty8rUp6lOg",
        "outputId": "76476b58-117f-487a-815e-ee4cac5e0e36"
      },
      "source": [
        "# convert characters into string\r\n",
        "samplenum = [4, 5, 6, 7]\r\n",
        "\r\n",
        "newStr = [str(element) for element in samplenum]\r\n",
        "\r\n",
        "print(newStr)"
      ],
      "execution_count": null,
      "outputs": [
        {
          "output_type": "stream",
          "text": [
            "['4', '5', '6', '7']\n"
          ],
          "name": "stdout"
        }
      ]
    },
    {
      "cell_type": "code",
      "metadata": {
        "id": "9hPTJj5gZSnk",
        "colab": {
          "base_uri": "https://localhost:8080/"
        },
        "outputId": "e6579743-43d6-4e9f-bd28-f057bd48415b"
      },
      "source": [
        "# converts type into string\r\n",
        "samplenum = [4, 5, 6, 7]\r\n",
        "\r\n",
        "print(type(samplenum))\r\n",
        "\r\n",
        "newString = str(samplenum)\r\n",
        "\r\n",
        "print(type(newString))\r\n",
        "print(newString)\r\n"
      ],
      "execution_count": null,
      "outputs": [
        {
          "output_type": "stream",
          "text": [
            "<class 'list'>\n",
            "<class 'str'>\n",
            "[4, 5, 6, 7]\n"
          ],
          "name": "stdout"
        }
      ]
    },
    {
      "cell_type": "markdown",
      "metadata": {
        "id": "SkdABAMBZgar"
      },
      "source": [
        "8. Write a Python program to count the number of elements in a list within a specified range."
      ]
    },
    {
      "cell_type": "code",
      "metadata": {
        "id": "-7xMT5hwaDsO",
        "colab": {
          "base_uri": "https://localhost:8080/"
        },
        "outputId": "bbc880c7-3361-43fd-c8be-2bce675e78ab"
      },
      "source": [
        "# unsure of what \"specified range\" refers to\r\n",
        "\r\n",
        "samplelist = ['apples', 'pears', 'bananas', 'blueberries', 'grapes']\r\n",
        "length = str(len(samplelist))\r\n",
        "\r\n",
        "print(\"Please give me a range for the list. The list has \" + length + \" elements\\n\")\r\n",
        "\r\n",
        "max = input(\"Enter the maximum\\n\")\r\n",
        "min = input(\"Enter the minimum\\n\")\r\n",
        "\r\n",
        "if max != min and (max > min) and (max <= length):\r\n",
        "  total = int(max) - int(min) + 1\r\n",
        "  result = str(total)\r\n",
        "print(\"There are \" + result + \" elements within the specified range.\")\r\n"
      ],
      "execution_count": null,
      "outputs": [
        {
          "output_type": "stream",
          "text": [
            "Please give me a range for the list. The list has 5 elements\n",
            "\n",
            "Enter the maximum\n",
            "5\n",
            "Enter the minimum\n",
            "3\n",
            "There are 3 elements within the specified range.\n"
          ],
          "name": "stdout"
        }
      ]
    },
    {
      "cell_type": "markdown",
      "metadata": {
        "id": "3LxonRtgceIz"
      },
      "source": [
        "9. Write a Python program to convert a list of multiple integers into a single integer\r\n",
        "*  Sample list: [11, 33, 50]\r\n",
        "\r\n"
      ]
    },
    {
      "cell_type": "code",
      "metadata": {
        "id": "TCkuaRkAciey",
        "colab": {
          "base_uri": "https://localhost:8080/"
        },
        "outputId": "69b54fcb-5fa3-4fa0-ebea-401e85aafeff"
      },
      "source": [
        "sample = [11, 33, 50]\r\n",
        "newStr = [str(element) for element in sample]\r\n",
        "\r\n",
        "print(newStr)\r\n",
        "\r\n",
        "newSample = int(\"\".join(newStr))\r\n",
        "\r\n",
        "print(newSample)"
      ],
      "execution_count": null,
      "outputs": [
        {
          "output_type": "stream",
          "text": [
            "['11', '33', '50']\n",
            "113350\n"
          ],
          "name": "stdout"
        }
      ]
    },
    {
      "cell_type": "markdown",
      "metadata": {
        "id": "X5V3Hvh1hafZ"
      },
      "source": [
        "10.Write a Python program to print a nested lists (each list on a new line) using the print() function.\r\n",
        "\r\n",
        "*  colors = [['Red'], ['Green'], ['Black']]\r\n",
        "\r\n"
      ]
    },
    {
      "cell_type": "code",
      "metadata": {
        "id": "04nRLJj1eYjM",
        "colab": {
          "base_uri": "https://localhost:8080/"
        },
        "outputId": "1e29c6dc-ba9f-4e86-9267-70d359dfc5dc"
      },
      "source": [
        "colors = [['1', '2', '3'], ['Green'], ['Black']]\r\n",
        "\r\n",
        "for elements in colors:\r\n",
        "  print(elements)\r\n"
      ],
      "execution_count": null,
      "outputs": [
        {
          "output_type": "stream",
          "text": [
            "['1', '2', '3']\n",
            "['Green']\n",
            "['Black']\n"
          ],
          "name": "stdout"
        }
      ]
    },
    {
      "cell_type": "markdown",
      "metadata": {
        "id": "6aoN9DIcik2G"
      },
      "source": [
        "11. Write a Python script to concatenate following dictionaries to create a new one using a loop\r\n",
        "\r\n",
        "* dic1={1:10, 2:20}\r\n",
        "* dic2={3:30, 4:40}\r\n",
        "* dic3={5:50,6:60}\r\n",
        "\r\n",
        "\r\n",
        "\r\n",
        "\r\n"
      ]
    },
    {
      "cell_type": "code",
      "metadata": {
        "id": "tRcQVNDajOBG",
        "colab": {
          "base_uri": "https://localhost:8080/"
        },
        "outputId": "e32e93bd-a55b-457c-c0e7-610600bd2052"
      },
      "source": [
        "dic1={1:10, 2:20}\r\n",
        "dic2={3:30, 4:40}\r\n",
        "dic3={5:50,6:60}\r\n",
        "\r\n",
        "dic2.update(dic3)\r\n",
        "dic1.update(dic2)\r\n",
        "\r\n",
        "print(dic1)"
      ],
      "execution_count": null,
      "outputs": [
        {
          "output_type": "stream",
          "text": [
            "{1: 10, 2: 20, 3: 30, 4: 40, 5: 50, 6: 60}\n"
          ],
          "name": "stdout"
        }
      ]
    },
    {
      "cell_type": "markdown",
      "metadata": {
        "id": "LJ9xp0nmjV-0"
      },
      "source": [
        "12.Write a Python script to check whether a given key already exists in a dictionary."
      ]
    },
    {
      "cell_type": "code",
      "metadata": {
        "id": "o6eNQ9RQjlHc",
        "colab": {
          "base_uri": "https://localhost:8080/"
        },
        "outputId": "8d0e53c7-c289-4805-c651-14fcceb25d62"
      },
      "source": [
        "dict1 = {\"cat\": 'orange', \"dog\": 'white'}\r\n",
        "\r\n",
        "key_2 = \"dog\"\r\n",
        "\r\n",
        "for key in dict1:\r\n",
        "  if key_2 == key:\r\n",
        "    print(\"Key already exists in dictionary\")\r\n",
        "  "
      ],
      "execution_count": null,
      "outputs": [
        {
          "output_type": "stream",
          "text": [
            "Key already exists in dictionary\n"
          ],
          "name": "stdout"
        }
      ]
    },
    {
      "cell_type": "markdown",
      "metadata": {
        "id": "u49NsDHVkGed"
      },
      "source": [
        "13  Write a Python program to check the validity of password input by users. Go to the editor\r\n",
        "Validation :\r\n",
        "*  At least 1 character from [$#@].\r\n",
        "*  Minimum length 6 characters.\r\n",
        "\r\n",
        "\r\n",
        "\r\n"
      ]
    },
    {
      "cell_type": "code",
      "metadata": {
        "id": "tBrQdblskbzJ",
        "colab": {
          "base_uri": "https://localhost:8080/"
        },
        "outputId": "662031b1-c0d4-4508-a332-e9a372d2ad01"
      },
      "source": [
        "def checkPassword(password):\r\n",
        "  \r\n",
        "  specialChar = ['$','#','@']\r\n",
        "    \r\n",
        "  if not any(char in specialChar for char in password):\r\n",
        "    print(\"Password should have at least one special character: $, # or @\")\r\n",
        "          \r\n",
        "  if len(password) < 6:\r\n",
        "    print(\"Password must be minimum 6 characters\")\r\n",
        "      \r\n",
        "  print(\"Your password is \" + password)\r\n",
        "\r\n",
        "userPassword = input(\"Please enter the password \")\r\n",
        "\r\n",
        "checkPassword(userPassword)\r\n",
        "\r\n",
        "  "
      ],
      "execution_count": 245,
      "outputs": [
        {
          "output_type": "stream",
          "text": [
            "Please enter the password goat\n",
            "Password should have at least one special character: $, # or @\n",
            "Password must be minimum 6 characters\n",
            "Your password is goat\n"
          ],
          "name": "stdout"
        }
      ]
    },
    {
      "cell_type": "markdown",
      "metadata": {
        "id": "bgyJXNNKlpnh"
      },
      "source": [
        "14. Write a Python program to reverse a string"
      ]
    },
    {
      "cell_type": "code",
      "metadata": {
        "id": "ajCggiVklvqT",
        "colab": {
          "base_uri": "https://localhost:8080/"
        },
        "outputId": "fd39279f-1c60-4bb7-dd45-f708fd86b48c"
      },
      "source": [
        "def reverseStr(message):\r\n",
        "\r\n",
        "  reverse = str(message)[::-1]\r\n",
        "  print(reverse)\r\n",
        "\r\n",
        "reverseStr(\"Today is Tuesday\")\r\n",
        "reverseStr(\"This sentence will be reversed\")"
      ],
      "execution_count": 247,
      "outputs": [
        {
          "output_type": "stream",
          "text": [
            "yadseuT si yadoT\n",
            "desrever eb lliw ecnetnes sihT\n"
          ],
          "name": "stdout"
        }
      ]
    },
    {
      "cell_type": "markdown",
      "metadata": {
        "id": "6td2aFajmDEY"
      },
      "source": [
        "15. rite a Python program that accepts a hyphen-separated sequence of words as input and prints the words in a hyphen-separated sequence after sorting them alphabetically\r\n",
        "* green-red-yellow-black-white\r\n",
        "\r\n",
        "\r\n"
      ]
    },
    {
      "cell_type": "code",
      "metadata": {
        "id": "ZKYkFqtymN8r",
        "colab": {
          "base_uri": "https://localhost:8080/"
        },
        "outputId": "5057a11b-6e22-4ced-f0a8-ed32fdc33cd0"
      },
      "source": [
        "def sequence(message):\r\n",
        "  newStr = message.split('-')\r\n",
        "  newSort = sorted(newStr)\r\n",
        "  newMessage = '-'.join(newSort)\r\n",
        "  print(newMessage)\r\n",
        "\r\n",
        "sequence('green-red-yellow-black-white')\r\n",
        "  "
      ],
      "execution_count": 260,
      "outputs": [
        {
          "output_type": "stream",
          "text": [
            "black-green-red-white-yellow\n"
          ],
          "name": "stdout"
        }
      ]
    }
  ]
}