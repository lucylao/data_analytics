{
  "nbformat": 4,
  "nbformat_minor": 0,
  "metadata": {
    "colab": {
      "name": "Pandas_Classwork.ipynb",
      "provenance": [],
      "collapsed_sections": [],
      "authorship_tag": "ABX9TyOE6X/oQip/emEtSaZfw5kO",
      "include_colab_link": true
    },
    "kernelspec": {
      "name": "python3",
      "display_name": "Python 3"
    }
  },
  "cells": [
    {
      "cell_type": "markdown",
      "metadata": {
        "id": "view-in-github",
        "colab_type": "text"
      },
      "source": [
        "<a href=\"https://colab.research.google.com/github/lucylao/data_analytics/blob/main/Pandas_Classwork.ipynb\" target=\"_parent\"><img src=\"https://colab.research.google.com/assets/colab-badge.svg\" alt=\"Open In Colab\"/></a>"
      ]
    },
    {
      "cell_type": "code",
      "metadata": {
        "id": "ahTDhLiy8CCW"
      },
      "source": [
        "import numpy as np\r\n",
        "import pandas as pd"
      ],
      "execution_count": 1,
      "outputs": []
    },
    {
      "cell_type": "code",
      "metadata": {
        "colab": {
          "base_uri": "https://localhost:8080/"
        },
        "id": "v3WQ47Lm8Tuk",
        "outputId": "a8e0171b-17d5-437d-ef09-3ea88f2f12de"
      },
      "source": [
        "labels = ['a', 'b', 'c']\r\n",
        "my_data = [10, 20, 30]\r\n",
        "arr = np.array(my_data)\r\n",
        "print(arr)\r\n",
        "\r\n",
        "d = {'a': 10, 'b':20, 'c':30}\r\n",
        "print(d)\r\n",
        "\r\n",
        "pd.Series(data = my_data, index = labels)\r\n",
        "# dtype: int64 means integer, 64 bytes"
      ],
      "execution_count": 4,
      "outputs": [
        {
          "output_type": "stream",
          "text": [
            "[10 20 30]\n",
            "{'a': 10, 'b': 20, 'c': 30}\n"
          ],
          "name": "stdout"
        },
        {
          "output_type": "execute_result",
          "data": {
            "text/plain": [
              "a    10\n",
              "b    20\n",
              "c    30\n",
              "dtype: int64"
            ]
          },
          "metadata": {
            "tags": []
          },
          "execution_count": 4
        }
      ]
    },
    {
      "cell_type": "code",
      "metadata": {
        "colab": {
          "base_uri": "https://localhost:8080/",
          "height": 195
        },
        "id": "NTY7JZSP-aYM",
        "outputId": "9d353269-e018-4e03-c3e2-1dd1eec16f5f"
      },
      "source": [
        "from numpy.random import randn\r\n",
        "np.random.seed(123)\r\n",
        "\r\n",
        "# rand(5,4) is 5 rows and 4 columns\r\n",
        "df = pd.DataFrame(randn(5,4), ['A','B','C','D','E'], ['W','X','Y','Z'])\r\n",
        "df\r\n"
      ],
      "execution_count": 22,
      "outputs": [
        {
          "output_type": "execute_result",
          "data": {
            "text/html": [
              "<div>\n",
              "<style scoped>\n",
              "    .dataframe tbody tr th:only-of-type {\n",
              "        vertical-align: middle;\n",
              "    }\n",
              "\n",
              "    .dataframe tbody tr th {\n",
              "        vertical-align: top;\n",
              "    }\n",
              "\n",
              "    .dataframe thead th {\n",
              "        text-align: right;\n",
              "    }\n",
              "</style>\n",
              "<table border=\"1\" class=\"dataframe\">\n",
              "  <thead>\n",
              "    <tr style=\"text-align: right;\">\n",
              "      <th></th>\n",
              "      <th>W</th>\n",
              "      <th>X</th>\n",
              "      <th>Y</th>\n",
              "      <th>Z</th>\n",
              "    </tr>\n",
              "  </thead>\n",
              "  <tbody>\n",
              "    <tr>\n",
              "      <th>A</th>\n",
              "      <td>-1.085631</td>\n",
              "      <td>0.997345</td>\n",
              "      <td>0.282978</td>\n",
              "      <td>-1.506295</td>\n",
              "    </tr>\n",
              "    <tr>\n",
              "      <th>B</th>\n",
              "      <td>-0.578600</td>\n",
              "      <td>1.651437</td>\n",
              "      <td>-2.426679</td>\n",
              "      <td>-0.428913</td>\n",
              "    </tr>\n",
              "    <tr>\n",
              "      <th>C</th>\n",
              "      <td>1.265936</td>\n",
              "      <td>-0.866740</td>\n",
              "      <td>-0.678886</td>\n",
              "      <td>-0.094709</td>\n",
              "    </tr>\n",
              "    <tr>\n",
              "      <th>D</th>\n",
              "      <td>1.491390</td>\n",
              "      <td>-0.638902</td>\n",
              "      <td>-0.443982</td>\n",
              "      <td>-0.434351</td>\n",
              "    </tr>\n",
              "    <tr>\n",
              "      <th>E</th>\n",
              "      <td>2.205930</td>\n",
              "      <td>2.186786</td>\n",
              "      <td>1.004054</td>\n",
              "      <td>0.386186</td>\n",
              "    </tr>\n",
              "  </tbody>\n",
              "</table>\n",
              "</div>"
            ],
            "text/plain": [
              "          W         X         Y         Z\n",
              "A -1.085631  0.997345  0.282978 -1.506295\n",
              "B -0.578600  1.651437 -2.426679 -0.428913\n",
              "C  1.265936 -0.866740 -0.678886 -0.094709\n",
              "D  1.491390 -0.638902 -0.443982 -0.434351\n",
              "E  2.205930  2.186786  1.004054  0.386186"
            ]
          },
          "metadata": {
            "tags": []
          },
          "execution_count": 22
        }
      ]
    },
    {
      "cell_type": "code",
      "metadata": {
        "colab": {
          "base_uri": "https://localhost:8080/"
        },
        "id": "ZHQZNqDZ_-lb",
        "outputId": "1584c77b-ca2b-470a-8721-31f5057f707c"
      },
      "source": [
        "df\r\n",
        "# extracts from column W\r\n",
        "df1 = df['W']\r\n",
        "df1"
      ],
      "execution_count": 23,
      "outputs": [
        {
          "output_type": "execute_result",
          "data": {
            "text/plain": [
              "A   -1.085631\n",
              "B   -0.578600\n",
              "C    1.265936\n",
              "D    1.491390\n",
              "E    2.205930\n",
              "Name: W, dtype: float64"
            ]
          },
          "metadata": {
            "tags": []
          },
          "execution_count": 23
        }
      ]
    },
    {
      "cell_type": "code",
      "metadata": {
        "colab": {
          "base_uri": "https://localhost:8080/",
          "height": 195
        },
        "id": "8V5MRVXMA_u3",
        "outputId": "cd70a05d-7e3c-4942-8d9f-918dcc15ea87"
      },
      "source": [
        "df['New'] = df['W'] + df['Y']\r\n",
        "df"
      ],
      "execution_count": 24,
      "outputs": [
        {
          "output_type": "execute_result",
          "data": {
            "text/html": [
              "<div>\n",
              "<style scoped>\n",
              "    .dataframe tbody tr th:only-of-type {\n",
              "        vertical-align: middle;\n",
              "    }\n",
              "\n",
              "    .dataframe tbody tr th {\n",
              "        vertical-align: top;\n",
              "    }\n",
              "\n",
              "    .dataframe thead th {\n",
              "        text-align: right;\n",
              "    }\n",
              "</style>\n",
              "<table border=\"1\" class=\"dataframe\">\n",
              "  <thead>\n",
              "    <tr style=\"text-align: right;\">\n",
              "      <th></th>\n",
              "      <th>W</th>\n",
              "      <th>X</th>\n",
              "      <th>Y</th>\n",
              "      <th>Z</th>\n",
              "      <th>New</th>\n",
              "    </tr>\n",
              "  </thead>\n",
              "  <tbody>\n",
              "    <tr>\n",
              "      <th>A</th>\n",
              "      <td>-1.085631</td>\n",
              "      <td>0.997345</td>\n",
              "      <td>0.282978</td>\n",
              "      <td>-1.506295</td>\n",
              "      <td>-0.802652</td>\n",
              "    </tr>\n",
              "    <tr>\n",
              "      <th>B</th>\n",
              "      <td>-0.578600</td>\n",
              "      <td>1.651437</td>\n",
              "      <td>-2.426679</td>\n",
              "      <td>-0.428913</td>\n",
              "      <td>-3.005279</td>\n",
              "    </tr>\n",
              "    <tr>\n",
              "      <th>C</th>\n",
              "      <td>1.265936</td>\n",
              "      <td>-0.866740</td>\n",
              "      <td>-0.678886</td>\n",
              "      <td>-0.094709</td>\n",
              "      <td>0.587050</td>\n",
              "    </tr>\n",
              "    <tr>\n",
              "      <th>D</th>\n",
              "      <td>1.491390</td>\n",
              "      <td>-0.638902</td>\n",
              "      <td>-0.443982</td>\n",
              "      <td>-0.434351</td>\n",
              "      <td>1.047408</td>\n",
              "    </tr>\n",
              "    <tr>\n",
              "      <th>E</th>\n",
              "      <td>2.205930</td>\n",
              "      <td>2.186786</td>\n",
              "      <td>1.004054</td>\n",
              "      <td>0.386186</td>\n",
              "      <td>3.209984</td>\n",
              "    </tr>\n",
              "  </tbody>\n",
              "</table>\n",
              "</div>"
            ],
            "text/plain": [
              "          W         X         Y         Z       New\n",
              "A -1.085631  0.997345  0.282978 -1.506295 -0.802652\n",
              "B -0.578600  1.651437 -2.426679 -0.428913 -3.005279\n",
              "C  1.265936 -0.866740 -0.678886 -0.094709  0.587050\n",
              "D  1.491390 -0.638902 -0.443982 -0.434351  1.047408\n",
              "E  2.205930  2.186786  1.004054  0.386186  3.209984"
            ]
          },
          "metadata": {
            "tags": []
          },
          "execution_count": 24
        }
      ]
    },
    {
      "cell_type": "code",
      "metadata": {
        "colab": {
          "base_uri": "https://localhost:8080/",
          "height": 195
        },
        "id": "8vjJ_HDWCunw",
        "outputId": "be508f60-b5dd-4421-e98c-4a94df8f902c"
      },
      "source": [
        "df2A = df[['W','X']]\r\n",
        "df2A"
      ],
      "execution_count": 26,
      "outputs": [
        {
          "output_type": "execute_result",
          "data": {
            "text/html": [
              "<div>\n",
              "<style scoped>\n",
              "    .dataframe tbody tr th:only-of-type {\n",
              "        vertical-align: middle;\n",
              "    }\n",
              "\n",
              "    .dataframe tbody tr th {\n",
              "        vertical-align: top;\n",
              "    }\n",
              "\n",
              "    .dataframe thead th {\n",
              "        text-align: right;\n",
              "    }\n",
              "</style>\n",
              "<table border=\"1\" class=\"dataframe\">\n",
              "  <thead>\n",
              "    <tr style=\"text-align: right;\">\n",
              "      <th></th>\n",
              "      <th>W</th>\n",
              "      <th>X</th>\n",
              "    </tr>\n",
              "  </thead>\n",
              "  <tbody>\n",
              "    <tr>\n",
              "      <th>A</th>\n",
              "      <td>-1.085631</td>\n",
              "      <td>0.997345</td>\n",
              "    </tr>\n",
              "    <tr>\n",
              "      <th>B</th>\n",
              "      <td>-0.578600</td>\n",
              "      <td>1.651437</td>\n",
              "    </tr>\n",
              "    <tr>\n",
              "      <th>C</th>\n",
              "      <td>1.265936</td>\n",
              "      <td>-0.866740</td>\n",
              "    </tr>\n",
              "    <tr>\n",
              "      <th>D</th>\n",
              "      <td>1.491390</td>\n",
              "      <td>-0.638902</td>\n",
              "    </tr>\n",
              "    <tr>\n",
              "      <th>E</th>\n",
              "      <td>2.205930</td>\n",
              "      <td>2.186786</td>\n",
              "    </tr>\n",
              "  </tbody>\n",
              "</table>\n",
              "</div>"
            ],
            "text/plain": [
              "          W         X\n",
              "A -1.085631  0.997345\n",
              "B -0.578600  1.651437\n",
              "C  1.265936 -0.866740\n",
              "D  1.491390 -0.638902\n",
              "E  2.205930  2.186786"
            ]
          },
          "metadata": {
            "tags": []
          },
          "execution_count": 26
        }
      ]
    },
    {
      "cell_type": "code",
      "metadata": {
        "colab": {
          "base_uri": "https://localhost:8080/",
          "height": 166
        },
        "id": "OYVnMe8sC8Hj",
        "outputId": "07b90bde-f1b6-448c-e31d-f27b95874550"
      },
      "source": [
        "df3 = df.drop('E', axis=0)\r\n",
        "df3\r\n"
      ],
      "execution_count": 27,
      "outputs": [
        {
          "output_type": "execute_result",
          "data": {
            "text/html": [
              "<div>\n",
              "<style scoped>\n",
              "    .dataframe tbody tr th:only-of-type {\n",
              "        vertical-align: middle;\n",
              "    }\n",
              "\n",
              "    .dataframe tbody tr th {\n",
              "        vertical-align: top;\n",
              "    }\n",
              "\n",
              "    .dataframe thead th {\n",
              "        text-align: right;\n",
              "    }\n",
              "</style>\n",
              "<table border=\"1\" class=\"dataframe\">\n",
              "  <thead>\n",
              "    <tr style=\"text-align: right;\">\n",
              "      <th></th>\n",
              "      <th>W</th>\n",
              "      <th>X</th>\n",
              "      <th>Y</th>\n",
              "      <th>Z</th>\n",
              "      <th>New</th>\n",
              "    </tr>\n",
              "  </thead>\n",
              "  <tbody>\n",
              "    <tr>\n",
              "      <th>A</th>\n",
              "      <td>-1.085631</td>\n",
              "      <td>0.997345</td>\n",
              "      <td>0.282978</td>\n",
              "      <td>-1.506295</td>\n",
              "      <td>-0.802652</td>\n",
              "    </tr>\n",
              "    <tr>\n",
              "      <th>B</th>\n",
              "      <td>-0.578600</td>\n",
              "      <td>1.651437</td>\n",
              "      <td>-2.426679</td>\n",
              "      <td>-0.428913</td>\n",
              "      <td>-3.005279</td>\n",
              "    </tr>\n",
              "    <tr>\n",
              "      <th>C</th>\n",
              "      <td>1.265936</td>\n",
              "      <td>-0.866740</td>\n",
              "      <td>-0.678886</td>\n",
              "      <td>-0.094709</td>\n",
              "      <td>0.587050</td>\n",
              "    </tr>\n",
              "    <tr>\n",
              "      <th>D</th>\n",
              "      <td>1.491390</td>\n",
              "      <td>-0.638902</td>\n",
              "      <td>-0.443982</td>\n",
              "      <td>-0.434351</td>\n",
              "      <td>1.047408</td>\n",
              "    </tr>\n",
              "  </tbody>\n",
              "</table>\n",
              "</div>"
            ],
            "text/plain": [
              "          W         X         Y         Z       New\n",
              "A -1.085631  0.997345  0.282978 -1.506295 -0.802652\n",
              "B -0.578600  1.651437 -2.426679 -0.428913 -3.005279\n",
              "C  1.265936 -0.866740 -0.678886 -0.094709  0.587050\n",
              "D  1.491390 -0.638902 -0.443982 -0.434351  1.047408"
            ]
          },
          "metadata": {
            "tags": []
          },
          "execution_count": 27
        }
      ]
    },
    {
      "cell_type": "code",
      "metadata": {
        "colab": {
          "base_uri": "https://localhost:8080/",
          "height": 195
        },
        "id": "2xr8ProMDQMx",
        "outputId": "ad22be6c-48d7-45a2-a7e8-28e68510ad18"
      },
      "source": [
        "df3b = df.drop('W', axis=1)\r\n",
        "df3b"
      ],
      "execution_count": 29,
      "outputs": [
        {
          "output_type": "execute_result",
          "data": {
            "text/html": [
              "<div>\n",
              "<style scoped>\n",
              "    .dataframe tbody tr th:only-of-type {\n",
              "        vertical-align: middle;\n",
              "    }\n",
              "\n",
              "    .dataframe tbody tr th {\n",
              "        vertical-align: top;\n",
              "    }\n",
              "\n",
              "    .dataframe thead th {\n",
              "        text-align: right;\n",
              "    }\n",
              "</style>\n",
              "<table border=\"1\" class=\"dataframe\">\n",
              "  <thead>\n",
              "    <tr style=\"text-align: right;\">\n",
              "      <th></th>\n",
              "      <th>X</th>\n",
              "      <th>Y</th>\n",
              "      <th>Z</th>\n",
              "      <th>New</th>\n",
              "    </tr>\n",
              "  </thead>\n",
              "  <tbody>\n",
              "    <tr>\n",
              "      <th>A</th>\n",
              "      <td>0.997345</td>\n",
              "      <td>0.282978</td>\n",
              "      <td>-1.506295</td>\n",
              "      <td>-0.802652</td>\n",
              "    </tr>\n",
              "    <tr>\n",
              "      <th>B</th>\n",
              "      <td>1.651437</td>\n",
              "      <td>-2.426679</td>\n",
              "      <td>-0.428913</td>\n",
              "      <td>-3.005279</td>\n",
              "    </tr>\n",
              "    <tr>\n",
              "      <th>C</th>\n",
              "      <td>-0.866740</td>\n",
              "      <td>-0.678886</td>\n",
              "      <td>-0.094709</td>\n",
              "      <td>0.587050</td>\n",
              "    </tr>\n",
              "    <tr>\n",
              "      <th>D</th>\n",
              "      <td>-0.638902</td>\n",
              "      <td>-0.443982</td>\n",
              "      <td>-0.434351</td>\n",
              "      <td>1.047408</td>\n",
              "    </tr>\n",
              "    <tr>\n",
              "      <th>E</th>\n",
              "      <td>2.186786</td>\n",
              "      <td>1.004054</td>\n",
              "      <td>0.386186</td>\n",
              "      <td>3.209984</td>\n",
              "    </tr>\n",
              "  </tbody>\n",
              "</table>\n",
              "</div>"
            ],
            "text/plain": [
              "          X         Y         Z       New\n",
              "A  0.997345  0.282978 -1.506295 -0.802652\n",
              "B  1.651437 -2.426679 -0.428913 -3.005279\n",
              "C -0.866740 -0.678886 -0.094709  0.587050\n",
              "D -0.638902 -0.443982 -0.434351  1.047408\n",
              "E  2.186786  1.004054  0.386186  3.209984"
            ]
          },
          "metadata": {
            "tags": []
          },
          "execution_count": 29
        }
      ]
    },
    {
      "cell_type": "code",
      "metadata": {
        "colab": {
          "base_uri": "https://localhost:8080/"
        },
        "id": "PdALZt0bDsJF",
        "outputId": "c17fe538-eaa3-4718-9589-7ce352ab3e6d"
      },
      "source": [
        "df4 = df.iloc[1]\r\n",
        "df4"
      ],
      "execution_count": 30,
      "outputs": [
        {
          "output_type": "execute_result",
          "data": {
            "text/plain": [
              "W     -0.578600\n",
              "X      1.651437\n",
              "Y     -2.426679\n",
              "Z     -0.428913\n",
              "New   -3.005279\n",
              "Name: B, dtype: float64"
            ]
          },
          "metadata": {
            "tags": []
          },
          "execution_count": 30
        }
      ]
    },
    {
      "cell_type": "code",
      "metadata": {
        "colab": {
          "base_uri": "https://localhost:8080/",
          "height": 195
        },
        "id": "Zg46-ybbEMDn",
        "outputId": "61b6ba57-a6c4-4921-e026-9df89fdeb83a"
      },
      "source": [
        "df\r\n",
        "df > 0\r\n",
        "booldf = df > 0\r\n",
        "booldf"
      ],
      "execution_count": 31,
      "outputs": [
        {
          "output_type": "execute_result",
          "data": {
            "text/html": [
              "<div>\n",
              "<style scoped>\n",
              "    .dataframe tbody tr th:only-of-type {\n",
              "        vertical-align: middle;\n",
              "    }\n",
              "\n",
              "    .dataframe tbody tr th {\n",
              "        vertical-align: top;\n",
              "    }\n",
              "\n",
              "    .dataframe thead th {\n",
              "        text-align: right;\n",
              "    }\n",
              "</style>\n",
              "<table border=\"1\" class=\"dataframe\">\n",
              "  <thead>\n",
              "    <tr style=\"text-align: right;\">\n",
              "      <th></th>\n",
              "      <th>W</th>\n",
              "      <th>X</th>\n",
              "      <th>Y</th>\n",
              "      <th>Z</th>\n",
              "      <th>New</th>\n",
              "    </tr>\n",
              "  </thead>\n",
              "  <tbody>\n",
              "    <tr>\n",
              "      <th>A</th>\n",
              "      <td>False</td>\n",
              "      <td>True</td>\n",
              "      <td>True</td>\n",
              "      <td>False</td>\n",
              "      <td>False</td>\n",
              "    </tr>\n",
              "    <tr>\n",
              "      <th>B</th>\n",
              "      <td>False</td>\n",
              "      <td>True</td>\n",
              "      <td>False</td>\n",
              "      <td>False</td>\n",
              "      <td>False</td>\n",
              "    </tr>\n",
              "    <tr>\n",
              "      <th>C</th>\n",
              "      <td>True</td>\n",
              "      <td>False</td>\n",
              "      <td>False</td>\n",
              "      <td>False</td>\n",
              "      <td>True</td>\n",
              "    </tr>\n",
              "    <tr>\n",
              "      <th>D</th>\n",
              "      <td>True</td>\n",
              "      <td>False</td>\n",
              "      <td>False</td>\n",
              "      <td>False</td>\n",
              "      <td>True</td>\n",
              "    </tr>\n",
              "    <tr>\n",
              "      <th>E</th>\n",
              "      <td>True</td>\n",
              "      <td>True</td>\n",
              "      <td>True</td>\n",
              "      <td>True</td>\n",
              "      <td>True</td>\n",
              "    </tr>\n",
              "  </tbody>\n",
              "</table>\n",
              "</div>"
            ],
            "text/plain": [
              "       W      X      Y      Z    New\n",
              "A  False   True   True  False  False\n",
              "B  False   True  False  False  False\n",
              "C   True  False  False  False   True\n",
              "D   True  False  False  False   True\n",
              "E   True   True   True   True   True"
            ]
          },
          "metadata": {
            "tags": []
          },
          "execution_count": 31
        }
      ]
    },
    {
      "cell_type": "code",
      "metadata": {
        "colab": {
          "base_uri": "https://localhost:8080/",
          "height": 195
        },
        "id": "RbdB6RflEVs9",
        "outputId": "060fa160-0d76-42f7-8563-e5a6d7ec5ef7"
      },
      "source": [
        "df6 = df[booldf]\r\n",
        "df6"
      ],
      "execution_count": 32,
      "outputs": [
        {
          "output_type": "execute_result",
          "data": {
            "text/html": [
              "<div>\n",
              "<style scoped>\n",
              "    .dataframe tbody tr th:only-of-type {\n",
              "        vertical-align: middle;\n",
              "    }\n",
              "\n",
              "    .dataframe tbody tr th {\n",
              "        vertical-align: top;\n",
              "    }\n",
              "\n",
              "    .dataframe thead th {\n",
              "        text-align: right;\n",
              "    }\n",
              "</style>\n",
              "<table border=\"1\" class=\"dataframe\">\n",
              "  <thead>\n",
              "    <tr style=\"text-align: right;\">\n",
              "      <th></th>\n",
              "      <th>W</th>\n",
              "      <th>X</th>\n",
              "      <th>Y</th>\n",
              "      <th>Z</th>\n",
              "      <th>New</th>\n",
              "    </tr>\n",
              "  </thead>\n",
              "  <tbody>\n",
              "    <tr>\n",
              "      <th>A</th>\n",
              "      <td>NaN</td>\n",
              "      <td>0.997345</td>\n",
              "      <td>0.282978</td>\n",
              "      <td>NaN</td>\n",
              "      <td>NaN</td>\n",
              "    </tr>\n",
              "    <tr>\n",
              "      <th>B</th>\n",
              "      <td>NaN</td>\n",
              "      <td>1.651437</td>\n",
              "      <td>NaN</td>\n",
              "      <td>NaN</td>\n",
              "      <td>NaN</td>\n",
              "    </tr>\n",
              "    <tr>\n",
              "      <th>C</th>\n",
              "      <td>1.265936</td>\n",
              "      <td>NaN</td>\n",
              "      <td>NaN</td>\n",
              "      <td>NaN</td>\n",
              "      <td>0.587050</td>\n",
              "    </tr>\n",
              "    <tr>\n",
              "      <th>D</th>\n",
              "      <td>1.491390</td>\n",
              "      <td>NaN</td>\n",
              "      <td>NaN</td>\n",
              "      <td>NaN</td>\n",
              "      <td>1.047408</td>\n",
              "    </tr>\n",
              "    <tr>\n",
              "      <th>E</th>\n",
              "      <td>2.205930</td>\n",
              "      <td>2.186786</td>\n",
              "      <td>1.004054</td>\n",
              "      <td>0.386186</td>\n",
              "      <td>3.209984</td>\n",
              "    </tr>\n",
              "  </tbody>\n",
              "</table>\n",
              "</div>"
            ],
            "text/plain": [
              "          W         X         Y         Z       New\n",
              "A       NaN  0.997345  0.282978       NaN       NaN\n",
              "B       NaN  1.651437       NaN       NaN       NaN\n",
              "C  1.265936       NaN       NaN       NaN  0.587050\n",
              "D  1.491390       NaN       NaN       NaN  1.047408\n",
              "E  2.205930  2.186786  1.004054  0.386186  3.209984"
            ]
          },
          "metadata": {
            "tags": []
          },
          "execution_count": 32
        }
      ]
    },
    {
      "cell_type": "code",
      "metadata": {
        "colab": {
          "base_uri": "https://localhost:8080/",
          "height": 195
        },
        "id": "y2n4fKFPEfOM",
        "outputId": "59868c6b-4e63-488c-81f4-2759b9533e3d"
      },
      "source": [
        "df7 = df[df > 0]\r\n",
        "df7"
      ],
      "execution_count": 33,
      "outputs": [
        {
          "output_type": "execute_result",
          "data": {
            "text/html": [
              "<div>\n",
              "<style scoped>\n",
              "    .dataframe tbody tr th:only-of-type {\n",
              "        vertical-align: middle;\n",
              "    }\n",
              "\n",
              "    .dataframe tbody tr th {\n",
              "        vertical-align: top;\n",
              "    }\n",
              "\n",
              "    .dataframe thead th {\n",
              "        text-align: right;\n",
              "    }\n",
              "</style>\n",
              "<table border=\"1\" class=\"dataframe\">\n",
              "  <thead>\n",
              "    <tr style=\"text-align: right;\">\n",
              "      <th></th>\n",
              "      <th>W</th>\n",
              "      <th>X</th>\n",
              "      <th>Y</th>\n",
              "      <th>Z</th>\n",
              "      <th>New</th>\n",
              "    </tr>\n",
              "  </thead>\n",
              "  <tbody>\n",
              "    <tr>\n",
              "      <th>A</th>\n",
              "      <td>NaN</td>\n",
              "      <td>0.997345</td>\n",
              "      <td>0.282978</td>\n",
              "      <td>NaN</td>\n",
              "      <td>NaN</td>\n",
              "    </tr>\n",
              "    <tr>\n",
              "      <th>B</th>\n",
              "      <td>NaN</td>\n",
              "      <td>1.651437</td>\n",
              "      <td>NaN</td>\n",
              "      <td>NaN</td>\n",
              "      <td>NaN</td>\n",
              "    </tr>\n",
              "    <tr>\n",
              "      <th>C</th>\n",
              "      <td>1.265936</td>\n",
              "      <td>NaN</td>\n",
              "      <td>NaN</td>\n",
              "      <td>NaN</td>\n",
              "      <td>0.587050</td>\n",
              "    </tr>\n",
              "    <tr>\n",
              "      <th>D</th>\n",
              "      <td>1.491390</td>\n",
              "      <td>NaN</td>\n",
              "      <td>NaN</td>\n",
              "      <td>NaN</td>\n",
              "      <td>1.047408</td>\n",
              "    </tr>\n",
              "    <tr>\n",
              "      <th>E</th>\n",
              "      <td>2.205930</td>\n",
              "      <td>2.186786</td>\n",
              "      <td>1.004054</td>\n",
              "      <td>0.386186</td>\n",
              "      <td>3.209984</td>\n",
              "    </tr>\n",
              "  </tbody>\n",
              "</table>\n",
              "</div>"
            ],
            "text/plain": [
              "          W         X         Y         Z       New\n",
              "A       NaN  0.997345  0.282978       NaN       NaN\n",
              "B       NaN  1.651437       NaN       NaN       NaN\n",
              "C  1.265936       NaN       NaN       NaN  0.587050\n",
              "D  1.491390       NaN       NaN       NaN  1.047408\n",
              "E  2.205930  2.186786  1.004054  0.386186  3.209984"
            ]
          },
          "metadata": {
            "tags": []
          },
          "execution_count": 33
        }
      ]
    },
    {
      "cell_type": "code",
      "metadata": {
        "colab": {
          "base_uri": "https://localhost:8080/"
        },
        "id": "smjeLRwKEyQa",
        "outputId": "abf70903-a71b-4ea3-b1cd-246842ad0e33"
      },
      "source": [
        "df8 = df['Z'] > 0\r\n",
        "df8"
      ],
      "execution_count": 34,
      "outputs": [
        {
          "output_type": "execute_result",
          "data": {
            "text/plain": [
              "A    False\n",
              "B    False\n",
              "C    False\n",
              "D    False\n",
              "E     True\n",
              "Name: Z, dtype: bool"
            ]
          },
          "metadata": {
            "tags": []
          },
          "execution_count": 34
        }
      ]
    },
    {
      "cell_type": "code",
      "metadata": {
        "colab": {
          "base_uri": "https://localhost:8080/",
          "height": 136
        },
        "id": "yOz8KhSwE4Wj",
        "outputId": "1f11fcce-a924-4473-8fbd-dc29ce406d5d"
      },
      "source": [
        "df9 = df[df['W']>0]\r\n",
        "df9"
      ],
      "execution_count": 35,
      "outputs": [
        {
          "output_type": "execute_result",
          "data": {
            "text/html": [
              "<div>\n",
              "<style scoped>\n",
              "    .dataframe tbody tr th:only-of-type {\n",
              "        vertical-align: middle;\n",
              "    }\n",
              "\n",
              "    .dataframe tbody tr th {\n",
              "        vertical-align: top;\n",
              "    }\n",
              "\n",
              "    .dataframe thead th {\n",
              "        text-align: right;\n",
              "    }\n",
              "</style>\n",
              "<table border=\"1\" class=\"dataframe\">\n",
              "  <thead>\n",
              "    <tr style=\"text-align: right;\">\n",
              "      <th></th>\n",
              "      <th>W</th>\n",
              "      <th>X</th>\n",
              "      <th>Y</th>\n",
              "      <th>Z</th>\n",
              "      <th>New</th>\n",
              "    </tr>\n",
              "  </thead>\n",
              "  <tbody>\n",
              "    <tr>\n",
              "      <th>C</th>\n",
              "      <td>1.265936</td>\n",
              "      <td>-0.866740</td>\n",
              "      <td>-0.678886</td>\n",
              "      <td>-0.094709</td>\n",
              "      <td>0.587050</td>\n",
              "    </tr>\n",
              "    <tr>\n",
              "      <th>D</th>\n",
              "      <td>1.491390</td>\n",
              "      <td>-0.638902</td>\n",
              "      <td>-0.443982</td>\n",
              "      <td>-0.434351</td>\n",
              "      <td>1.047408</td>\n",
              "    </tr>\n",
              "    <tr>\n",
              "      <th>E</th>\n",
              "      <td>2.205930</td>\n",
              "      <td>2.186786</td>\n",
              "      <td>1.004054</td>\n",
              "      <td>0.386186</td>\n",
              "      <td>3.209984</td>\n",
              "    </tr>\n",
              "  </tbody>\n",
              "</table>\n",
              "</div>"
            ],
            "text/plain": [
              "          W         X         Y         Z       New\n",
              "C  1.265936 -0.866740 -0.678886 -0.094709  0.587050\n",
              "D  1.491390 -0.638902 -0.443982 -0.434351  1.047408\n",
              "E  2.205930  2.186786  1.004054  0.386186  3.209984"
            ]
          },
          "metadata": {
            "tags": []
          },
          "execution_count": 35
        }
      ]
    },
    {
      "cell_type": "code",
      "metadata": {
        "colab": {
          "base_uri": "https://localhost:8080/",
          "height": 195
        },
        "id": "6ngunOYfFec-",
        "outputId": "ae69cd7f-8f0a-4d4d-f334-dc6cc9a9157c"
      },
      "source": [
        "df10 = df.rename(columns={'W':'WW'}, inplace=False)\r\n",
        "df10"
      ],
      "execution_count": 36,
      "outputs": [
        {
          "output_type": "execute_result",
          "data": {
            "text/html": [
              "<div>\n",
              "<style scoped>\n",
              "    .dataframe tbody tr th:only-of-type {\n",
              "        vertical-align: middle;\n",
              "    }\n",
              "\n",
              "    .dataframe tbody tr th {\n",
              "        vertical-align: top;\n",
              "    }\n",
              "\n",
              "    .dataframe thead th {\n",
              "        text-align: right;\n",
              "    }\n",
              "</style>\n",
              "<table border=\"1\" class=\"dataframe\">\n",
              "  <thead>\n",
              "    <tr style=\"text-align: right;\">\n",
              "      <th></th>\n",
              "      <th>WW</th>\n",
              "      <th>X</th>\n",
              "      <th>Y</th>\n",
              "      <th>Z</th>\n",
              "      <th>New</th>\n",
              "    </tr>\n",
              "  </thead>\n",
              "  <tbody>\n",
              "    <tr>\n",
              "      <th>A</th>\n",
              "      <td>-1.085631</td>\n",
              "      <td>0.997345</td>\n",
              "      <td>0.282978</td>\n",
              "      <td>-1.506295</td>\n",
              "      <td>-0.802652</td>\n",
              "    </tr>\n",
              "    <tr>\n",
              "      <th>B</th>\n",
              "      <td>-0.578600</td>\n",
              "      <td>1.651437</td>\n",
              "      <td>-2.426679</td>\n",
              "      <td>-0.428913</td>\n",
              "      <td>-3.005279</td>\n",
              "    </tr>\n",
              "    <tr>\n",
              "      <th>C</th>\n",
              "      <td>1.265936</td>\n",
              "      <td>-0.866740</td>\n",
              "      <td>-0.678886</td>\n",
              "      <td>-0.094709</td>\n",
              "      <td>0.587050</td>\n",
              "    </tr>\n",
              "    <tr>\n",
              "      <th>D</th>\n",
              "      <td>1.491390</td>\n",
              "      <td>-0.638902</td>\n",
              "      <td>-0.443982</td>\n",
              "      <td>-0.434351</td>\n",
              "      <td>1.047408</td>\n",
              "    </tr>\n",
              "    <tr>\n",
              "      <th>E</th>\n",
              "      <td>2.205930</td>\n",
              "      <td>2.186786</td>\n",
              "      <td>1.004054</td>\n",
              "      <td>0.386186</td>\n",
              "      <td>3.209984</td>\n",
              "    </tr>\n",
              "  </tbody>\n",
              "</table>\n",
              "</div>"
            ],
            "text/plain": [
              "         WW         X         Y         Z       New\n",
              "A -1.085631  0.997345  0.282978 -1.506295 -0.802652\n",
              "B -0.578600  1.651437 -2.426679 -0.428913 -3.005279\n",
              "C  1.265936 -0.866740 -0.678886 -0.094709  0.587050\n",
              "D  1.491390 -0.638902 -0.443982 -0.434351  1.047408\n",
              "E  2.205930  2.186786  1.004054  0.386186  3.209984"
            ]
          },
          "metadata": {
            "tags": []
          },
          "execution_count": 36
        }
      ]
    },
    {
      "cell_type": "code",
      "metadata": {
        "id": "qdD3TrK2Fqwd"
      },
      "source": [
        "import pandas as pd\r\n",
        "import matplotlib.pyplot as plt\r\n",
        "\r\n",
        "df11 = pd.read_csv('https://rawgithubusercontent.com/CUNYLaGuardiaDataAnalytics/datasets/master/faithful.csv', index_col=0)"
      ],
      "execution_count": 48,
      "outputs": []
    },
    {
      "cell_type": "code",
      "metadata": {
        "colab": {
          "base_uri": "https://localhost:8080/",
          "height": 329
        },
        "id": "52RpQl-MJNcE",
        "outputId": "942587b2-5e03-4c64-c39a-889f059f9b2b"
      },
      "source": [
        "# preview first 5 rows\r\n",
        "df11.head()"
      ],
      "execution_count": 44,
      "outputs": [
        {
          "output_type": "execute_result",
          "data": {
            "text/html": [
              "<div>\n",
              "<style scoped>\n",
              "    .dataframe tbody tr th:only-of-type {\n",
              "        vertical-align: middle;\n",
              "    }\n",
              "\n",
              "    .dataframe tbody tr th {\n",
              "        vertical-align: top;\n",
              "    }\n",
              "\n",
              "    .dataframe thead th {\n",
              "        text-align: right;\n",
              "    }\n",
              "</style>\n",
              "<table border=\"1\" class=\"dataframe\">\n",
              "  <thead>\n",
              "    <tr style=\"text-align: right;\">\n",
              "      <th></th>\n",
              "      <th>initial-scale=1.0</th>\n",
              "      <th>maximum-scale=1.0</th>\n",
              "      <th>user-scalable=0\"&gt;&lt;meta name=\"description\" content=\" \"&gt;&lt;link</th>\n",
              "    </tr>\n",
              "    <tr>\n",
              "      <th>&lt;!DOCTYPE html&gt;&lt;html lang=\"en\"  data-adblockkey=MFwwDQYJKoZIhvcNAQEBBQADSwAwSAJBANnylWw2vLY4hUn9w06zQKbhKBfvjFUCsdFlb6TdQhxb9RXWXuI4t31c+o8fYOv/s8q1LGPga3DE1L/tHU4LENMCAwEAAQ==_nWJiPeAuczeK3fOoYDoU8Ha37hxlCj6hdv4F6orA47IgDMBvhdcGQ4IOVK2NZSI5LL9ekOhS0vp//dTGkOLLjQ==&gt;&lt;head&gt;&lt;meta charset=\"utf-8\"&gt;&lt;title&gt;rawgithubusercontent.com&amp;nbsp;-&amp;nbsp&lt;/title&gt;&lt;meta name=\"viewport\" content=\"width=device-width</th>\n",
              "      <th></th>\n",
              "      <th></th>\n",
              "      <th></th>\n",
              "    </tr>\n",
              "  </thead>\n",
              "  <tbody>\n",
              "    <tr>\n",
              "      <th>rel=\"icon\"</th>\n",
              "      <td>NaN</td>\n",
              "      <td>NaN</td>\n",
              "      <td>NaN</td>\n",
              "    </tr>\n",
              "    <tr>\n",
              "      <th>type=\"image/png\"</th>\n",
              "      <td>NaN</td>\n",
              "      <td>NaN</td>\n",
              "      <td>NaN</td>\n",
              "    </tr>\n",
              "    <tr>\n",
              "      <th>href=\"//img.sedoparking.com/templates/logos/sedo_logo.png\"</th>\n",
              "      <td>NaN</td>\n",
              "      <td>NaN</td>\n",
              "      <td>NaN</td>\n",
              "    </tr>\n",
              "    <tr>\n",
              "      <th>/&gt;&lt;/head&gt;&lt;body&gt;&lt;img width=\"16\" height=\"16\" src=\"http://img.sedoparking.com/images/js_preloader.gif\"/&gt;&lt;script type=\"text/javascript\"&gt;</th>\n",
              "      <td>NaN</td>\n",
              "      <td>NaN</td>\n",
              "      <td>NaN</td>\n",
              "    </tr>\n",
              "    <tr>\n",
              "      <th>var request = new XMLHttpRequest();</th>\n",
              "      <td>NaN</td>\n",
              "      <td>NaN</td>\n",
              "      <td>NaN</td>\n",
              "    </tr>\n",
              "  </tbody>\n",
              "</table>\n",
              "</div>"
            ],
            "text/plain": [
              "                                                   initial-scale=1.0  ...  user-scalable=0\"><meta name=\"description\" content=\" \"><link\n",
              "<!DOCTYPE html><html lang=\"en\"  data-adblockkey...                    ...                                                             \n",
              "        rel=\"icon\"                                               NaN  ...                                                NaN          \n",
              "        type=\"image/png\"                                         NaN  ...                                                NaN          \n",
              "        href=\"//img.sedoparking.com/templates/l...               NaN  ...                                                NaN          \n",
              "/></head><body><img width=\"16\" height=\"16\" src=...               NaN  ...                                                NaN          \n",
              "    var request = new XMLHttpRequest();                          NaN  ...                                                NaN          \n",
              "\n",
              "[5 rows x 3 columns]"
            ]
          },
          "metadata": {
            "tags": []
          },
          "execution_count": 44
        }
      ]
    },
    {
      "cell_type": "code",
      "metadata": {
        "colab": {
          "base_uri": "https://localhost:8080/",
          "height": 494
        },
        "id": "QY8fBsG-JZhG",
        "outputId": "68d6aec5-7bb9-410d-ea86-2f2e72f2745e"
      },
      "source": [
        "# preview first 10 rows\r\n",
        "df11.head(10)"
      ],
      "execution_count": 49,
      "outputs": [
        {
          "output_type": "execute_result",
          "data": {
            "text/html": [
              "<div>\n",
              "<style scoped>\n",
              "    .dataframe tbody tr th:only-of-type {\n",
              "        vertical-align: middle;\n",
              "    }\n",
              "\n",
              "    .dataframe tbody tr th {\n",
              "        vertical-align: top;\n",
              "    }\n",
              "\n",
              "    .dataframe thead th {\n",
              "        text-align: right;\n",
              "    }\n",
              "</style>\n",
              "<table border=\"1\" class=\"dataframe\">\n",
              "  <thead>\n",
              "    <tr style=\"text-align: right;\">\n",
              "      <th></th>\n",
              "      <th>initial-scale=1.0</th>\n",
              "      <th>maximum-scale=1.0</th>\n",
              "      <th>user-scalable=0\"&gt;&lt;meta name=\"description\" content=\" \"&gt;&lt;link</th>\n",
              "    </tr>\n",
              "    <tr>\n",
              "      <th>&lt;!DOCTYPE html&gt;&lt;html lang=\"en\"  data-adblockkey=MFwwDQYJKoZIhvcNAQEBBQADSwAwSAJBANnylWw2vLY4hUn9w06zQKbhKBfvjFUCsdFlb6TdQhxb9RXWXuI4t31c+o8fYOv/s8q1LGPga3DE1L/tHU4LENMCAwEAAQ==_nWJiPeAuczeK3fOoYDoU8Ha37hxlCj6hdv4F6orA47IgDMBvhdcGQ4IOVK2NZSI5LL9ekOhS0vp//dTGkOLLjQ==&gt;&lt;head&gt;&lt;meta charset=\"utf-8\"&gt;&lt;title&gt;rawgithubusercontent.com&amp;nbsp;-&amp;nbsp&lt;/title&gt;&lt;meta name=\"viewport\" content=\"width=device-width</th>\n",
              "      <th></th>\n",
              "      <th></th>\n",
              "      <th></th>\n",
              "    </tr>\n",
              "  </thead>\n",
              "  <tbody>\n",
              "    <tr>\n",
              "      <th>rel=\"icon\"</th>\n",
              "      <td>NaN</td>\n",
              "      <td>NaN</td>\n",
              "      <td>NaN</td>\n",
              "    </tr>\n",
              "    <tr>\n",
              "      <th>type=\"image/png\"</th>\n",
              "      <td>NaN</td>\n",
              "      <td>NaN</td>\n",
              "      <td>NaN</td>\n",
              "    </tr>\n",
              "    <tr>\n",
              "      <th>href=\"//img.sedoparking.com/templates/logos/sedo_logo.png\"</th>\n",
              "      <td>NaN</td>\n",
              "      <td>NaN</td>\n",
              "      <td>NaN</td>\n",
              "    </tr>\n",
              "    <tr>\n",
              "      <th>/&gt;&lt;/head&gt;&lt;body&gt;&lt;img width=\"16\" height=\"16\" src=\"http://img.sedoparking.com/images/js_preloader.gif\"/&gt;&lt;script type=\"text/javascript\"&gt;</th>\n",
              "      <td>NaN</td>\n",
              "      <td>NaN</td>\n",
              "      <td>NaN</td>\n",
              "    </tr>\n",
              "    <tr>\n",
              "      <th>var request = new XMLHttpRequest();</th>\n",
              "      <td>NaN</td>\n",
              "      <td>NaN</td>\n",
              "      <td>NaN</td>\n",
              "    </tr>\n",
              "    <tr>\n",
              "      <th>request.open('GET'</th>\n",
              "      <td>\"//rawgithubusercontent.com/search/tsc.php?20...</td>\n",
              "      <td>NaN</td>\n",
              "      <td>NaN</td>\n",
              "    </tr>\n",
              "    <tr>\n",
              "      <th>request.send();</th>\n",
              "      <td>NaN</td>\n",
              "      <td>NaN</td>\n",
              "      <td>NaN</td>\n",
              "    </tr>\n",
              "    <tr>\n",
              "      <th>request.onreadystatechange = function() {</th>\n",
              "      <td>NaN</td>\n",
              "      <td>NaN</td>\n",
              "      <td>NaN</td>\n",
              "    </tr>\n",
              "    <tr>\n",
              "      <th>if (request.readyState === 4) {</th>\n",
              "      <td>NaN</td>\n",
              "      <td>NaN</td>\n",
              "      <td>NaN</td>\n",
              "    </tr>\n",
              "    <tr>\n",
              "      <th>if (request.status === 200) {</th>\n",
              "      <td>NaN</td>\n",
              "      <td>NaN</td>\n",
              "      <td>NaN</td>\n",
              "    </tr>\n",
              "  </tbody>\n",
              "</table>\n",
              "</div>"
            ],
            "text/plain": [
              "                                                                                    initial-scale=1.0  ...  user-scalable=0\"><meta name=\"description\" content=\" \"><link\n",
              "<!DOCTYPE html><html lang=\"en\"  data-adblockkey...                                                     ...                                                             \n",
              "        rel=\"icon\"                                                                                NaN  ...                                                NaN          \n",
              "        type=\"image/png\"                                                                          NaN  ...                                                NaN          \n",
              "        href=\"//img.sedoparking.com/templates/l...                                                NaN  ...                                                NaN          \n",
              "/></head><body><img width=\"16\" height=\"16\" src=...                                                NaN  ...                                                NaN          \n",
              "    var request = new XMLHttpRequest();                                                           NaN  ...                                                NaN          \n",
              "    request.open('GET'                               \"//rawgithubusercontent.com/search/tsc.php?20...  ...                                                NaN          \n",
              "    request.send();                                                                               NaN  ...                                                NaN          \n",
              "            request.onreadystatechange = functi...                                                NaN  ...                                                NaN          \n",
              "            if (request.readyState === 4) {                                                       NaN  ...                                                NaN          \n",
              "                if (request.status === 200) {                                                     NaN  ...                                                NaN          \n",
              "\n",
              "[10 rows x 3 columns]"
            ]
          },
          "metadata": {
            "tags": []
          },
          "execution_count": 49
        }
      ]
    },
    {
      "cell_type": "code",
      "metadata": {
        "colab": {
          "base_uri": "https://localhost:8080/",
          "height": 284
        },
        "id": "xmJYRtSYJ5MP",
        "outputId": "0954b550-6615-4dae-f791-b0c67955a738"
      },
      "source": [
        "df11.describe()"
      ],
      "execution_count": 50,
      "outputs": [
        {
          "output_type": "execute_result",
          "data": {
            "text/html": [
              "<div>\n",
              "<style scoped>\n",
              "    .dataframe tbody tr th:only-of-type {\n",
              "        vertical-align: middle;\n",
              "    }\n",
              "\n",
              "    .dataframe tbody tr th {\n",
              "        vertical-align: top;\n",
              "    }\n",
              "\n",
              "    .dataframe thead th {\n",
              "        text-align: right;\n",
              "    }\n",
              "</style>\n",
              "<table border=\"1\" class=\"dataframe\">\n",
              "  <thead>\n",
              "    <tr style=\"text-align: right;\">\n",
              "      <th></th>\n",
              "      <th>maximum-scale=1.0</th>\n",
              "      <th>user-scalable=0\"&gt;&lt;meta name=\"description\" content=\" \"&gt;&lt;link</th>\n",
              "    </tr>\n",
              "  </thead>\n",
              "  <tbody>\n",
              "    <tr>\n",
              "      <th>count</th>\n",
              "      <td>0.0</td>\n",
              "      <td>0.0</td>\n",
              "    </tr>\n",
              "    <tr>\n",
              "      <th>mean</th>\n",
              "      <td>NaN</td>\n",
              "      <td>NaN</td>\n",
              "    </tr>\n",
              "    <tr>\n",
              "      <th>std</th>\n",
              "      <td>NaN</td>\n",
              "      <td>NaN</td>\n",
              "    </tr>\n",
              "    <tr>\n",
              "      <th>min</th>\n",
              "      <td>NaN</td>\n",
              "      <td>NaN</td>\n",
              "    </tr>\n",
              "    <tr>\n",
              "      <th>25%</th>\n",
              "      <td>NaN</td>\n",
              "      <td>NaN</td>\n",
              "    </tr>\n",
              "    <tr>\n",
              "      <th>50%</th>\n",
              "      <td>NaN</td>\n",
              "      <td>NaN</td>\n",
              "    </tr>\n",
              "    <tr>\n",
              "      <th>75%</th>\n",
              "      <td>NaN</td>\n",
              "      <td>NaN</td>\n",
              "    </tr>\n",
              "    <tr>\n",
              "      <th>max</th>\n",
              "      <td>NaN</td>\n",
              "      <td>NaN</td>\n",
              "    </tr>\n",
              "  </tbody>\n",
              "</table>\n",
              "</div>"
            ],
            "text/plain": [
              "       maximum-scale=1.0  user-scalable=0\"><meta name=\"description\" content=\" \"><link\n",
              "count                0.0                                                0.0          \n",
              "mean                 NaN                                                NaN          \n",
              "std                  NaN                                                NaN          \n",
              "min                  NaN                                                NaN          \n",
              "25%                  NaN                                                NaN          \n",
              "50%                  NaN                                                NaN          \n",
              "75%                  NaN                                                NaN          \n",
              "max                  NaN                                                NaN          "
            ]
          },
          "metadata": {
            "tags": []
          },
          "execution_count": 50
        }
      ]
    },
    {
      "cell_type": "code",
      "metadata": {
        "id": "k_gUYw5xK8DT"
      },
      "source": [
        "df11.count()\r\n",
        "df11.max()\r\n",
        "df11.min()\r\n",
        "df11.median()"
      ],
      "execution_count": null,
      "outputs": []
    },
    {
      "cell_type": "code",
      "metadata": {
        "colab": {
          "base_uri": "https://localhost:8080/",
          "height": 1000
        },
        "id": "5mG-gXpoLiSh",
        "outputId": "6f6c46fe-c2f5-419f-8fba-ebd20d9d70f9"
      },
      "source": [
        "%matplotlib inline\r\n",
        "df3.hist()\r\n",
        "df3.plot()\r\n",
        "df3.plot(kind ='box')\r\n",
        "df3.plot(kind ='bar')"
      ],
      "execution_count": 54,
      "outputs": [
        {
          "output_type": "execute_result",
          "data": {
            "text/plain": [
              "<matplotlib.axes._subplots.AxesSubplot at 0x7efd1beabc88>"
            ]
          },
          "metadata": {
            "tags": []
          },
          "execution_count": 54
        },
        {
          "output_type": "display_data",
          "data": {
            "image/png": "[encoded data removed]",
            "text/plain": [
              "<Figure size 432x288 with 6 Axes>"
            ]
          },
          "metadata": {
            "tags": [],
            "needs_background": "light"
          }
        },
        {
          "output_type": "display_data",
          "data": {
            "image/png": "[encoded data removed]",
            "text/plain": [
              "<Figure size 432x288 with 1 Axes>"
            ]
          },
          "metadata": {
            "tags": [],
            "needs_background": "light"
          }
        },
        {
          "output_type": "display_data",
          "data": {
            "image/png": "[encoded data removed]",
            "text/plain": [
              "<Figure size 432x288 with 1 Axes>"
            ]
          },
          "metadata": {
            "tags": [],
            "needs_background": "light"
          }
        },
        {
          "output_type": "display_data",
          "data": {
            "image/png": "[encoded data removed]",
            "text/plain": [
              "<Figure size 432x288 with 1 Axes>"
            ]
          },
          "metadata": {
            "tags": [],
            "needs_background": "light"
          }
        }
      ]
    },
    {
      "cell_type": "code",
      "metadata": {
        "colab": {
          "base_uri": "https://localhost:8080/",
          "height": 318
        },
        "id": "2NAnKUMKNf5d",
        "outputId": "93f9f3cb-c267-4fb5-f3c8-d6a35cb538ab"
      },
      "source": [
        "df12 = pd.read_csv('https://raw.githubusercontent.com/CunyLaguardiaDataAnalytics/datasets/master/311_Service_Requests_from_2019May.csv')\r\n",
        "df12.describe()"
      ],
      "execution_count": 56,
      "outputs": [
        {
          "output_type": "stream",
          "text": [
            "/usr/local/lib/python3.6/dist-packages/IPython/core/interactiveshell.py:2718: DtypeWarning: Columns (6) have mixed types.Specify dtype option on import or set low_memory=False.\n",
            "  interactivity=interactivity, compiler=compiler, result=result)\n"
          ],
          "name": "stderr"
        },
        {
          "output_type": "execute_result",
          "data": {
            "text/html": [
              "<div>\n",
              "<style scoped>\n",
              "    .dataframe tbody tr th:only-of-type {\n",
              "        vertical-align: middle;\n",
              "    }\n",
              "\n",
              "    .dataframe tbody tr th {\n",
              "        vertical-align: top;\n",
              "    }\n",
              "\n",
              "    .dataframe thead th {\n",
              "        text-align: right;\n",
              "    }\n",
              "</style>\n",
              "<table border=\"1\" class=\"dataframe\">\n",
              "  <thead>\n",
              "    <tr style=\"text-align: right;\">\n",
              "      <th></th>\n",
              "      <th>Unique Key</th>\n",
              "      <th>BBL</th>\n",
              "      <th>Latitude</th>\n",
              "      <th>Longitude</th>\n",
              "    </tr>\n",
              "  </thead>\n",
              "  <tbody>\n",
              "    <tr>\n",
              "      <th>count</th>\n",
              "      <td>6.963700e+04</td>\n",
              "      <td>5.570200e+04</td>\n",
              "      <td>65634.000000</td>\n",
              "      <td>65634.000000</td>\n",
              "    </tr>\n",
              "    <tr>\n",
              "      <th>mean</th>\n",
              "      <td>4.260307e+07</td>\n",
              "      <td>2.869652e+09</td>\n",
              "      <td>40.723149</td>\n",
              "      <td>-73.924517</td>\n",
              "    </tr>\n",
              "    <tr>\n",
              "      <th>std</th>\n",
              "      <td>5.269818e+04</td>\n",
              "      <td>1.184250e+09</td>\n",
              "      <td>0.083621</td>\n",
              "      <td>0.085089</td>\n",
              "    </tr>\n",
              "    <tr>\n",
              "      <th>min</th>\n",
              "      <td>4.251278e+07</td>\n",
              "      <td>0.000000e+00</td>\n",
              "      <td>40.500025</td>\n",
              "      <td>-74.252279</td>\n",
              "    </tr>\n",
              "    <tr>\n",
              "      <th>25%</th>\n",
              "      <td>4.258004e+07</td>\n",
              "      <td>2.030690e+09</td>\n",
              "      <td>40.664461</td>\n",
              "      <td>-73.972161</td>\n",
              "    </tr>\n",
              "    <tr>\n",
              "      <th>50%</th>\n",
              "      <td>4.260019e+07</td>\n",
              "      <td>3.034830e+09</td>\n",
              "      <td>40.716443</td>\n",
              "      <td>-73.929758</td>\n",
              "    </tr>\n",
              "    <tr>\n",
              "      <th>75%</th>\n",
              "      <td>4.262095e+07</td>\n",
              "      <td>4.023330e+09</td>\n",
              "      <td>40.780783</td>\n",
              "      <td>-73.874064</td>\n",
              "    </tr>\n",
              "    <tr>\n",
              "      <th>max</th>\n",
              "      <td>4.297343e+07</td>\n",
              "      <td>5.080480e+09</td>\n",
              "      <td>40.912869</td>\n",
              "      <td>-73.700597</td>\n",
              "    </tr>\n",
              "  </tbody>\n",
              "</table>\n",
              "</div>"
            ],
            "text/plain": [
              "         Unique Key           BBL      Latitude     Longitude\n",
              "count  6.963700e+04  5.570200e+04  65634.000000  65634.000000\n",
              "mean   4.260307e+07  2.869652e+09     40.723149    -73.924517\n",
              "std    5.269818e+04  1.184250e+09      0.083621      0.085089\n",
              "min    4.251278e+07  0.000000e+00     40.500025    -74.252279\n",
              "25%    4.258004e+07  2.030690e+09     40.664461    -73.972161\n",
              "50%    4.260019e+07  3.034830e+09     40.716443    -73.929758\n",
              "75%    4.262095e+07  4.023330e+09     40.780783    -73.874064\n",
              "max    4.297343e+07  5.080480e+09     40.912869    -73.700597"
            ]
          },
          "metadata": {
            "tags": []
          },
          "execution_count": 56
        }
      ]
    },
    {
      "cell_type": "code",
      "metadata": {
        "colab": {
          "base_uri": "https://localhost:8080/",
          "height": 602
        },
        "id": "a8FskXC0OdLN",
        "outputId": "836dbe0d-0885-4c32-c45d-d1a0bca5cd62"
      },
      "source": [
        "df12.head()"
      ],
      "execution_count": 57,
      "outputs": [
        {
          "output_type": "execute_result",
          "data": {
            "text/html": [
              "<div>\n",
              "<style scoped>\n",
              "    .dataframe tbody tr th:only-of-type {\n",
              "        vertical-align: middle;\n",
              "    }\n",
              "\n",
              "    .dataframe tbody tr th {\n",
              "        vertical-align: top;\n",
              "    }\n",
              "\n",
              "    .dataframe thead th {\n",
              "        text-align: right;\n",
              "    }\n",
              "</style>\n",
              "<table border=\"1\" class=\"dataframe\">\n",
              "  <thead>\n",
              "    <tr style=\"text-align: right;\">\n",
              "      <th></th>\n",
              "      <th>Unique Key</th>\n",
              "      <th>Created Date</th>\n",
              "      <th>Closed Date</th>\n",
              "      <th>Agency</th>\n",
              "      <th>Complaint Type</th>\n",
              "      <th>Location Type</th>\n",
              "      <th>Incident Zip</th>\n",
              "      <th>Incident Address</th>\n",
              "      <th>Street Name</th>\n",
              "      <th>Address Type</th>\n",
              "      <th>City</th>\n",
              "      <th>Landmark</th>\n",
              "      <th>Facility Type</th>\n",
              "      <th>Status</th>\n",
              "      <th>Due Date</th>\n",
              "      <th>Resolution Description</th>\n",
              "      <th>BBL</th>\n",
              "      <th>Borough</th>\n",
              "      <th>Latitude</th>\n",
              "      <th>Longitude</th>\n",
              "      <th>Location</th>\n",
              "    </tr>\n",
              "  </thead>\n",
              "  <tbody>\n",
              "    <tr>\n",
              "      <th>0</th>\n",
              "      <td>42680103</td>\n",
              "      <td>5/1/2019 0:00</td>\n",
              "      <td>5/16/2019 21:45</td>\n",
              "      <td>DEP</td>\n",
              "      <td>Water System</td>\n",
              "      <td>NaN</td>\n",
              "      <td>11420</td>\n",
              "      <td>127-16 111 AVENUE</td>\n",
              "      <td>111 AVENUE</td>\n",
              "      <td>ADDRESS</td>\n",
              "      <td>South Ozone Park</td>\n",
              "      <td>NaN</td>\n",
              "      <td>NaN</td>\n",
              "      <td>Closed</td>\n",
              "      <td>NaN</td>\n",
              "      <td>The Department of Environment Protection inspe...</td>\n",
              "      <td>4.116320e+09</td>\n",
              "      <td>QUEENS</td>\n",
              "      <td>40.682565</td>\n",
              "      <td>-73.814060</td>\n",
              "      <td>(40.682565064146196, -73.81406015056832)</td>\n",
              "    </tr>\n",
              "    <tr>\n",
              "      <th>1</th>\n",
              "      <td>42530481</td>\n",
              "      <td>5/1/2019 0:00</td>\n",
              "      <td>5/2/2019 0:00</td>\n",
              "      <td>DOHMH</td>\n",
              "      <td>Food Poisoning</td>\n",
              "      <td>Restaurant/Bar/Deli/Bakery</td>\n",
              "      <td>10011</td>\n",
              "      <td>207 WEST   14 STREET</td>\n",
              "      <td>WEST   14 STREET</td>\n",
              "      <td>ADDRESS</td>\n",
              "      <td>NEW YORK</td>\n",
              "      <td>NaN</td>\n",
              "      <td>NaN</td>\n",
              "      <td>Closed</td>\n",
              "      <td>5/15/2019 22:17</td>\n",
              "      <td>Callers should contact the DOHMH Foodborne Ill...</td>\n",
              "      <td>1.007640e+09</td>\n",
              "      <td>MANHATTAN</td>\n",
              "      <td>40.738791</td>\n",
              "      <td>-74.000224</td>\n",
              "      <td>(40.738790792032844, -74.00022373020307)</td>\n",
              "    </tr>\n",
              "    <tr>\n",
              "      <th>2</th>\n",
              "      <td>42527619</td>\n",
              "      <td>5/1/2019 0:00</td>\n",
              "      <td>5/13/2019 0:00</td>\n",
              "      <td>DOHMH</td>\n",
              "      <td>Food Poisoning</td>\n",
              "      <td>Restaurant/Bar/Deli/Bakery</td>\n",
              "      <td>10025</td>\n",
              "      <td>2664 BROADWAY</td>\n",
              "      <td>BROADWAY</td>\n",
              "      <td>ADDRESS</td>\n",
              "      <td>NEW YORK</td>\n",
              "      <td>NaN</td>\n",
              "      <td>NaN</td>\n",
              "      <td>Closed</td>\n",
              "      <td>5/15/2019 10:04</td>\n",
              "      <td>The Department of Health and Mental Hygiene wi...</td>\n",
              "      <td>1.018730e+09</td>\n",
              "      <td>MANHATTAN</td>\n",
              "      <td>40.798040</td>\n",
              "      <td>-73.969300</td>\n",
              "      <td>(40.79804015465285, -73.96930001020544)</td>\n",
              "    </tr>\n",
              "    <tr>\n",
              "      <th>3</th>\n",
              "      <td>42526597</td>\n",
              "      <td>5/1/2019 0:00</td>\n",
              "      <td>5/2/2019 0:00</td>\n",
              "      <td>DOHMH</td>\n",
              "      <td>Food Poisoning</td>\n",
              "      <td>Restaurant/Bar/Deli/Bakery</td>\n",
              "      <td>11208</td>\n",
              "      <td>624 SOUTH CONDUIT BOULEVARD</td>\n",
              "      <td>SOUTH CONDUIT BOULEVARD</td>\n",
              "      <td>ADDRESS</td>\n",
              "      <td>BROOKLYN</td>\n",
              "      <td>NaN</td>\n",
              "      <td>NaN</td>\n",
              "      <td>Closed</td>\n",
              "      <td>5/15/2019 17:27</td>\n",
              "      <td>The Department of Health and Mental Hygiene wi...</td>\n",
              "      <td>3.042380e+09</td>\n",
              "      <td>BROOKLYN</td>\n",
              "      <td>40.675905</td>\n",
              "      <td>-73.866660</td>\n",
              "      <td>(40.67590510222738, -73.86665990579837)</td>\n",
              "    </tr>\n",
              "    <tr>\n",
              "      <th>4</th>\n",
              "      <td>42526595</td>\n",
              "      <td>5/1/2019 0:00</td>\n",
              "      <td>5/2/2019 0:00</td>\n",
              "      <td>DOHMH</td>\n",
              "      <td>Food Poisoning</td>\n",
              "      <td>Restaurant/Bar/Deli/Bakery</td>\n",
              "      <td>11106</td>\n",
              "      <td>31-91 21 STREET</td>\n",
              "      <td>21 STREET</td>\n",
              "      <td>ADDRESS</td>\n",
              "      <td>Astoria</td>\n",
              "      <td>NaN</td>\n",
              "      <td>NaN</td>\n",
              "      <td>Closed</td>\n",
              "      <td>5/15/2019 17:12</td>\n",
              "      <td>The Department of Health and Mental Hygiene wi...</td>\n",
              "      <td>4.005540e+09</td>\n",
              "      <td>QUEENS</td>\n",
              "      <td>40.765367</td>\n",
              "      <td>-73.931540</td>\n",
              "      <td>(40.76536704921336, -73.93154011254339)</td>\n",
              "    </tr>\n",
              "  </tbody>\n",
              "</table>\n",
              "</div>"
            ],
            "text/plain": [
              "   Unique Key  ...                                  Location\n",
              "0    42680103  ...  (40.682565064146196, -73.81406015056832)\n",
              "1    42530481  ...  (40.738790792032844, -74.00022373020307)\n",
              "2    42527619  ...   (40.79804015465285, -73.96930001020544)\n",
              "3    42526597  ...   (40.67590510222738, -73.86665990579837)\n",
              "4    42526595  ...   (40.76536704921336, -73.93154011254339)\n",
              "\n",
              "[5 rows x 21 columns]"
            ]
          },
          "metadata": {
            "tags": []
          },
          "execution_count": 57
        }
      ]
    },
    {
      "cell_type": "code",
      "metadata": {
        "colab": {
          "base_uri": "https://localhost:8080/",
          "height": 568
        },
        "id": "Y5tSPe8tOynl",
        "outputId": "8886fbfa-84f4-4671-f835-b7c4cb4a04e8"
      },
      "source": [
        "df12.tail()"
      ],
      "execution_count": 58,
      "outputs": [
        {
          "output_type": "execute_result",
          "data": {
            "text/html": [
              "<div>\n",
              "<style scoped>\n",
              "    .dataframe tbody tr th:only-of-type {\n",
              "        vertical-align: middle;\n",
              "    }\n",
              "\n",
              "    .dataframe tbody tr th {\n",
              "        vertical-align: top;\n",
              "    }\n",
              "\n",
              "    .dataframe thead th {\n",
              "        text-align: right;\n",
              "    }\n",
              "</style>\n",
              "<table border=\"1\" class=\"dataframe\">\n",
              "  <thead>\n",
              "    <tr style=\"text-align: right;\">\n",
              "      <th></th>\n",
              "      <th>Unique Key</th>\n",
              "      <th>Created Date</th>\n",
              "      <th>Closed Date</th>\n",
              "      <th>Agency</th>\n",
              "      <th>Complaint Type</th>\n",
              "      <th>Location Type</th>\n",
              "      <th>Incident Zip</th>\n",
              "      <th>Incident Address</th>\n",
              "      <th>Street Name</th>\n",
              "      <th>Address Type</th>\n",
              "      <th>City</th>\n",
              "      <th>Landmark</th>\n",
              "      <th>Facility Type</th>\n",
              "      <th>Status</th>\n",
              "      <th>Due Date</th>\n",
              "      <th>Resolution Description</th>\n",
              "      <th>BBL</th>\n",
              "      <th>Borough</th>\n",
              "      <th>Latitude</th>\n",
              "      <th>Longitude</th>\n",
              "      <th>Location</th>\n",
              "    </tr>\n",
              "  </thead>\n",
              "  <tbody>\n",
              "    <tr>\n",
              "      <th>69632</th>\n",
              "      <td>42634163</td>\n",
              "      <td>5/10/2019 0:00</td>\n",
              "      <td>5/10/2019 0:00</td>\n",
              "      <td>DOHMH</td>\n",
              "      <td>Food Poisoning</td>\n",
              "      <td>Restaurant/Bar/Deli/Bakery</td>\n",
              "      <td>10455</td>\n",
              "      <td>541 EAST  149 STREET</td>\n",
              "      <td>EAST  149 STREET</td>\n",
              "      <td>ADDRESS</td>\n",
              "      <td>BRONX</td>\n",
              "      <td>NaN</td>\n",
              "      <td>NaN</td>\n",
              "      <td>Closed</td>\n",
              "      <td>5/24/2019 15:24</td>\n",
              "      <td>The Department of Health and Mental Hygiene wi...</td>\n",
              "      <td>2.022760e+09</td>\n",
              "      <td>BRONX</td>\n",
              "      <td>40.814590</td>\n",
              "      <td>-73.913892</td>\n",
              "      <td>(40.81459022279005, -73.9138921969276)</td>\n",
              "    </tr>\n",
              "    <tr>\n",
              "      <th>69633</th>\n",
              "      <td>42624568</td>\n",
              "      <td>5/10/2019 0:00</td>\n",
              "      <td>5/16/2019 0:00</td>\n",
              "      <td>DOHMH</td>\n",
              "      <td>Standing Water</td>\n",
              "      <td>1-2 Family Dwelling</td>\n",
              "      <td>10308</td>\n",
              "      <td>221 MAYBURY AVENUE</td>\n",
              "      <td>MAYBURY AVENUE</td>\n",
              "      <td>ADDRESS</td>\n",
              "      <td>STATEN ISLAND</td>\n",
              "      <td>NaN</td>\n",
              "      <td>NaN</td>\n",
              "      <td>Closed</td>\n",
              "      <td>6/8/2019 20:05</td>\n",
              "      <td>The Department of Health and Mental Hygiene wi...</td>\n",
              "      <td>5.051160e+09</td>\n",
              "      <td>STATEN ISLAND</td>\n",
              "      <td>40.549378</td>\n",
              "      <td>-74.140252</td>\n",
              "      <td>(40.5493782172547, -74.14025187299927)</td>\n",
              "    </tr>\n",
              "    <tr>\n",
              "      <th>69634</th>\n",
              "      <td>42638781</td>\n",
              "      <td>5/10/2019 0:00</td>\n",
              "      <td>5/10/2019 13:00</td>\n",
              "      <td>DOHMH</td>\n",
              "      <td>Food Poisoning</td>\n",
              "      <td>Restaurant/Bar/Deli/Bakery</td>\n",
              "      <td>10453</td>\n",
              "      <td>1824 CEDAR AVENUE</td>\n",
              "      <td>CEDAR AVENUE</td>\n",
              "      <td>ADDRESS</td>\n",
              "      <td>BRONX</td>\n",
              "      <td>NaN</td>\n",
              "      <td>NaN</td>\n",
              "      <td>Closed</td>\n",
              "      <td>5/24/2019 10:02</td>\n",
              "      <td>The Department of Health and Mental Hygiene wi...</td>\n",
              "      <td>2.028810e+09</td>\n",
              "      <td>BRONX</td>\n",
              "      <td>40.852919</td>\n",
              "      <td>-73.919966</td>\n",
              "      <td>(40.85291902458401, -73.9199659548619)</td>\n",
              "    </tr>\n",
              "    <tr>\n",
              "      <th>69635</th>\n",
              "      <td>42637637</td>\n",
              "      <td>5/10/2019 0:00</td>\n",
              "      <td>5/10/2019 12:54</td>\n",
              "      <td>DOHMH</td>\n",
              "      <td>Food Poisoning</td>\n",
              "      <td>Restaurant/Bar/Deli/Bakery</td>\n",
              "      <td>11221</td>\n",
              "      <td>691 KNICKERBOCKER AVENUE</td>\n",
              "      <td>KNICKERBOCKER AVENUE</td>\n",
              "      <td>ADDRESS</td>\n",
              "      <td>BROOKLYN</td>\n",
              "      <td>NaN</td>\n",
              "      <td>NaN</td>\n",
              "      <td>Closed</td>\n",
              "      <td>5/24/2019 9:14</td>\n",
              "      <td>The Department of Health and Mental Hygiene wi...</td>\n",
              "      <td>3.033850e+09</td>\n",
              "      <td>BROOKLYN</td>\n",
              "      <td>40.694574</td>\n",
              "      <td>-73.910892</td>\n",
              "      <td>(40.694573889726, -73.91089180797395)</td>\n",
              "    </tr>\n",
              "    <tr>\n",
              "      <th>69636</th>\n",
              "      <td>42637636</td>\n",
              "      <td>5/10/2019 0:00</td>\n",
              "      <td>5/10/2019 12:53</td>\n",
              "      <td>DOHMH</td>\n",
              "      <td>Food Poisoning</td>\n",
              "      <td>Restaurant/Bar/Deli/Bakery</td>\n",
              "      <td>11201</td>\n",
              "      <td>422 FULTON STREET</td>\n",
              "      <td>FULTON STREET</td>\n",
              "      <td>ADDRESS</td>\n",
              "      <td>BROOKLYN</td>\n",
              "      <td>NaN</td>\n",
              "      <td>NaN</td>\n",
              "      <td>Closed</td>\n",
              "      <td>5/24/2019 7:19</td>\n",
              "      <td>The Department of Health and Mental Hygiene wi...</td>\n",
              "      <td>3.001568e+09</td>\n",
              "      <td>BROOKLYN</td>\n",
              "      <td>40.690891</td>\n",
              "      <td>-73.985951</td>\n",
              "      <td>(40.69089111172563, -73.98595118240841)</td>\n",
              "    </tr>\n",
              "  </tbody>\n",
              "</table>\n",
              "</div>"
            ],
            "text/plain": [
              "       Unique Key  ...                                 Location\n",
              "69632    42634163  ...   (40.81459022279005, -73.9138921969276)\n",
              "69633    42624568  ...   (40.5493782172547, -74.14025187299927)\n",
              "69634    42638781  ...   (40.85291902458401, -73.9199659548619)\n",
              "69635    42637637  ...    (40.694573889726, -73.91089180797395)\n",
              "69636    42637636  ...  (40.69089111172563, -73.98595118240841)\n",
              "\n",
              "[5 rows x 21 columns]"
            ]
          },
          "metadata": {
            "tags": []
          },
          "execution_count": 58
        }
      ]
    },
    {
      "cell_type": "code",
      "metadata": {
        "colab": {
          "base_uri": "https://localhost:8080/"
        },
        "id": "l0TKVcIjQ73R",
        "outputId": "f17be98d-0045-417f-ff40-969301ca3a90"
      },
      "source": [
        "df12.groupby(['Borough'])['Unique Key'].count()"
      ],
      "execution_count": 60,
      "outputs": [
        {
          "output_type": "execute_result",
          "data": {
            "text/plain": [
              "Borough\n",
              "BRONX            10925\n",
              "BROOKLYN         22247\n",
              "MANHATTAN        13133\n",
              "QUEENS           18623\n",
              "STATEN ISLAND     3848\n",
              "Unspecified        861\n",
              "Name: Unique Key, dtype: int64"
            ]
          },
          "metadata": {
            "tags": []
          },
          "execution_count": 60
        }
      ]
    },
    {
      "cell_type": "code",
      "metadata": {
        "colab": {
          "base_uri": "https://localhost:8080/"
        },
        "id": "GIImns__RKSr",
        "outputId": "ebc13af7-52f3-44dc-a194-3b1b4e7abda5"
      },
      "source": [
        "df12.groupby(['Borough'])['Unique Key'].count().sort_values(ascending=False)"
      ],
      "execution_count": 62,
      "outputs": [
        {
          "output_type": "execute_result",
          "data": {
            "text/plain": [
              "Borough\n",
              "BROOKLYN         22247\n",
              "QUEENS           18623\n",
              "MANHATTAN        13133\n",
              "BRONX            10925\n",
              "STATEN ISLAND     3848\n",
              "Unspecified        861\n",
              "Name: Unique Key, dtype: int64"
            ]
          },
          "metadata": {
            "tags": []
          },
          "execution_count": 62
        }
      ]
    },
    {
      "cell_type": "code",
      "metadata": {
        "colab": {
          "base_uri": "https://localhost:8080/",
          "height": 364
        },
        "id": "4p6zTgkrRcig",
        "outputId": "8ca5666e-4965-4969-c951-58edad18860a"
      },
      "source": [
        "df12.groupby(['Borough'])['Unique Key'].count().plot(kind='bar')\r\n"
      ],
      "execution_count": 64,
      "outputs": [
        {
          "output_type": "execute_result",
          "data": {
            "text/plain": [
              "<matplotlib.axes._subplots.AxesSubplot at 0x7efd1c1e8f60>"
            ]
          },
          "metadata": {
            "tags": []
          },
          "execution_count": 64
        },
        {
          "output_type": "display_data",
          "data": {
            "image/png": "[encoded data removed]",
            "text/plain": [
              "<Figure size 432x288 with 1 Axes>"
            ]
          },
          "metadata": {
            "tags": [],
            "needs_background": "light"
          }
        }
      ]
    },
    {
      "cell_type": "code",
      "metadata": {
        "colab": {
          "base_uri": "https://localhost:8080/"
        },
        "id": "sVw9ptnTRv5c",
        "outputId": "11600930-a733-41e3-92b0-ce3f36b07e61"
      },
      "source": [
        "df13 = df12['Complaint Type'].str.contains('Food')\r\n",
        "df13"
      ],
      "execution_count": 71,
      "outputs": [
        {
          "output_type": "execute_result",
          "data": {
            "text/plain": [
              "0        False\n",
              "1         True\n",
              "2         True\n",
              "3         True\n",
              "4         True\n",
              "         ...  \n",
              "69632     True\n",
              "69633    False\n",
              "69634     True\n",
              "69635     True\n",
              "69636     True\n",
              "Name: Complaint Type, Length: 69637, dtype: bool"
            ]
          },
          "metadata": {
            "tags": []
          },
          "execution_count": 71
        }
      ]
    },
    {
      "cell_type": "code",
      "metadata": {
        "colab": {
          "base_uri": "https://localhost:8080/",
          "height": 136
        },
        "id": "k-qIAgPLVraU",
        "outputId": "aaddbbc5-0b40-4b0b-bda8-bac2fcdaddbe"
      },
      "source": [
        "# missing values\r\n",
        "\r\n",
        "df51 = {'A':[1,2,np.nan], 'B':[3, np.nan, np.nan]}\r\n",
        "df14 = pd.DataFrame(df51)\r\n",
        "\r\n",
        "df14"
      ],
      "execution_count": 72,
      "outputs": [
        {
          "output_type": "execute_result",
          "data": {
            "text/html": [
              "<div>\n",
              "<style scoped>\n",
              "    .dataframe tbody tr th:only-of-type {\n",
              "        vertical-align: middle;\n",
              "    }\n",
              "\n",
              "    .dataframe tbody tr th {\n",
              "        vertical-align: top;\n",
              "    }\n",
              "\n",
              "    .dataframe thead th {\n",
              "        text-align: right;\n",
              "    }\n",
              "</style>\n",
              "<table border=\"1\" class=\"dataframe\">\n",
              "  <thead>\n",
              "    <tr style=\"text-align: right;\">\n",
              "      <th></th>\n",
              "      <th>A</th>\n",
              "      <th>B</th>\n",
              "    </tr>\n",
              "  </thead>\n",
              "  <tbody>\n",
              "    <tr>\n",
              "      <th>0</th>\n",
              "      <td>1.0</td>\n",
              "      <td>3.0</td>\n",
              "    </tr>\n",
              "    <tr>\n",
              "      <th>1</th>\n",
              "      <td>2.0</td>\n",
              "      <td>NaN</td>\n",
              "    </tr>\n",
              "    <tr>\n",
              "      <th>2</th>\n",
              "      <td>NaN</td>\n",
              "      <td>NaN</td>\n",
              "    </tr>\n",
              "  </tbody>\n",
              "</table>\n",
              "</div>"
            ],
            "text/plain": [
              "     A    B\n",
              "0  1.0  3.0\n",
              "1  2.0  NaN\n",
              "2  NaN  NaN"
            ]
          },
          "metadata": {
            "tags": []
          },
          "execution_count": 72
        }
      ]
    },
    {
      "cell_type": "code",
      "metadata": {
        "colab": {
          "base_uri": "https://localhost:8080/",
          "height": 136
        },
        "id": "OIHFM6U1V-kG",
        "outputId": "bee1afd2-1128-4af6-f6e4-bd582cc4b3c4"
      },
      "source": [
        "df14.isnull()"
      ],
      "execution_count": 73,
      "outputs": [
        {
          "output_type": "execute_result",
          "data": {
            "text/html": [
              "<div>\n",
              "<style scoped>\n",
              "    .dataframe tbody tr th:only-of-type {\n",
              "        vertical-align: middle;\n",
              "    }\n",
              "\n",
              "    .dataframe tbody tr th {\n",
              "        vertical-align: top;\n",
              "    }\n",
              "\n",
              "    .dataframe thead th {\n",
              "        text-align: right;\n",
              "    }\n",
              "</style>\n",
              "<table border=\"1\" class=\"dataframe\">\n",
              "  <thead>\n",
              "    <tr style=\"text-align: right;\">\n",
              "      <th></th>\n",
              "      <th>A</th>\n",
              "      <th>B</th>\n",
              "    </tr>\n",
              "  </thead>\n",
              "  <tbody>\n",
              "    <tr>\n",
              "      <th>0</th>\n",
              "      <td>False</td>\n",
              "      <td>False</td>\n",
              "    </tr>\n",
              "    <tr>\n",
              "      <th>1</th>\n",
              "      <td>False</td>\n",
              "      <td>True</td>\n",
              "    </tr>\n",
              "    <tr>\n",
              "      <th>2</th>\n",
              "      <td>True</td>\n",
              "      <td>True</td>\n",
              "    </tr>\n",
              "  </tbody>\n",
              "</table>\n",
              "</div>"
            ],
            "text/plain": [
              "       A      B\n",
              "0  False  False\n",
              "1  False   True\n",
              "2   True   True"
            ]
          },
          "metadata": {
            "tags": []
          },
          "execution_count": 73
        }
      ]
    },
    {
      "cell_type": "code",
      "metadata": {
        "colab": {
          "base_uri": "https://localhost:8080/"
        },
        "id": "l7XEcqiLWEmI",
        "outputId": "c653b51e-0fad-44f6-af8a-a487968121c1"
      },
      "source": [
        "df14.isnull().sum()\r\n",
        "df14.isnull().sum().sum()"
      ],
      "execution_count": 76,
      "outputs": [
        {
          "output_type": "execute_result",
          "data": {
            "text/plain": [
              "3"
            ]
          },
          "metadata": {
            "tags": []
          },
          "execution_count": 76
        }
      ]
    },
    {
      "cell_type": "code",
      "metadata": {
        "colab": {
          "base_uri": "https://localhost:8080/",
          "height": 77
        },
        "id": "xO5KgWouW0hP",
        "outputId": "17143d1b-4ca8-4a2c-8be5-859e1a187b2e"
      },
      "source": [
        "# drop off all NA values\r\n",
        "df15 = pd.DataFrame(df51)\r\n",
        "df16 = df15.dropna()\r\n",
        "df16"
      ],
      "execution_count": 77,
      "outputs": [
        {
          "output_type": "execute_result",
          "data": {
            "text/html": [
              "<div>\n",
              "<style scoped>\n",
              "    .dataframe tbody tr th:only-of-type {\n",
              "        vertical-align: middle;\n",
              "    }\n",
              "\n",
              "    .dataframe tbody tr th {\n",
              "        vertical-align: top;\n",
              "    }\n",
              "\n",
              "    .dataframe thead th {\n",
              "        text-align: right;\n",
              "    }\n",
              "</style>\n",
              "<table border=\"1\" class=\"dataframe\">\n",
              "  <thead>\n",
              "    <tr style=\"text-align: right;\">\n",
              "      <th></th>\n",
              "      <th>A</th>\n",
              "      <th>B</th>\n",
              "    </tr>\n",
              "  </thead>\n",
              "  <tbody>\n",
              "    <tr>\n",
              "      <th>0</th>\n",
              "      <td>1.0</td>\n",
              "      <td>3.0</td>\n",
              "    </tr>\n",
              "  </tbody>\n",
              "</table>\n",
              "</div>"
            ],
            "text/plain": [
              "     A    B\n",
              "0  1.0  3.0"
            ]
          },
          "metadata": {
            "tags": []
          },
          "execution_count": 77
        }
      ]
    },
    {
      "cell_type": "code",
      "metadata": {
        "colab": {
          "base_uri": "https://localhost:8080/",
          "height": 77
        },
        "id": "9j2IgXAfXLt4",
        "outputId": "7d07685e-8e68-4c36-a320-8218047211d7"
      },
      "source": [
        "# drop columns that have NA value\r\n",
        "df17 = df15.dropna(axis=0)\r\n",
        "df17"
      ],
      "execution_count": 81,
      "outputs": [
        {
          "output_type": "execute_result",
          "data": {
            "text/html": [
              "<div>\n",
              "<style scoped>\n",
              "    .dataframe tbody tr th:only-of-type {\n",
              "        vertical-align: middle;\n",
              "    }\n",
              "\n",
              "    .dataframe tbody tr th {\n",
              "        vertical-align: top;\n",
              "    }\n",
              "\n",
              "    .dataframe thead th {\n",
              "        text-align: right;\n",
              "    }\n",
              "</style>\n",
              "<table border=\"1\" class=\"dataframe\">\n",
              "  <thead>\n",
              "    <tr style=\"text-align: right;\">\n",
              "      <th></th>\n",
              "      <th>A</th>\n",
              "      <th>B</th>\n",
              "    </tr>\n",
              "  </thead>\n",
              "  <tbody>\n",
              "    <tr>\n",
              "      <th>0</th>\n",
              "      <td>1.0</td>\n",
              "      <td>3.0</td>\n",
              "    </tr>\n",
              "  </tbody>\n",
              "</table>\n",
              "</div>"
            ],
            "text/plain": [
              "     A    B\n",
              "0  1.0  3.0"
            ]
          },
          "metadata": {
            "tags": []
          },
          "execution_count": 81
        }
      ]
    },
    {
      "cell_type": "code",
      "metadata": {
        "colab": {
          "base_uri": "https://localhost:8080/",
          "height": 106
        },
        "id": "mZqzMAf7XfgH",
        "outputId": "69a82658-bad1-4566-9d66-8b1ba192d737"
      },
      "source": [
        "# drop na values if the threshold is met\r\n",
        "\r\n",
        "df18 = df15.dropna(thresh = 1)\r\n",
        "df18"
      ],
      "execution_count": 84,
      "outputs": [
        {
          "output_type": "execute_result",
          "data": {
            "text/html": [
              "<div>\n",
              "<style scoped>\n",
              "    .dataframe tbody tr th:only-of-type {\n",
              "        vertical-align: middle;\n",
              "    }\n",
              "\n",
              "    .dataframe tbody tr th {\n",
              "        vertical-align: top;\n",
              "    }\n",
              "\n",
              "    .dataframe thead th {\n",
              "        text-align: right;\n",
              "    }\n",
              "</style>\n",
              "<table border=\"1\" class=\"dataframe\">\n",
              "  <thead>\n",
              "    <tr style=\"text-align: right;\">\n",
              "      <th></th>\n",
              "      <th>A</th>\n",
              "      <th>B</th>\n",
              "    </tr>\n",
              "  </thead>\n",
              "  <tbody>\n",
              "    <tr>\n",
              "      <th>0</th>\n",
              "      <td>1.0</td>\n",
              "      <td>3.0</td>\n",
              "    </tr>\n",
              "    <tr>\n",
              "      <th>1</th>\n",
              "      <td>2.0</td>\n",
              "      <td>NaN</td>\n",
              "    </tr>\n",
              "  </tbody>\n",
              "</table>\n",
              "</div>"
            ],
            "text/plain": [
              "     A    B\n",
              "0  1.0  3.0\n",
              "1  2.0  NaN"
            ]
          },
          "metadata": {
            "tags": []
          },
          "execution_count": 84
        }
      ]
    },
    {
      "cell_type": "code",
      "metadata": {
        "colab": {
          "base_uri": "https://localhost:8080/",
          "height": 136
        },
        "id": "YxKfn8orYh4p",
        "outputId": "10f5199d-dc51-4044-dea6-3607b84d9e11"
      },
      "source": [
        "df19 = df15.fillna(value=0)\r\n",
        "df19"
      ],
      "execution_count": 85,
      "outputs": [
        {
          "output_type": "execute_result",
          "data": {
            "text/html": [
              "<div>\n",
              "<style scoped>\n",
              "    .dataframe tbody tr th:only-of-type {\n",
              "        vertical-align: middle;\n",
              "    }\n",
              "\n",
              "    .dataframe tbody tr th {\n",
              "        vertical-align: top;\n",
              "    }\n",
              "\n",
              "    .dataframe thead th {\n",
              "        text-align: right;\n",
              "    }\n",
              "</style>\n",
              "<table border=\"1\" class=\"dataframe\">\n",
              "  <thead>\n",
              "    <tr style=\"text-align: right;\">\n",
              "      <th></th>\n",
              "      <th>A</th>\n",
              "      <th>B</th>\n",
              "    </tr>\n",
              "  </thead>\n",
              "  <tbody>\n",
              "    <tr>\n",
              "      <th>0</th>\n",
              "      <td>1.0</td>\n",
              "      <td>3.0</td>\n",
              "    </tr>\n",
              "    <tr>\n",
              "      <th>1</th>\n",
              "      <td>2.0</td>\n",
              "      <td>0.0</td>\n",
              "    </tr>\n",
              "    <tr>\n",
              "      <th>2</th>\n",
              "      <td>0.0</td>\n",
              "      <td>0.0</td>\n",
              "    </tr>\n",
              "  </tbody>\n",
              "</table>\n",
              "</div>"
            ],
            "text/plain": [
              "     A    B\n",
              "0  1.0  3.0\n",
              "1  2.0  0.0\n",
              "2  0.0  0.0"
            ]
          },
          "metadata": {
            "tags": []
          },
          "execution_count": 85
        }
      ]
    }
  ]
}