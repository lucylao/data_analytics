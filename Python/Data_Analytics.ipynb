{
  "nbformat": 4,
  "nbformat_minor": 0,
  "metadata": {
    "colab": {
      "name": "Data Analytics.ipynb",
      "provenance": [],
      "authorship_tag": "ABX9TyNSplugM6Kb3IuffKfHg5eD",
      "include_colab_link": true
    },
    "kernelspec": {
      "name": "python3",
      "display_name": "Python 3"
    }
  },
  "cells": [
    {
      "cell_type": "markdown",
      "metadata": {
        "id": "view-in-github",
        "colab_type": "text"
      },
      "source": [
        "<a href=\"https://colab.research.google.com/github/lucylao/data_analytics/blob/main/Data_Analytics.ipynb\" target=\"_parent\"><img src=\"https://colab.research.google.com/assets/colab-badge.svg\" alt=\"Open In Colab\"/></a>"
      ]
    },
    {
      "cell_type": "code",
      "metadata": {
        "colab": {
          "base_uri": "https://localhost:8080/"
        },
        "id": "LWUziOmFHqWH",
        "outputId": "2176d172-83c4-43d4-ccdf-af1029da401d"
      },
      "source": [
        "\"Hello World\"\r\n",
        "# Learning to code in Python\r\n",
        "print(\"Hello World!\")\r\n",
        "firstname = \"charlie\"\r\n",
        "lastname = \"jamie\"\r\n",
        "email = \"@gmail.com\"\r\n",
        "PersonalEmail = (firstname + lastname + email)\r\n",
        "\r\n",
        "print(PersonalEmail)\r\n"
      ],
      "execution_count": 87,
      "outputs": [
        {
          "output_type": "stream",
          "text": [
            "Hello World!\n",
            "charliejamie@gmail.com\n"
          ],
          "name": "stdout"
        }
      ]
    },
    {
      "cell_type": "code",
      "metadata": {
        "colab": {
          "base_uri": "https://localhost:8080/"
        },
        "id": "QD-tzlnALulE",
        "outputId": "6e449178-1355-4fa3-e3d6-71815cb2971f"
      },
      "source": [
        "variableA = \"Hi everyone\"\r\n",
        "print(variableA)"
      ],
      "execution_count": 23,
      "outputs": [
        {
          "output_type": "stream",
          "text": [
            "Hi everyone\n"
          ],
          "name": "stdout"
        }
      ]
    },
    {
      "cell_type": "code",
      "metadata": {
        "colab": {
          "base_uri": "https://localhost:8080/"
        },
        "id": "J7qtfImyMeKc",
        "outputId": "72f59d78-d50a-4cd8-f16f-dc0a4ce943b6"
      },
      "source": [
        "name = \"Professor Talib\"\r\n",
        "print(name.upper())\r\n",
        "print(name.lower())"
      ],
      "execution_count": 36,
      "outputs": [
        {
          "output_type": "stream",
          "text": [
            "PROFESSOR TALIB\n",
            "professor talib\n"
          ],
          "name": "stdout"
        }
      ]
    },
    {
      "cell_type": "code",
      "metadata": {
        "colab": {
          "base_uri": "https://localhost:8080/"
        },
        "id": "TnWOzYILM4af",
        "outputId": "fe845814-2ae0-473b-9686-90f48ea42278"
      },
      "source": [
        "school = \"CUNY Laguardia\"\r\n",
        "print(school.upper())\r\n",
        "print(school.lower())"
      ],
      "execution_count": 27,
      "outputs": [
        {
          "output_type": "stream",
          "text": [
            "CUNY LAGUARDIA\n",
            "cuny laguardia\n"
          ],
          "name": "stdout"
        }
      ]
    },
    {
      "cell_type": "code",
      "metadata": {
        "colab": {
          "base_uri": "https://localhost:8080/"
        },
        "id": "VsftsowfPl34",
        "outputId": "71368256-3e6b-4c27-b68e-5622a129cf2c"
      },
      "source": [
        "firstname = \"Mary\"\r\n",
        "lastname = \"Smith\"\r\n",
        "\r\n",
        "PersonName = (firstname + \" \" + lastname)\r\n",
        "print(PersonName)\r\n",
        "print(\"\\tmarysmith\")"
      ],
      "execution_count": 54,
      "outputs": [
        {
          "output_type": "stream",
          "text": [
            "Mary Smith\n",
            "\tmarysmith\n"
          ],
          "name": "stdout"
        }
      ]
    },
    {
      "cell_type": "code",
      "metadata": {
        "colab": {
          "base_uri": "https://localhost:8080/"
        },
        "id": "wRNMLvwGOtfY",
        "outputId": "9cf6d8b1-b746-4abd-c0d1-1327ca1cbc51"
      },
      "source": [
        "date = 15\r\n",
        "question = \"Do you want to hang out on the \" + str(date) + \"th of this month?\"\r\n",
        "print(question)\r\n"
      ],
      "execution_count": 101,
      "outputs": [
        {
          "output_type": "stream",
          "text": [
            "Do you want to hang out on the 15th of this month?\n"
          ],
          "name": "stdout"
        }
      ]
    },
    {
      "cell_type": "code",
      "metadata": {
        "colab": {
          "base_uri": "https://localhost:8080/"
        },
        "id": "S2iyzuBROypQ",
        "outputId": "bd2a6a4b-c592-46ce-904f-ce83fbd70e44"
      },
      "source": [
        "Individual_Name = \"Mary Smith      7\"\r\n",
        "print(Individual_Name)\r\n",
        "print(Individual_Name.rstrip())"
      ],
      "execution_count": 65,
      "outputs": [
        {
          "output_type": "stream",
          "text": [
            "Mary Smith      7\n",
            "Mary Smith      7\n"
          ],
          "name": "stdout"
        }
      ]
    },
    {
      "cell_type": "code",
      "metadata": {
        "colab": {
          "base_uri": "https://localhost:8080/"
        },
        "id": "vaxCODxeUDCK",
        "outputId": "88f34439-3853-4dd7-83ec-4036993b2085"
      },
      "source": [
        "name = \"Paula\"\r\n",
        "message = \"Hi, \" + name + \" what are you doing tomorrow?\"\r\n",
        "print(message)"
      ],
      "execution_count": 68,
      "outputs": [
        {
          "output_type": "stream",
          "text": [
            "Hi, Paula what are you doing tomorrow?\n"
          ],
          "name": "stdout"
        }
      ]
    },
    {
      "cell_type": "code",
      "metadata": {
        "colab": {
          "base_uri": "https://localhost:8080/"
        },
        "id": "zWxUW2kCUH1T",
        "outputId": "eb28dbe4-a1d1-4375-e101-e3eda5e4e13b"
      },
      "source": [
        "name = \"ScarySpice\"\r\n",
        "print(name.upper())\r\n",
        "print(name.lower())"
      ],
      "execution_count": 70,
      "outputs": [
        {
          "output_type": "stream",
          "text": [
            "SCARYSPICE\n",
            "scaryspice\n"
          ],
          "name": "stdout"
        }
      ]
    },
    {
      "cell_type": "code",
      "metadata": {
        "colab": {
          "base_uri": "https://localhost:8080/"
        },
        "id": "ZMV7NznDUnJ2",
        "outputId": "1080f75d-6a30-470b-ce87-bb57f8b4a74c"
      },
      "source": [
        "address = \"Madison Street  \"\r\n",
        "print(address)\r\n",
        "print(\"\\tMadison Street\")\r\n",
        "print(address.rstrip())"
      ],
      "execution_count": 86,
      "outputs": [
        {
          "output_type": "stream",
          "text": [
            "Madison Street   _      .\n",
            "\tMadison Street\n",
            "Madison Street   _      .\n"
          ],
          "name": "stdout"
        }
      ]
    },
    {
      "cell_type": "code",
      "metadata": {
        "colab": {
          "base_uri": "https://localhost:8080/"
        },
        "id": "WmM2TSUMW2xh",
        "outputId": "c973132e-36d2-4e0a-ff08-2a516fafa07a"
      },
      "source": [
        "2 + 2\r\n",
        "2 * 5\r\n",
        "3 / 6"
      ],
      "execution_count": 94,
      "outputs": [
        {
          "output_type": "execute_result",
          "data": {
            "text/plain": [
              "0.5"
            ]
          },
          "metadata": {
            "tags": []
          },
          "execution_count": 94
        }
      ]
    },
    {
      "cell_type": "code",
      "metadata": {
        "colab": {
          "base_uri": "https://localhost:8080/"
        },
        "id": "LLvi06poYQQi",
        "outputId": "7fbb2dd9-2e56-42c8-ce1d-61c76a781b3e"
      },
      "source": [
        "age = 27\r\n",
        "message = \"Happy \" + str(age) + \"th Birthday!\"\r\n",
        "print(message)"
      ],
      "execution_count": 98,
      "outputs": [
        {
          "output_type": "stream",
          "text": [
            "Happy 27th Birthday!\n"
          ],
          "name": "stdout"
        }
      ]
    },
    {
      "cell_type": "code",
      "metadata": {
        "colab": {
          "base_uri": "https://localhost:8080/"
        },
        "id": "j0P033u4Yrsz",
        "outputId": "67b3ff69-92f9-4e06-b515-561d3b714248"
      },
      "source": [
        "age = \"27\"\r\n",
        "message2 = \"Happy \" + age + \"th birthday!\"\r\n",
        "print(message2)\r\n",
        "type(age)"
      ],
      "execution_count": 103,
      "outputs": [
        {
          "output_type": "stream",
          "text": [
            "Happy 27th birthday!\n"
          ],
          "name": "stdout"
        },
        {
          "output_type": "execute_result",
          "data": {
            "text/plain": [
              "str"
            ]
          },
          "metadata": {
            "tags": []
          },
          "execution_count": 103
        }
      ]
    }
  ]
}
