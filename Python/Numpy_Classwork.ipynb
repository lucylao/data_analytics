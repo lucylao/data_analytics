{
  "nbformat": 4,
  "nbformat_minor": 0,
  "metadata": {
    "colab": {
      "name": "Numpy_Classwork.ipynb",
      "provenance": [],
      "collapsed_sections": [],
      "authorship_tag": "ABX9TyOdCqbsrT6eZVag49IkRbVt",
      "include_colab_link": true
    },
    "kernelspec": {
      "name": "python3",
      "display_name": "Python 3"
    }
  },
  "cells": [
    {
      "cell_type": "markdown",
      "metadata": {
        "id": "view-in-github",
        "colab_type": "text"
      },
      "source": [
        "<a href=\"https://colab.research.google.com/github/lucylao/data_analytics/blob/main/Numpy_Classwork.ipynb\" target=\"_parent\"><img src=\"https://colab.research.google.com/assets/colab-badge.svg\" alt=\"Open In Colab\"/></a>"
      ]
    },
    {
      "cell_type": "code",
      "metadata": {
        "id": "hbh4FWj5o76-"
      },
      "source": [
        "import numpy as np\r\n",
        "\r\n",
        "# np_city_with_state = np.array(['NYC','LA','Houston','Miami'], ['NY', 'CA', 'TX', 'FL'])\r\n",
        "# np_city_with_state.ndim\r\n",
        "# np_city_with_state"
      ],
      "execution_count": 2,
      "outputs": []
    },
    {
      "cell_type": "code",
      "metadata": {
        "colab": {
          "base_uri": "https://localhost:8080/"
        },
        "id": "OcF81sn3oUii",
        "outputId": "232b49bf-97bf-45e4-b2cf-18bf26c2b8c4"
      },
      "source": [
        "first_trial_cyclist = [10, 15, 17, 26]\r\n",
        "second_trial_cyclist = [12, 11, 21, 24]\r\n",
        "\r\n",
        "np_ftc = np.array(first_trial_cyclist)\r\n",
        "np_stc = np.array(second_trial_cyclist)\r\n",
        "\r\n",
        "np_ftc + np_stc\r\n"
      ],
      "execution_count": 5,
      "outputs": [
        {
          "output_type": "execute_result",
          "data": {
            "text/plain": [
              "array([22, 26, 38, 50])"
            ]
          },
          "metadata": {
            "tags": []
          },
          "execution_count": 5
        }
      ]
    },
    {
      "cell_type": "code",
      "metadata": {
        "colab": {
          "base_uri": "https://localhost:8080/"
        },
        "id": "vOyXr8Luqq4B",
        "outputId": "619c8235-ecf9-43b8-b91e-f9db4af52e89"
      },
      "source": [
        "# two dimensional (two arrays) array tuple - ordered list\r\n",
        "\r\n",
        "first_trial_cyclist = [10, 15, 17, 26]\r\n",
        "second_trial_cyclist = [12, 11, 21, 24]\r\n",
        "cyclist_time = np.array(([10, 15, 17, 26],[12, 11, 21,24]))\r\n",
        "ftc_time = cyclist_time[0]\r\n",
        "ftc_times = cyclist_time[0,0]\r\n",
        "stc_time = cyclist_time[1]\r\n",
        "stc_times = cyclist_time[1,0]\r\n",
        "\r\n",
        "print(ftc_time)\r\n",
        "print(ftc_times)\r\n",
        "print(stc_time)\r\n",
        "print(stc_times)\r\n",
        "\r\n",
        "# to get ftc = 26\r\n",
        "print(cyclist_time[0,3])\r\n",
        "print(cyclist_time[::-1])\r\n",
        "print(cyclist_time[-2,-3])"
      ],
      "execution_count": 17,
      "outputs": [
        {
          "output_type": "stream",
          "text": [
            "[10 15 17 26]\n",
            "10\n",
            "[12 11 21 24]\n",
            "12\n",
            "26\n",
            "[[12 11 21 24]\n",
            " [10 15 17 26]]\n",
            "15\n"
          ],
          "name": "stdout"
        }
      ]
    },
    {
      "cell_type": "code",
      "metadata": {
        "colab": {
          "base_uri": "https://localhost:8080/"
        },
        "id": "KqELKj4ZtKlB",
        "outputId": "6c1eb3e1-a762-4324-f10f-73dac5682ae8"
      },
      "source": [
        "# Boolean Arrays\r\n",
        "# use criteria or set condition to select values\r\n",
        "\r\n",
        "test_score = np.array([[81,71,57,63],[54,61,87,45]])\r\n",
        "passing_score = test_score > 60\r\n",
        "passing_score\r\n",
        "test_score[passing_score]"
      ],
      "execution_count": 20,
      "outputs": [
        {
          "output_type": "execute_result",
          "data": {
            "text/plain": [
              "array([81, 71, 63, 61, 87])"
            ]
          },
          "metadata": {
            "tags": []
          },
          "execution_count": 20
        }
      ]
    },
    {
      "cell_type": "code",
      "metadata": {
        "colab": {
          "base_uri": "https://localhost:8080/",
          "height": 35
        },
        "id": "yYR9Qx9Kwfxz",
        "outputId": "810743f3-724e-4cf8-8d67-90f38c6028a9"
      },
      "source": [
        "NYC_Borough = np.array(['Manhattan', 'Queens', 'Brooklyn', 'Staten Island', 'Bronx'])\r\n",
        "NYC_Borough\r\n",
        "\r\n",
        "Boroughs_NYC = NYC_Borough\r\n",
        "Boroughs_NYC\r\n",
        "Boroughs_in_NYC = Boroughs_NYC.view()\r\n",
        "Boroughs_in_NYC\r\n",
        "Boroughs_in_NYC is NYC_Borough\r\n",
        "NYC_Borough is Boroughs_NYC\r\n",
        "len(Boroughs_in_NYC)\r\n",
        "Boroughs_in_NYC[3]\r\n"
      ],
      "execution_count": 35,
      "outputs": [
        {
          "output_type": "execute_result",
          "data": {
            "application/vnd.google.colaboratory.intrinsic+json": {
              "type": "string"
            },
            "text/plain": [
              "'Staten Island'"
            ]
          },
          "metadata": {
            "tags": []
          },
          "execution_count": 35
        }
      ]
    },
    {
      "cell_type": "code",
      "metadata": {
        "colab": {
          "base_uri": "https://localhost:8080/"
        },
        "id": "M3YRrJUjzRZi",
        "outputId": "a3019a08-21e8-4828-e762-af76e603fae6"
      },
      "source": [
        "np_sqrt = np.sqrt([2,4,9,16,32])\r\n",
        "np_sqrt\r\n",
        "\r\n",
        "# from np import pi (will also work)\r\n",
        "from numpy import pi\r\n",
        "np.cos(0)\r\n",
        "np.sin(pi/2)\r\n",
        "np.cos(pi)\r\n",
        "np.floor([1.5,1.6,2.7,3.3,1.1,-0.3,-1.4])\r\n"
      ],
      "execution_count": 40,
      "outputs": [
        {
          "output_type": "execute_result",
          "data": {
            "text/plain": [
              "array([ 1.,  1.,  2.,  3.,  1., -1., -2.])"
            ]
          },
          "metadata": {
            "tags": []
          },
          "execution_count": 40
        }
      ]
    },
    {
      "cell_type": "code",
      "metadata": {
        "colab": {
          "base_uri": "https://localhost:8080/"
        },
        "id": "PSCFaSJ02R0O",
        "outputId": "6bcf7e57-be29-4d2c-e330-0b424910e9ea"
      },
      "source": [
        "array_a = np.array([2, 3, 5, 9])\r\n",
        "array_b = np.array([0.3, 0.3, 0.3, 0.3])\r\n",
        "\r\n",
        "# multiply\r\n",
        "array_a * array_b\r\n",
        "\r\n",
        "#variable with scalar view\r\n",
        "scalar_c = 4\r\n",
        "array_a * scalar_c"
      ],
      "execution_count": 49,
      "outputs": [
        {
          "output_type": "execute_result",
          "data": {
            "text/plain": [
              "array([ 8, 12, 20, 36])"
            ]
          },
          "metadata": {
            "tags": []
          },
          "execution_count": 49
        }
      ]
    },
    {
      "cell_type": "code",
      "metadata": {
        "colab": {
          "base_uri": "https://localhost:8080/"
        },
        "id": "1G8OgTM03E-K",
        "outputId": "60acef0e-001f-4d68-9e90-009840114545"
      },
      "source": [
        "# transpose (can only be applied to square matrix)\r\n",
        "inverse_array = np.array([[10,20], [30, 40]])\r\n",
        "np.linalg.inv(inverse_array)\r\n"
      ],
      "execution_count": 50,
      "outputs": [
        {
          "output_type": "execute_result",
          "data": {
            "text/plain": [
              "array([[-0.2 ,  0.1 ],\n",
              "       [ 0.15, -0.05]])"
            ]
          },
          "metadata": {
            "tags": []
          },
          "execution_count": 50
        }
      ]
    },
    {
      "cell_type": "code",
      "metadata": {
        "colab": {
          "base_uri": "https://localhost:8080/"
        },
        "id": "qB4wY1-14q2M",
        "outputId": "ee9e14ca-63f3-403f-8e99-52e6c3232c95"
      },
      "source": [
        "# trace (sum of diagonal elements)\r\n",
        "trace_array = np.array([[10,20],[30,20]])\r\n",
        "np.trace(trace_array)"
      ],
      "execution_count": 52,
      "outputs": [
        {
          "output_type": "execute_result",
          "data": {
            "text/plain": [
              "30"
            ]
          },
          "metadata": {
            "tags": []
          },
          "execution_count": 52
        }
      ]
    }
  ]
}
