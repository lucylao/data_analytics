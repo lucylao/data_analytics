{
  "nbformat": 4,
  "nbformat_minor": 0,
  "metadata": {
    "colab": {
      "name": "Dictionaries.ipynb",
      "provenance": [],
      "collapsed_sections": [],
      "authorship_tag": "ABX9TyNe5PmqpcshBA30GT2tqKFq",
      "include_colab_link": true
    },
    "kernelspec": {
      "name": "python3",
      "display_name": "Python 3"
    }
  },
  "cells": [
    {
      "cell_type": "markdown",
      "metadata": {
        "id": "view-in-github",
        "colab_type": "text"
      },
      "source": [
        "<a href=\"https://colab.research.google.com/github/lucylao/data_analytics/blob/main/Dictionaries.ipynb\" target=\"_parent\"><img src=\"https://colab.research.google.com/assets/colab-badge.svg\" alt=\"Open In Colab\"/></a>"
      ]
    },
    {
      "cell_type": "code",
      "metadata": {
        "colab": {
          "base_uri": "https://localhost:8080/"
        },
        "id": "_u8mItigQr12",
        "outputId": "7f388696-d531-4c4c-8444-59747500b6f6"
      },
      "source": [
        "# creating dictionary\r\n",
        "\r\n",
        "patient_1 = {'firstname': \"Joan\", 'lastname': \"Kimble\"}\r\n",
        "\r\n",
        "print(patient_1['firstname'])\r\n",
        "print(patient_1['lastname'])\r\n",
        "\r\n",
        "patient_1"
      ],
      "execution_count": 13,
      "outputs": [
        {
          "output_type": "stream",
          "text": [
            "Joan\n",
            "Kimble\n"
          ],
          "name": "stdout"
        },
        {
          "output_type": "execute_result",
          "data": {
            "text/plain": [
              "{'firstname': 'Joan', 'lastname': 'Kimble'}"
            ]
          },
          "metadata": {
            "tags": []
          },
          "execution_count": 13
        }
      ]
    },
    {
      "cell_type": "code",
      "metadata": {
        "colab": {
          "base_uri": "https://localhost:8080/"
        },
        "id": "kWVEWHb0Tl6I",
        "outputId": "48d6d8e7-0a98-453b-8695-b4165236d55e"
      },
      "source": [
        "# printing dictionary\r\n",
        "\r\n",
        "patient_1 = {'firstname': \"Joan\", 'lastname': \"Kimble\"}\r\n",
        "\r\n",
        "print(\"Good Morning, \" + patient_1['firstname'] + \" \" + patient_1['lastname'] + \".\")"
      ],
      "execution_count": 15,
      "outputs": [
        {
          "output_type": "stream",
          "text": [
            "Good Morning, Joan Kimble.\n"
          ],
          "name": "stdout"
        }
      ]
    },
    {
      "cell_type": "code",
      "metadata": {
        "colab": {
          "base_uri": "https://localhost:8080/"
        },
        "id": "K3V6S0I9VR0v",
        "outputId": "d77419e0-d555-4d0f-8497-c059bf012e15"
      },
      "source": [
        "# adding to dictionary\r\n",
        "\r\n",
        "patient_1 = {'firstname': \"Joan\", 'lastname': \"Kimble\"}\r\n",
        "patient_1['MRN'] = '000000000'\r\n",
        "patient_1['last_exam'] = 'echo'\r\n",
        "\r\n",
        "patient_1"
      ],
      "execution_count": 16,
      "outputs": [
        {
          "output_type": "execute_result",
          "data": {
            "text/plain": [
              "{'MRN': '000000000',\n",
              " 'firstname': 'Joan',\n",
              " 'last_exam': 'echo',\n",
              " 'lastname': 'Kimble'}"
            ]
          },
          "metadata": {
            "tags": []
          },
          "execution_count": 16
        }
      ]
    },
    {
      "cell_type": "code",
      "metadata": {
        "colab": {
          "base_uri": "https://localhost:8080/"
        },
        "id": "QaGpm4GOWv6A",
        "outputId": "0e523dd2-d24f-49fe-a7e3-4a20c9db4948"
      },
      "source": [
        "# create empty dictionary and modify value\r\n",
        "\r\n",
        "patient_2 = {}\r\n",
        "\r\n",
        "patient_2['firstname'] = \"Jean\"\r\n",
        "patient_2['lastname'] = \"kirk\"\r\n",
        "\r\n",
        "print(patient_2)\r\n",
        "\r\n",
        "patient_2['lastname'] = \"Picard\"\r\n",
        "\r\n",
        "print(patient_2)"
      ],
      "execution_count": 19,
      "outputs": [
        {
          "output_type": "stream",
          "text": [
            "{'firstname': 'Jean', 'lastname': 'kirk'}\n",
            "{'firstname': 'Jean', 'lastname': 'Picard'}\n"
          ],
          "name": "stdout"
        }
      ]
    },
    {
      "cell_type": "code",
      "metadata": {
        "colab": {
          "base_uri": "https://localhost:8080/"
        },
        "id": "dgn6zff9Xzby",
        "outputId": "fd3912ac-729f-42ac-c94b-9edae7eaf040"
      },
      "source": [
        "# removing value from dictionary\r\n",
        "\r\n",
        "patient_2 = {}\r\n",
        "\r\n",
        "patient_2['firstname'] = \"Jean\"\r\n",
        "patient_2['lastname'] = \"Picard\"\r\n",
        "\r\n",
        "print(patient_2)\r\n",
        "\r\n",
        "del patient_2['lastname']\r\n",
        "\r\n",
        "print(patient_2)\r\n"
      ],
      "execution_count": 20,
      "outputs": [
        {
          "output_type": "stream",
          "text": [
            "{'firstname': 'Jean', 'lastname': 'Picard'}\n",
            "{'firstname': 'Jean'}\n"
          ],
          "name": "stdout"
        }
      ]
    },
    {
      "cell_type": "code",
      "metadata": {
        "colab": {
          "base_uri": "https://localhost:8080/"
        },
        "id": "cnhlvSlrY-1I",
        "outputId": "12072f55-c136-4004-a546-6590aefe2741"
      },
      "source": [
        "# another way to write dictionary\r\n",
        "\r\n",
        "patient_3 = {\r\n",
        "    'name' : \"jill\",\r\n",
        "    'lastname' : \"sparrow\",\r\n",
        "    'mrn' : \"000000\",\r\n",
        "    'dob' : \"02231945\"\r\n",
        "}\r\n",
        "\r\n",
        "print(patient_3)\r\n",
        "\r\n",
        "print(\"Patient 3 is \" + patient_3['name'].title() + \" and DOB is \" + patient_3['dob'] + \".\")\r\n"
      ],
      "execution_count": 23,
      "outputs": [
        {
          "output_type": "stream",
          "text": [
            "{'name': 'jill', 'lastname': 'sparrow', 'mrn': '000000', 'dob': '02231945'}\n",
            "Patient 3 is Jill and DOB is 02231945.\n"
          ],
          "name": "stdout"
        }
      ]
    },
    {
      "cell_type": "code",
      "metadata": {
        "colab": {
          "base_uri": "https://localhost:8080/"
        },
        "id": "Ijq2hV8Hbdub",
        "outputId": "51927fae-73bc-4ead-b88c-e044b0cf19f8"
      },
      "source": [
        "# practice creating dictionary\r\n",
        "\r\n",
        "person = {\r\n",
        "    'firstname': \"nana\",\r\n",
        "    'lastname': \"Tomen\",\r\n",
        "    'age': \"46\",\r\n",
        "    'city': \"Los Angeles\",\r\n",
        "    'dob': \"01011901\"\r\n",
        "}\r\n",
        "\r\n",
        "print(person)\r\n",
        "print(person['firstname'])\r\n",
        "print(person['lastname'])\r\n",
        "print(person['age'])\r\n",
        "print(person['city'])\r\n",
        "print(person['dob'])\r\n",
        "\r\n",
        "print(person['firstname'].title() + \" \" + person['lastname'] + \" is \" + person['age'] + \" years old and lives in \" + person['city'] + \" and was born on \" + person['dob'] + \".\")"
      ],
      "execution_count": 37,
      "outputs": [
        {
          "output_type": "stream",
          "text": [
            "{'firstname': 'nana', 'lastname': 'Tomen', 'age': '46', 'city': 'Los Angeles', 'dob': '01011901'}\n",
            "nana\n",
            "Tomen\n",
            "46\n",
            "Los Angeles\n",
            "01011901\n",
            "Nana Tomen is 46 years old and lives in Los Angeles and was born on 01011901.\n"
          ],
          "name": "stdout"
        }
      ]
    },
    {
      "cell_type": "code",
      "metadata": {
        "colab": {
          "base_uri": "https://localhost:8080/"
        },
        "id": "j-UNJeCFcbl5",
        "outputId": "829d7719-c291-4f42-976e-5f1dd9cacefd"
      },
      "source": [
        "# practice creating dictionaries\r\n",
        "\r\n",
        "peopleInfo = {\r\n",
        "    'person_1': \"Abby\", 'age_1': \"23\",\r\n",
        "    'person_2': \"Becca\", 'age_2': \"33\",\r\n",
        "    'person_3': \"Charlie\", 'age_3': \"39\",\r\n",
        "    'person_4': \"Dana\", 'age_4': \"42\",\r\n",
        "    'person_5': \"Erica\", 'age_5': \"48\"\r\n",
        "    }\r\n",
        "\r\n",
        "print(peopleInfo)\r\n",
        "print(peopleInfo['person_1'], peopleInfo['age_1'])\r\n",
        "print(peopleInfo['person_2'], peopleInfo['age_2'])\r\n",
        "print(peopleInfo['person_3'], peopleInfo['age_3'])\r\n",
        "print(peopleInfo['person_4'], peopleInfo['age_4'])\r\n",
        "print(peopleInfo['person_5'], peopleInfo['age_5'])\r\n",
        "\r\n",
        "print(peopleInfo['person_2'].title() + \" age \" + peopleInfo['age_2'] + \" and \" + peopleInfo['person_4'] + ' age ' + peopleInfo['age_4'] + \" are siblings.\")"
      ],
      "execution_count": 33,
      "outputs": [
        {
          "output_type": "stream",
          "text": [
            "{'person_1': 'Abby', 'age_1': '23', 'person_2': 'Becca', 'age_2': '33', 'person_3': 'Charlie', 'age_3': '39', 'person_4': 'Dana', 'age_4': '42', 'person_5': 'Erica', 'age_5': '48'}\n",
            "Abby 23\n",
            "Becca 33\n",
            "Charlie 39\n",
            "Dana 42\n",
            "Erica 48\n",
            "Becca age 33 and Dana age 42 are siblings.\n"
          ],
          "name": "stdout"
        }
      ]
    },
    {
      "cell_type": "code",
      "metadata": {
        "colab": {
          "base_uri": "https://localhost:8080/"
        },
        "id": "8h1dnWzceDVO",
        "outputId": "39909137-e5b1-4554-97c0-5697621839da"
      },
      "source": [
        "# practice creating dictionaries\r\n",
        "\r\n",
        "PythonVocab = {\r\n",
        "    'string': \"a type of variable in quotes\",\r\n",
        "    'tuple' : \"a type of list that cannot change\",\r\n",
        "    'dictionary': \"a key:value pair storage\"\r\n",
        "}\r\n",
        "\r\n",
        "print(PythonVocab)"
      ],
      "execution_count": 32,
      "outputs": [
        {
          "output_type": "stream",
          "text": [
            "{'string': 'a type of variable in quotes', 'tuple': 'a type of list that cannot change', 'dictionary': 'a key:value pair storage'}\n"
          ],
          "name": "stdout"
        }
      ]
    },
    {
      "cell_type": "code",
      "metadata": {
        "colab": {
          "base_uri": "https://localhost:8080/"
        },
        "id": "lreoMGNDjmux",
        "outputId": "ebec1d8f-fc17-4d9d-9093-0160ac346f6a"
      },
      "source": [
        "# looping through a dictionary\r\n",
        "\r\n",
        "patient_3 = {\r\n",
        "    'name' : \"jill\",\r\n",
        "    'lastname' : \"sparrow\",\r\n",
        "    'mrn' : \"000000\",\r\n",
        "    'dob' : \"02231945\"\r\n",
        "}\r\n",
        "\r\n",
        "for key,value in patient_3.items():\r\n",
        "  print('\\nKey: ' + key)\r\n",
        "  print('\\nValue: ' + value)"
      ],
      "execution_count": 38,
      "outputs": [
        {
          "output_type": "stream",
          "text": [
            "\n",
            "Key: name\n",
            "\n",
            "Value: jill\n",
            "\n",
            "Key: lastname\n",
            "\n",
            "Value: sparrow\n",
            "\n",
            "Key: mrn\n",
            "\n",
            "Value: 000000\n",
            "\n",
            "Key: dob\n",
            "\n",
            "Value: 02231945\n"
          ],
          "name": "stdout"
        }
      ]
    },
    {
      "cell_type": "code",
      "metadata": {
        "colab": {
          "base_uri": "https://localhost:8080/"
        },
        "id": "_C2a8tQYlFgf",
        "outputId": "c61b1398-5a01-4da7-ed0f-e07c161dc993"
      },
      "source": [
        "# just calling keys() method in dictionary\r\n",
        "\r\n",
        "patient_3 = {\r\n",
        "    'name' : \"jill\",\r\n",
        "    'lastname' : \"sparrow\",\r\n",
        "    'mrn' : \"000000\",\r\n",
        "    'dob' : \"02231945\"\r\n",
        "}\r\n",
        "\r\n",
        "for keys in patient_3.keys():\r\n",
        "  print(keys)"
      ],
      "execution_count": 39,
      "outputs": [
        {
          "output_type": "stream",
          "text": [
            "name\n",
            "lastname\n",
            "mrn\n",
            "dob\n"
          ],
          "name": "stdout"
        }
      ]
    },
    {
      "cell_type": "code",
      "metadata": {
        "colab": {
          "base_uri": "https://localhost:8080/"
        },
        "id": "nN_szNk0lVVI",
        "outputId": "7ee7a7c5-ee6b-45ac-a2d9-6904c120e173"
      },
      "source": [
        "friends_age = {\r\n",
        "    'nikki' : '28',\r\n",
        "    'alex' : '30',\r\n",
        "    'amanda' : '31',\r\n",
        "    'joey' : ' 36'\r\n",
        "}\r\n",
        "\r\n",
        "favFriends = ['nikki', 'amanda']\r\n",
        "\r\n",
        "for name in friends_age.keys():\r\n",
        "  print(name.upper())\r\n",
        "\r\n",
        "  if name in favFriends:\r\n",
        "    print(\"Hi \" + name.title() + \". I see you are \" + friends_age[name] + \" years old.\")"
      ],
      "execution_count": 45,
      "outputs": [
        {
          "output_type": "stream",
          "text": [
            "NIKKI\n",
            "Hi Nikki. I see you are 28 years old.\n",
            "ALEX\n",
            "AMANDA\n",
            "Hi Amanda. I see you are 31 years old.\n",
            "JOEY\n"
          ],
          "name": "stdout"
        }
      ]
    }
  ]
}
