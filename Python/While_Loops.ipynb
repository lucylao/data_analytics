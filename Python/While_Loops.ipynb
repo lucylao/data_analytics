{
  "nbformat": 4,
  "nbformat_minor": 0,
  "metadata": {
    "colab": {
      "name": "While_Loops.ipynb",
      "provenance": [],
      "collapsed_sections": [],
      "authorship_tag": "ABX9TyNDwtAsI18mn0QSXjB9jDgN",
      "include_colab_link": true
    },
    "kernelspec": {
      "name": "python3",
      "display_name": "Python 3"
    }
  },
  "cells": [
    {
      "cell_type": "markdown",
      "metadata": {
        "id": "view-in-github",
        "colab_type": "text"
      },
      "source": [
        "<a href=\"https://colab.research.google.com/github/lucylao/data_analytics/blob/main/While_Loops.ipynb\" target=\"_parent\"><img src=\"https://colab.research.google.com/assets/colab-badge.svg\" alt=\"Open In Colab\"/></a>"
      ]
    },
    {
      "cell_type": "code",
      "metadata": {
        "colab": {
          "base_uri": "https://localhost:8080/"
        },
        "id": "asSBlnFDpy7Y",
        "outputId": "482b957b-8ecd-41fa-a76e-a903dbccd9fe"
      },
      "source": [
        "number = 1\r\n",
        "while number <= 5:\r\n",
        "  print(number)\r\n",
        "  number +=1"
      ],
      "execution_count": 3,
      "outputs": [
        {
          "output_type": "stream",
          "text": [
            "1\n",
            "2\n",
            "3\n",
            "4\n",
            "5\n"
          ],
          "name": "stdout"
        }
      ]
    },
    {
      "cell_type": "code",
      "metadata": {
        "colab": {
          "base_uri": "https://localhost:8080/"
        },
        "id": "zOi4RFW2o6ix",
        "outputId": "c20be190-f880-4b63-aa10-46e790932ba7"
      },
      "source": [
        "number = 5\r\n",
        "while number <= 15:\r\n",
        "  print(number)\r\n",
        "  number +=1"
      ],
      "execution_count": 2,
      "outputs": [
        {
          "output_type": "stream",
          "text": [
            "5\n",
            "6\n",
            "7\n",
            "8\n",
            "9\n",
            "10\n",
            "11\n",
            "12\n",
            "13\n",
            "14\n",
            "15\n"
          ],
          "name": "stdout"
        }
      ]
    },
    {
      "cell_type": "code",
      "metadata": {
        "colab": {
          "base_uri": "https://localhost:8080/"
        },
        "id": "YySMr4RKqfZd",
        "outputId": "0289935f-6f98-4653-b57d-579c8fe00acc"
      },
      "source": [
        "# User Input\r\n",
        "\r\n",
        "message = input(\"Enter your first name \")\r\n",
        "print(\"Hi, \" + message)"
      ],
      "execution_count": 11,
      "outputs": [
        {
          "output_type": "stream",
          "text": [
            "Enter your first name Frankie\n",
            "Hi, Frankie\n"
          ],
          "name": "stdout"
        }
      ]
    },
    {
      "cell_type": "code",
      "metadata": {
        "colab": {
          "base_uri": "https://localhost:8080/"
        },
        "id": "qyaop-PJrA_Z",
        "outputId": "80e06a0f-af16-4850-a0ea-f4703c27da3d"
      },
      "source": [
        "# User Input & While Loop\r\n",
        "\r\n",
        "prompt = \"Input a message. I will stop when you type in 'Quit' \"\r\n",
        "message = \" \"\r\n",
        "\r\n",
        "while message != 'Quit':\r\n",
        "  message = input(prompt)\r\n",
        "  print(message)"
      ],
      "execution_count": 10,
      "outputs": [
        {
          "output_type": "stream",
          "text": [
            "Input a message. I will stop when you type in 'Quit' Posey\n",
            "Posey\n",
            "Input a message. I will stop when you type in 'Quit' Quit\n",
            "Quit\n"
          ],
          "name": "stdout"
        }
      ]
    },
    {
      "cell_type": "code",
      "metadata": {
        "colab": {
          "base_uri": "https://localhost:8080/"
        },
        "id": "JtmOLAjisA5k",
        "outputId": "497f04a8-af3b-4575-8f6d-3680253521c4"
      },
      "source": [
        "# else statement in while loop\r\n",
        "\r\n",
        "prompt = \"Input a message. I will stop when you type 'quit' \"\r\n",
        "message = \" \"\r\n",
        "\r\n",
        "while message != 'quit':\r\n",
        "  message = input(prompt)\r\n",
        "  print(message)\r\n",
        "else:\r\n",
        "  print(\"Done\")"
      ],
      "execution_count": 12,
      "outputs": [
        {
          "output_type": "stream",
          "text": [
            "Input a message. I will stop when you type 'quit' today is monday\n",
            "today is monday\n",
            "Input a message. I will stop when you type 'quit' quit\n",
            "quit\n",
            "Done\n"
          ],
          "name": "stdout"
        }
      ]
    },
    {
      "cell_type": "code",
      "metadata": {
        "colab": {
          "base_uri": "https://localhost:8080/"
        },
        "id": "LLaBTy0vrzik",
        "outputId": "375ccf65-9ac8-4259-b8c3-5e10a617f0bb"
      },
      "source": [
        "# using flags to stop a while loop\r\n",
        "\r\n",
        "prompt = \"Input a message. I will repeat it until you type 'quit' \"\r\n",
        "message = \" \"\r\n",
        "\r\n",
        "active = True\r\n",
        "while active:\r\n",
        "  message = input(prompt)\r\n",
        "  \r\n",
        "  if message == 'quit':\r\n",
        "    active = False\r\n",
        "  else:\r\n",
        "    print(message)"
      ],
      "execution_count": 16,
      "outputs": [
        {
          "output_type": "stream",
          "text": [
            "Input a message. I will repeat it until you type 'quit' Today is Monday\n",
            "Today is Monday\n",
            "Input a message. I will repeat it until you type 'quit' Tomorrow is Tuesday\n",
            "Tomorrow is Tuesday\n",
            "Input a message. I will repeat it until you type 'quit' quit\n"
          ],
          "name": "stdout"
        }
      ]
    }
  ]
}
