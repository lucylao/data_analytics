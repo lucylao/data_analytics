{
  "nbformat": 4,
  "nbformat_minor": 0,
  "metadata": {
    "colab": {
      "name": "Functions.ipynb",
      "provenance": [],
      "collapsed_sections": [],
      "authorship_tag": "ABX9TyPNfUt9TGtwK34jK2nAY+80"
    },
    "kernelspec": {
      "name": "python3",
      "display_name": "Python 3"
    }
  },
  "cells": [
    {
      "cell_type": "markdown",
      "metadata": {
        "id": "a-b5Zcyz4B3g"
      },
      "source": [
        "Write a function that takes two arguments.\r\n",
        "Call your function 3 times.\r\n",
        "Modify the function to take a default parameter."
      ]
    },
    {
      "cell_type": "code",
      "metadata": {
        "colab": {
          "base_uri": "https://localhost:8080/"
        },
        "id": "a47hkFb33iR3",
        "outputId": "96e3b1be-9a11-4e18-b3ec-a14fbc855822"
      },
      "source": [
        "# Assignment for Functions\r\n",
        "\r\n",
        "def name(state, capital):\r\n",
        "  print(\"The capital of \" + state + \" is \" + capital)\r\n",
        "\r\n",
        "name(\"Alaska\", \"Juneau\")\r\n",
        "name(\"New York\", \"Albany\")\r\n",
        "name(\"California\", \"Sacramento\")"
      ],
      "execution_count": 12,
      "outputs": [
        {
          "output_type": "stream",
          "text": [
            "The capital of Alaska is Juneau\n",
            "The capital of New York is Albany\n",
            "The capital of California is Sacramento\n"
          ],
          "name": "stdout"
        }
      ]
    },
    {
      "cell_type": "code",
      "metadata": {
        "colab": {
          "base_uri": "https://localhost:8080/"
        },
        "id": "MuzkTbaG6nut",
        "outputId": "4d484e82-25b4-4ade-e8a3-64892b0e043f"
      },
      "source": [
        "def name(state):\r\n",
        "  print(state.title() + \" is one of the fifty states in the US\")\r\n",
        "\r\n",
        "name(\"New Mexico\")"
      ],
      "execution_count": 14,
      "outputs": [
        {
          "output_type": "stream",
          "text": [
            "New Mexico is one of the fifty states in the US\n"
          ],
          "name": "stdout"
        }
      ]
    },
    {
      "cell_type": "markdown",
      "metadata": {
        "id": "ddK1X1-239aT"
      },
      "source": [
        "Classwork for Functions Below:"
      ]
    },
    {
      "cell_type": "code",
      "metadata": {
        "colab": {
          "base_uri": "https://localhost:8080/"
        },
        "id": "zSkjrhCGzYkK",
        "outputId": "89398267-d261-4807-a070-b5d3d59240d4"
      },
      "source": [
        "# defining a function\r\n",
        "\r\n",
        "def greetings(name):\r\n",
        "  print(\"Hello, \" + name + \" !\")\r\n",
        "\r\n",
        "greetings('Haley')\r\n"
      ],
      "execution_count": 3,
      "outputs": [
        {
          "output_type": "stream",
          "text": [
            "Hello, Haley !\n"
          ],
          "name": "stdout"
        }
      ]
    },
    {
      "cell_type": "code",
      "metadata": {
        "colab": {
          "base_uri": "https://localhost:8080/"
        },
        "id": "VWQC03lFzwkq",
        "outputId": "1b42cf0e-0a6c-404e-8d4c-55d40aa45787"
      },
      "source": [
        "def greeting_Age(a):\r\n",
        "  print(\"Hello, I am \" + a + \" years old!\")\r\n",
        "\r\n",
        "greeting_Age('55')"
      ],
      "execution_count": 11,
      "outputs": [
        {
          "output_type": "stream",
          "text": [
            "Hello, I am 55 years old!\n"
          ],
          "name": "stdout"
        }
      ]
    },
    {
      "cell_type": "code",
      "metadata": {
        "colab": {
          "base_uri": "https://localhost:8080/"
        },
        "id": "qRlJU0gB0FgL",
        "outputId": "3ccb5e0e-b88c-4403-9eb1-5e46926b3851"
      },
      "source": [
        "# two arguments in a function\r\n",
        "\r\n",
        "def greeting_2(firstname, lastname, age):\r\n",
        "  print(\"Hello, \" + firstname.title() + \" \" + lastname.title())\r\n",
        "  print(\"I am \" + age + \" years old.\")\r\n",
        "\r\n",
        "greeting('georgia', 'smith', '63')"
      ],
      "execution_count": 9,
      "outputs": [
        {
          "output_type": "stream",
          "text": [
            "Hello, Georgia Smith\n",
            "I am 63 years old.\n"
          ],
          "name": "stdout"
        }
      ]
    },
    {
      "cell_type": "code",
      "metadata": {
        "colab": {
          "base_uri": "https://localhost:8080/"
        },
        "id": "MgbnTNhk1IOB",
        "outputId": "dd0b1585-d547-45ed-fa7d-b56f7377f169"
      },
      "source": [
        "# calling a previously defined function\r\n",
        "\r\n",
        "greeting_2('paula', 'min', '78')\r\n",
        "greeting_2('henri', 'smile', '57')"
      ],
      "execution_count": 10,
      "outputs": [
        {
          "output_type": "stream",
          "text": [
            "Hello, Paula Min\n",
            "I am 78 years old.\n",
            "Hello, Henri Smile\n",
            "I am 57 years old.\n"
          ],
          "name": "stdout"
        }
      ]
    }
  ]
}
