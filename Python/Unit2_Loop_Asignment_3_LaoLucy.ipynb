{
  "nbformat": 4,
  "nbformat_minor": 0,
  "metadata": {
    "colab": {
      "name": "Unit2_Loop_Assignment_3_LaoLucy.ipynb",
      "provenance": [],
      "collapsed_sections": [],
      "toc_visible": true,
      "include_colab_link": true
    },
    "kernelspec": {
      "name": "python3",
      "display_name": "Python 3"
    }
  },
  "cells": [
    {
      "cell_type": "markdown",
      "metadata": {
        "id": "view-in-github",
        "colab_type": "text"
      },
      "source": [
        "<a href=\"https://colab.research.google.com/github/lucylao/data_analytics/blob/main/Unit2_Loop_Assignment_3_LaoLucy.ipynb\" target=\"_parent\"><img src=\"https://colab.research.google.com/assets/colab-badge.svg\" alt=\"Open In Colab\"/></a>"
      ]
    },
    {
      "cell_type": "markdown",
      "metadata": {
        "id": "Vgs8Kp4TidFQ"
      },
      "source": [
        "# Intrdouction to Python - Loop - Assignment #3 "
      ]
    },
    {
      "cell_type": "markdown",
      "metadata": {
        "id": "_Hq7Ny79iwgD"
      },
      "source": [
        "## 1. Create a list that holds 5 data variables. "
      ]
    },
    {
      "cell_type": "code",
      "metadata": {
        "id": "lotvpVpvlKsR"
      },
      "source": [
        "list = ['chocolate', 'seafood', 'Earth', 'nineteen', 'star']"
      ],
      "execution_count": null,
      "outputs": []
    },
    {
      "cell_type": "code",
      "metadata": {
        "id": "oNXY-CfrlLbE"
      },
      "source": [
        ""
      ],
      "execution_count": null,
      "outputs": []
    },
    {
      "cell_type": "markdown",
      "metadata": {
        "id": "io_27RSlizno"
      },
      "source": [
        "## 2.\tPrint out those variables by using a for loop"
      ]
    },
    {
      "cell_type": "code",
      "metadata": {
        "id": "Dh1o5cAylSHB",
        "colab": {
          "base_uri": "https://localhost:8080/"
        },
        "outputId": "0c7c5efc-30d5-4f34-fcfe-63b3e2843aed"
      },
      "source": [
        "list = ['chocolate', 'seafood', 'Earth', 'nineteen', 'star']\r\n",
        "\r\n",
        "for item in list:\r\n",
        "  print(item)"
      ],
      "execution_count": null,
      "outputs": [
        {
          "output_type": "stream",
          "text": [
            "chocolate\n",
            "seafood\n",
            "Earth\n",
            "nineteen\n",
            "star\n"
          ],
          "name": "stdout"
        }
      ]
    },
    {
      "cell_type": "code",
      "metadata": {
        "id": "vs8ppR-wlSKL"
      },
      "source": [
        ""
      ],
      "execution_count": null,
      "outputs": []
    },
    {
      "cell_type": "markdown",
      "metadata": {
        "id": "DAW8m8IQjRyR"
      },
      "source": [
        "## 3.\tModify your for loop to add a message to your for loop."
      ]
    },
    {
      "cell_type": "code",
      "metadata": {
        "id": "guULMEhrjYtT",
        "colab": {
          "base_uri": "https://localhost:8080/"
        },
        "outputId": "5ac33e1e-202f-4214-bad6-bbb8b7d001ea"
      },
      "source": [
        "list = ['chocolate', 'seafood', 'Earth', 'nineteen', 'star']\r\n",
        "for item in list:\r\n",
        "  print(\"This is an item in my list: \" + item)"
      ],
      "execution_count": null,
      "outputs": [
        {
          "output_type": "stream",
          "text": [
            "This is an item in my list: chocolate\n",
            "This is an item in my list: seafood\n",
            "This is an item in my list: Earth\n",
            "This is an item in my list: nineteen\n",
            "This is an item in my list: star\n"
          ],
          "name": "stdout"
        }
      ]
    },
    {
      "cell_type": "code",
      "metadata": {
        "id": "cv946RaOjw-G"
      },
      "source": [
        ""
      ],
      "execution_count": null,
      "outputs": []
    },
    {
      "cell_type": "markdown",
      "metadata": {
        "id": "dpa_YOt4jXyo"
      },
      "source": [
        "## 4.\tUse a for loop to print even numbers from 1-20."
      ]
    },
    {
      "cell_type": "code",
      "metadata": {
        "id": "pltxfnh3iJLW",
        "colab": {
          "base_uri": "https://localhost:8080/"
        },
        "outputId": "eb405f57-0a96-41f3-cfbb-976e9bac375e"
      },
      "source": [
        "for even in range (1,21):\r\n",
        "  if (even % 2 == 0):\r\n",
        "    print(even)"
      ],
      "execution_count": null,
      "outputs": [
        {
          "output_type": "stream",
          "text": [
            "2\n",
            "4\n",
            "6\n",
            "8\n",
            "10\n",
            "12\n",
            "14\n",
            "16\n",
            "18\n",
            "20\n"
          ],
          "name": "stdout"
        }
      ]
    },
    {
      "cell_type": "markdown",
      "metadata": {
        "id": "Ka84RGy4jmLT"
      },
      "source": [
        "## 5.\tSort your list in alphabetic order."
      ]
    },
    {
      "cell_type": "code",
      "metadata": {
        "id": "34IFFtK4jrg4",
        "colab": {
          "base_uri": "https://localhost:8080/"
        },
        "outputId": "9af787ac-53a2-465f-80d5-d8115b0ebb10"
      },
      "source": [
        "list = ['chocolate', 'seafood', 'Earth', 'nineteen', 'star']\r\n",
        "print(list)\r\n",
        "list.sort()\r\n",
        "print(list)"
      ],
      "execution_count": null,
      "outputs": [
        {
          "output_type": "stream",
          "text": [
            "['chocolate', 'seafood', 'Earth', 'nineteen', 'star']\n",
            "['Earth', 'chocolate', 'nineteen', 'seafood', 'star']\n"
          ],
          "name": "stdout"
        }
      ]
    },
    {
      "cell_type": "code",
      "metadata": {
        "id": "M17RfxQljvqb"
      },
      "source": [
        ""
      ],
      "execution_count": null,
      "outputs": []
    },
    {
      "cell_type": "markdown",
      "metadata": {
        "id": "ZKHwdMnLliFy"
      },
      "source": [
        "## 6.\tPrint out the first three elements of your list."
      ]
    },
    {
      "cell_type": "code",
      "metadata": {
        "id": "eXUDZfLOllTT",
        "colab": {
          "base_uri": "https://localhost:8080/"
        },
        "outputId": "bdeb1f7b-15b7-4526-df28-6f717dcff55f"
      },
      "source": [
        "list = ['chocolate', 'seafood', 'Earth', 'nineteen', 'star']\r\n",
        "\r\n",
        "# first way\r\n",
        "\r\n",
        "for three in list[:3]:\r\n",
        "  print(three)\r\n",
        "  \r\n",
        "\r\n",
        "# another way\r\n",
        "\r\n",
        "for firstThree in range(3):\r\n",
        "    print(list[firstThree])"
      ],
      "execution_count": 117,
      "outputs": [
        {
          "output_type": "stream",
          "text": [
            "chocolate\n",
            "seafood\n",
            "Earth\n",
            "chocolate\n",
            "seafood\n",
            "Earth\n"
          ],
          "name": "stdout"
        }
      ]
    },
    {
      "cell_type": "code",
      "metadata": {
        "id": "4oNKGU70llVg"
      },
      "source": [
        ""
      ],
      "execution_count": null,
      "outputs": []
    },
    {
      "cell_type": "markdown",
      "metadata": {
        "id": "oedkoLECmv6x"
      },
      "source": [
        "## 7.\tCreate a loop to print the last 2 elements of your list."
      ]
    },
    {
      "cell_type": "code",
      "metadata": {
        "id": "jjh2GdktllZY",
        "colab": {
          "base_uri": "https://localhost:8080/"
        },
        "outputId": "eb689a59-11d9-4545-b924-fe8f06160847"
      },
      "source": [
        "list = ['chocolate', 'seafood', 'Earth', 'nineteen', 'star']\r\n",
        "\r\n",
        "# first method\r\n",
        "\r\n",
        "for two in list[3:]:\r\n",
        "  print(two)\r\n",
        "\r\n",
        "# from left to right\r\n",
        "\r\n",
        "for lastTwo in range(3,5):\r\n",
        "  print(list[lastTwo])\r\n",
        "\r\n",
        "# from right to left\r\n",
        "\r\n",
        "for last in range(1,3):\r\n",
        "  print(list[-last])\r\n"
      ],
      "execution_count": 110,
      "outputs": [
        {
          "output_type": "stream",
          "text": [
            "nineteen\n",
            "star\n",
            "nineteen\n",
            "star\n",
            "star\n",
            "nineteen\n"
          ],
          "name": "stdout"
        }
      ]
    },
    {
      "cell_type": "code",
      "metadata": {
        "id": "iHaRIrt8llcd"
      },
      "source": [
        ""
      ],
      "execution_count": null,
      "outputs": []
    }
  ]
}
