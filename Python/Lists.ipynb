{
  "nbformat": 4,
  "nbformat_minor": 0,
  "metadata": {
    "colab": {
      "name": "Lists.ipynb",
      "provenance": [],
      "collapsed_sections": [],
      "authorship_tag": "ABX9TyN0mZKkwp7aS5hZOdJS4dIX",
      "include_colab_link": true
    },
    "kernelspec": {
      "name": "python3",
      "display_name": "Python 3"
    }
  },
  "cells": [
    {
      "cell_type": "markdown",
      "metadata": {
        "id": "view-in-github",
        "colab_type": "text"
      },
      "source": [
        "<a href=\"https://colab.research.google.com/github/lucylao/data_analytics/blob/main/Lists.ipynb\" target=\"_parent\"><img src=\"https://colab.research.google.com/assets/colab-badge.svg\" alt=\"Open In Colab\"/></a>"
      ]
    },
    {
      "cell_type": "code",
      "metadata": {
        "colab": {
          "base_uri": "https://localhost:8080/"
        },
        "id": "gORUX9cNrHmJ",
        "outputId": "7f0efd6b-21c6-45ad-d468-c9360f133790"
      },
      "source": [
        "CUNYCampusList = ['Baruch', 'Hunter', 'Laguardia', 1, 34, 3, 'Brooklyn', 'City Tech']\r\n",
        "message = \"The CUNY\"\r\n",
        "print(CUNYCampusList)\r\n",
        "print(CUNYCampusList[0])\r\n",
        "print(CUNYCampusList[3])\r\n",
        "print(CUNYCampusList[-3])\r\n",
        "print(CUNYCampusList.pop(1))\r\n",
        "print(CUNYCampusList)"
      ],
      "execution_count": 13,
      "outputs": [
        {
          "output_type": "stream",
          "text": [
            "['Baruch', 'Hunter', 'Laguardia', 1, 34, 3, 'Brooklyn', 'City Tech']\n",
            "Baruch\n",
            "1\n",
            "3\n",
            "Hunter\n",
            "['Baruch', 'Laguardia', 1, 34, 3, 'Brooklyn', 'City Tech']\n"
          ],
          "name": "stdout"
        }
      ]
    },
    {
      "cell_type": "code",
      "metadata": {
        "id": "ZnwjYXN2rzRX"
      },
      "source": [
        "def newfunction ():\r\n",
        "  print(\"Hello World\")\r\n",
        "  newfunction()"
      ],
      "execution_count": 7,
      "outputs": []
    },
    {
      "cell_type": "code",
      "metadata": {
        "colab": {
          "base_uri": "https://localhost:8080/"
        },
        "id": "eeTUzDOptJ61",
        "outputId": "c0ceb87a-68b2-47f6-dc12-68ec9bf0807f"
      },
      "source": [
        "friendList = ['Amy', 'Dana', 'Mary']\r\n",
        "\r\n",
        "print(friendList)\r\n",
        "print(friendList[0])\r\n",
        "print(friendList[1])\r\n",
        "print(friendList[2])\r\n",
        "print(friendList[-1])\r\n",
        "print(friendList[-2])\r\n",
        "print(friendList[-3])\r\n",
        "\r\n",
        "AmyMessage = \"Long time no see, \" + friendList[0]\r\n",
        "\r\n",
        "print(message)\r\n"
      ],
      "execution_count": 21,
      "outputs": [
        {
          "output_type": "stream",
          "text": [
            "['Amy', 'Dana', 'Mary']\n",
            "Amy\n",
            "Dana\n",
            "Mary\n",
            "Mary\n",
            "Dana\n",
            "Amy\n",
            "Long time no see, Amy\n"
          ],
          "name": "stdout"
        }
      ]
    },
    {
      "cell_type": "code",
      "metadata": {
        "colab": {
          "base_uri": "https://localhost:8080/"
        },
        "id": "zYs-UG7lylUZ",
        "outputId": "d13f1e43-08c7-4b18-f798-cd355f5f525d"
      },
      "source": [
        "friendList = ['Amy', 'Dana', 'Mary']\r\n",
        "friendList[1] = \"Sue\"\r\n",
        "print(friendList)\r\n",
        "\r\n",
        "newFriends = ['Chloe', 'Madison']\r\n",
        "friendList.append('Chloe')\r\n",
        "\r\n",
        "print(friendList)\r\n"
      ],
      "execution_count": 31,
      "outputs": [
        {
          "output_type": "stream",
          "text": [
            "['Amy', 'Sue', 'Mary']\n",
            "['Amy', 'Sue', 'Mary', 'Chloe']\n"
          ],
          "name": "stdout"
        }
      ]
    },
    {
      "cell_type": "code",
      "metadata": {
        "colab": {
          "base_uri": "https://localhost:8080/"
        },
        "id": "58p7VGLrxaS9",
        "outputId": "6ef789e6-095b-4705-b270-8aff7c2e2326"
      },
      "source": [
        "CUNYCampus = ['Baruch', 'Hunter', 'Queen', 'City']\r\n",
        "CUNYCampus.append('LaGuardia')\r\n",
        "CUNYCampus.insert(2, 'Brooklyn')\r\n",
        "print(CUNYCampus)"
      ],
      "execution_count": 24,
      "outputs": [
        {
          "output_type": "stream",
          "text": [
            "['Baruch', 'Hunter', 'Brooklyn', 'Queen', 'City', 'LaGuardia']\n"
          ],
          "name": "stdout"
        }
      ]
    },
    {
      "cell_type": "code",
      "metadata": {
        "colab": {
          "base_uri": "https://localhost:8080/"
        },
        "id": "N3o2nOX-2jmw",
        "outputId": "7e045edc-f850-42bb-93cd-f8254e08ddb3"
      },
      "source": [
        "friendList = ['Amy', 'Dana', 'Mary']\r\n",
        "print(friendList)\r\n",
        "del friendList[1]\r\n",
        "print(friendList)"
      ],
      "execution_count": 32,
      "outputs": [
        {
          "output_type": "stream",
          "text": [
            "['Amy', 'Dana', 'Mary']\n",
            "['Amy', 'Mary']\n"
          ],
          "name": "stdout"
        }
      ]
    },
    {
      "cell_type": "code",
      "metadata": {
        "colab": {
          "base_uri": "https://localhost:8080/"
        },
        "id": "C6epqx583H_E",
        "outputId": "38782422-bb86-4f32-816f-2dd2af5aa7d9"
      },
      "source": [
        "friendList = ['Amy', 'Dana', 'Mary']\r\n",
        "print(friendList)\r\n",
        "friendList.remove('Mary')\r\n",
        "print(friendList)"
      ],
      "execution_count": 33,
      "outputs": [
        {
          "output_type": "stream",
          "text": [
            "['Amy', 'Dana', 'Mary']\n",
            "['Amy', 'Dana']\n"
          ],
          "name": "stdout"
        }
      ]
    },
    {
      "cell_type": "code",
      "metadata": {
        "colab": {
          "base_uri": "https://localhost:8080/"
        },
        "id": "ANEhiVV74-cr",
        "outputId": "12b7e1ba-8655-4466-91cd-108bb7ba012c"
      },
      "source": [
        "foods = ['veggie burger', 'fries', 'pepsi']\r\n",
        "print(foods)\r\n",
        "foods.append('chicken nuggets')\r\n",
        "print(foods)\r\n",
        "foods.insert(1, 'salad')\r\n",
        "print(foods)\r\n",
        "foods.remove('fries')\r\n",
        "print(foods)"
      ],
      "execution_count": 36,
      "outputs": [
        {
          "output_type": "stream",
          "text": [
            "['veggie burger', 'fries', 'pepsi']\n",
            "['veggie burger', 'fries', 'pepsi', 'chicken nuggets']\n",
            "['veggie burger', 'salad', 'fries', 'pepsi', 'chicken nuggets']\n",
            "['veggie burger', 'salad', 'pepsi', 'chicken nuggets']\n"
          ],
          "name": "stdout"
        }
      ]
    },
    {
      "cell_type": "code",
      "metadata": {
        "colab": {
          "base_uri": "https://localhost:8080/"
        },
        "id": "pZn_1bVJ6yMR",
        "outputId": "83e6c2fa-6a6e-4487-a7ba-065e5d5fb7cd"
      },
      "source": [
        "CUNYCampusList = ['Baruch', 'Hunter', 'Queens', 'City', 'LaGuardia']\r\n",
        "print(CUNYCampusList)\r\n",
        "CUNYCampusList.sort()\r\n",
        "print(CUNYCampusList)\r\n",
        "CUNYCampusList.sort(reverse = True)\r\n",
        "print(CUNYCampusList)"
      ],
      "execution_count": 39,
      "outputs": [
        {
          "output_type": "stream",
          "text": [
            "['Baruch', 'Hunter', 'Queens', 'City', 'LaGuardia']\n",
            "['Baruch', 'City', 'Hunter', 'LaGuardia', 'Queens']\n",
            "['Queens', 'LaGuardia', 'Hunter', 'City', 'Baruch']\n"
          ],
          "name": "stdout"
        }
      ]
    },
    {
      "cell_type": "code",
      "metadata": {
        "colab": {
          "base_uri": "https://localhost:8080/"
        },
        "id": "hui3OG-h73Es",
        "outputId": "d5c86360-d6fc-4130-b86c-684e8a7398ce"
      },
      "source": [
        "foods = ['veggie burger', 'fries', 'pepsi']\r\n",
        "print(foods)\r\n",
        "foods.sort()\r\n",
        "print(foods)\r\n",
        "foods.sort(reverse = True)\r\n",
        "print(foods)\r\n",
        "len(foods)\r\n",
        "\r\n"
      ],
      "execution_count": 41,
      "outputs": [
        {
          "output_type": "stream",
          "text": [
            "['veggie burger', 'fries', 'pepsi']\n",
            "['fries', 'pepsi', 'veggie burger']\n",
            "['veggie burger', 'pepsi', 'fries']\n"
          ],
          "name": "stdout"
        },
        {
          "output_type": "execute_result",
          "data": {
            "text/plain": [
              "3"
            ]
          },
          "metadata": {
            "tags": []
          },
          "execution_count": 41
        }
      ]
    },
    {
      "cell_type": "code",
      "metadata": {
        "colab": {
          "base_uri": "https://localhost:8080/"
        },
        "id": "qXrOJq1Q8cux",
        "outputId": "2fb23688-7949-418b-816b-f51130d302c8"
      },
      "source": [
        "travel = ['Iceland', 'Egypt', 'Florida', 'Utah', 'Mars']\r\n",
        "print(travel)\r\n",
        "travel.sort()\r\n",
        "print(travel)\r\n",
        "travel.sort(reverse = True)\r\n",
        "print(travel)\r\n",
        "len(travel)"
      ],
      "execution_count": 45,
      "outputs": [
        {
          "output_type": "stream",
          "text": [
            "['Iceland', 'Egypt', 'Florida', 'Utah', 'Mars']\n",
            "['Egypt', 'Florida', 'Iceland', 'Mars', 'Utah']\n",
            "['Utah', 'Mars', 'Iceland', 'Florida', 'Egypt']\n"
          ],
          "name": "stdout"
        },
        {
          "output_type": "execute_result",
          "data": {
            "text/plain": [
              "5"
            ]
          },
          "metadata": {
            "tags": []
          },
          "execution_count": 45
        }
      ]
    }
  ]
}
