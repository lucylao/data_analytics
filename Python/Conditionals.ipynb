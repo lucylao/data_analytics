{
  "nbformat": 4,
  "nbformat_minor": 0,
  "metadata": {
    "colab": {
      "name": "Conditionals.ipynb",
      "provenance": [],
      "authorship_tag": "ABX9TyNUqjAF3WCe3i9fjxPC4Olg",
      "include_colab_link": true
    },
    "kernelspec": {
      "name": "python3",
      "display_name": "Python 3"
    }
  },
  "cells": [
    {
      "cell_type": "markdown",
      "metadata": {
        "id": "view-in-github",
        "colab_type": "text"
      },
      "source": [
        "<a href=\"https://colab.research.google.com/github/lucylao/data_analytics/blob/main/Conditionals.ipynb\" target=\"_parent\"><img src=\"https://colab.research.google.com/assets/colab-badge.svg\" alt=\"Open In Colab\"/></a>"
      ]
    },
    {
      "cell_type": "code",
      "metadata": {
        "colab": {
          "base_uri": "https://localhost:8080/"
        },
        "id": "m9lvWewpeyJA",
        "outputId": "d880f868-e76b-404a-b997-37a427168e07"
      },
      "source": [
        "motorcycles = ['ducati', 'bmw', 'yamaha', 'honda']\r\n",
        "\r\n",
        "for bike in motorcycles:\r\n",
        "  if bike == 'ducati':\r\n",
        "    print(bike.upper())\r\n",
        "  else:\r\n",
        "    print(bike.lower())\r\n",
        "    "
      ],
      "execution_count": null,
      "outputs": [
        {
          "output_type": "stream",
          "text": [
            "DUCATI\n",
            "bmw\n",
            "yamaha\n",
            "honda\n"
          ],
          "name": "stdout"
        }
      ]
    },
    {
      "cell_type": "code",
      "metadata": {
        "colab": {
          "base_uri": "https://localhost:8080/"
        },
        "id": "6igkSUdugmDw",
        "outputId": "9ba19d32-ce8f-4a9b-fd6c-318bc5238502"
      },
      "source": [
        "motorcycles = ['ducati', 'bmw', 'yamaha', 'honda']\r\n",
        "\r\n",
        "for bike in motorcycles:\r\n",
        "  if bike == 'DUCATI':\r\n",
        "    print(bike.upper())\r\n",
        "  else:\r\n",
        "    print(bike.lower())"
      ],
      "execution_count": null,
      "outputs": [
        {
          "output_type": "stream",
          "text": [
            "ducati\n",
            "bmw\n",
            "yamaha\n",
            "honda\n"
          ],
          "name": "stdout"
        }
      ]
    },
    {
      "cell_type": "code",
      "metadata": {
        "colab": {
          "base_uri": "https://localhost:8080/",
          "height": 128
        },
        "id": "BWSG4PzShbMr",
        "outputId": "a26eeaa6-38b6-4687-d0de-9ed7d321333d"
      },
      "source": [
        "motorcycles = ['ducati', 'bmw', 'yamaha', 'honda']\r\n",
        "\r\n",
        "for bike in motorcycles:\r\n",
        "  if bike === 'ducati':\r\n",
        "    print(bike.upper())\r\n",
        "  else:\r\n",
        "    print(bike.lower())"
      ],
      "execution_count": null,
      "outputs": [
        {
          "output_type": "error",
          "ename": "SyntaxError",
          "evalue": "ignored",
          "traceback": [
            "\u001b[0;36m  File \u001b[0;32m\"<ipython-input-17-0aa0cbd5d797>\"\u001b[0;36m, line \u001b[0;32m4\u001b[0m\n\u001b[0;31m    if bike === 'ducati':\u001b[0m\n\u001b[0m              ^\u001b[0m\n\u001b[0;31mSyntaxError\u001b[0m\u001b[0;31m:\u001b[0m invalid syntax\n"
          ]
        }
      ]
    },
    {
      "cell_type": "code",
      "metadata": {
        "colab": {
          "base_uri": "https://localhost:8080/"
        },
        "id": "TUWG8wyWhlWw",
        "outputId": "9abdd8f3-e8eb-4d99-9364-b12f10f8a254"
      },
      "source": [
        "patient_exam = 'echo'\r\n",
        "\r\n",
        "if patient_exam != 'echo':\r\n",
        "  print(\"This is not the patient.\")\r\n",
        "else:\r\n",
        "  print(\"Here is our patient.\")"
      ],
      "execution_count": null,
      "outputs": [
        {
          "output_type": "stream",
          "text": [
            "Here is our patient.\n"
          ],
          "name": "stdout"
        }
      ]
    },
    {
      "cell_type": "code",
      "metadata": {
        "colab": {
          "base_uri": "https://localhost:8080/"
        },
        "id": "X0wIRfukiP64",
        "outputId": "a4d09219-d749-4d97-c8c2-714ab5e47789"
      },
      "source": [
        "patient_exam = 'echo'\r\n",
        "\r\n",
        "if patient_exam != 'ecg':\r\n",
        "  print(\"Invalid exam.\")\r\n",
        "else:\r\n",
        "  print(\"Here is our exam.\")"
      ],
      "execution_count": null,
      "outputs": [
        {
          "output_type": "stream",
          "text": [
            "Invalid exam.\n"
          ],
          "name": "stdout"
        }
      ]
    },
    {
      "cell_type": "code",
      "metadata": {
        "colab": {
          "base_uri": "https://localhost:8080/"
        },
        "id": "1H3cl5GvimLK",
        "outputId": "648cab0c-f2f6-4e9c-e9fe-144bf0dc1f4c"
      },
      "source": [
        "readmit_days_after_discharge = 29\r\n",
        "\r\n",
        "if readmit_days_after_discharge < 30:\r\n",
        "  print(\"Patient was readmitted within 30 days.\")\r\n",
        "else:\r\n",
        "  print(\"Patient was readmitted after 30 days.\")"
      ],
      "execution_count": null,
      "outputs": [
        {
          "output_type": "stream",
          "text": [
            "Patient was readmitted within 30 days.\n"
          ],
          "name": "stdout"
        }
      ]
    },
    {
      "cell_type": "code",
      "metadata": {
        "colab": {
          "base_uri": "https://localhost:8080/"
        },
        "id": "1mEcc2SujAfs",
        "outputId": "ea49d1be-9709-49c9-8333-758d06552624"
      },
      "source": [
        "studentA = 25\r\n",
        "studentB = 33\r\n",
        "studentA >= 20 or studentB >= 21"
      ],
      "execution_count": null,
      "outputs": [
        {
          "output_type": "execute_result",
          "data": {
            "text/plain": [
              "True"
            ]
          },
          "metadata": {
            "tags": []
          },
          "execution_count": 26
        }
      ]
    },
    {
      "cell_type": "code",
      "metadata": {
        "colab": {
          "base_uri": "https://localhost:8080/"
        },
        "id": "hjUnXC2zjR3f",
        "outputId": "6f9615fc-40f4-4378-86b5-f6fe7111c724"
      },
      "source": [
        "studentA = 25\r\n",
        "studentB = 33\r\n",
        "studentA < 20 and studentB > 21"
      ],
      "execution_count": null,
      "outputs": [
        {
          "output_type": "execute_result",
          "data": {
            "text/plain": [
              "False"
            ]
          },
          "metadata": {
            "tags": []
          },
          "execution_count": 30
        }
      ]
    },
    {
      "cell_type": "code",
      "metadata": {
        "colab": {
          "base_uri": "https://localhost:8080/"
        },
        "id": "E1ZGpxjYyY6V",
        "outputId": "472a1fad-86f9-4453-8479-df8b8878a2b2"
      },
      "source": [
        "age = 17\r\n",
        "\r\n",
        "if age <= 18:\r\n",
        "  print(\"You are not old enough.\")\r\n",
        "else:\r\n",
        "  print(\"You are of age.\")"
      ],
      "execution_count": null,
      "outputs": [
        {
          "output_type": "stream",
          "text": [
            "You are not old enough.\n"
          ],
          "name": "stdout"
        }
      ]
    }
  ]
}
