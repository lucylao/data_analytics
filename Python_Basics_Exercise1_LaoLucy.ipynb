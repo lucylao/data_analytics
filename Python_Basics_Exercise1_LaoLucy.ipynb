{
  "nbformat": 4,
  "nbformat_minor": 0,
  "metadata": {
    "colab": {
      "name": "Python_Basics_Exercise1_LaoLucy.ipynb",
      "provenance": [],
      "collapsed_sections": [],
      "include_colab_link": true
    },
    "kernelspec": {
      "name": "python3",
      "display_name": "Python 3"
    }
  },
  "cells": [
    {
      "cell_type": "markdown",
      "metadata": {
        "id": "view-in-github",
        "colab_type": "text"
      },
      "source": [
        "<a href=\"https://colab.research.google.com/github/lucylao/data_analytics/blob/main/Python_Basics_Exercise1_LaoLucy.ipynb\" target=\"_parent\"><img src=\"https://colab.research.google.com/assets/colab-badge.svg\" alt=\"Open In Colab\"/></a>"
      ]
    },
    {
      "cell_type": "markdown",
      "metadata": {
        "id": "g3-tSKRt_mkM"
      },
      "source": [
        "  **PYTHON EXERCISE FOR PRACTICE**"
      ]
    },
    {
      "cell_type": "markdown",
      "metadata": {
        "id": "bC_6Uz7DBqBH"
      },
      "source": [
        "**1: Given a two integer numbers return their product and  if the product is greater than 1000, then return their sum**\r\n",
        "\r\n",
        "number1 = 20\r\n",
        "\r\n",
        "number2 = 30\r\n",
        "\r\n"
      ]
    },
    {
      "cell_type": "code",
      "metadata": {
        "id": "HKa8yElOCEhb",
        "colab": {
          "base_uri": "https://localhost:8080/"
        },
        "outputId": "3b81dbf7-d300-4c17-bf8e-6a909e3c2670"
      },
      "source": [
        "number1 = 20\r\n",
        "number2 = 30\r\n",
        "product = number1 * number2\r\n",
        "sum = number1 + number2\r\n",
        "\r\n",
        "if product > 1000:\r\n",
        "  print(sum)\r\n",
        "else: \r\n",
        "  print(product)"
      ],
      "execution_count": null,
      "outputs": [
        {
          "output_type": "stream",
          "text": [
            "600\n"
          ],
          "name": "stdout"
        }
      ]
    },
    {
      "cell_type": "markdown",
      "metadata": {
        "id": "gi4_I_PzCG8b"
      },
      "source": [
        "**2: Given a range of first 10 numbers, Iterate from start number to the end number and print the sum of the current number and previous number.**"
      ]
    },
    {
      "cell_type": "code",
      "metadata": {
        "id": "kEiCkup1CPI-",
        "colab": {
          "base_uri": "https://localhost:8080/"
        },
        "outputId": "a2c22216-ebc8-4d55-8489-ee072741a54a"
      },
      "source": [
        "for num in range(1,11):\r\n",
        "  print(num)\r\n",
        "  \r\n",
        "sum = 0\r\n",
        "for number in range(1,11):\r\n",
        "  sum += number\r\n",
        "  print(sum)\r\n",
        "\r\n",
        "  "
      ],
      "execution_count": null,
      "outputs": [
        {
          "output_type": "stream",
          "text": [
            "1\n",
            "2\n",
            "3\n",
            "4\n",
            "5\n",
            "6\n",
            "7\n",
            "8\n",
            "9\n",
            "10\n",
            "1\n",
            "3\n",
            "6\n",
            "10\n",
            "15\n",
            "21\n",
            "28\n",
            "36\n",
            "45\n",
            "55\n"
          ],
          "name": "stdout"
        }
      ]
    },
    {
      "cell_type": "markdown",
      "metadata": {
        "id": "TC9qS9y1CXub"
      },
      "source": [
        "**3: In the string \"pynative\", display only those characters which are present at an even index number.**"
      ]
    },
    {
      "cell_type": "code",
      "metadata": {
        "id": "TuKk3dabCsNB",
        "colab": {
          "base_uri": "https://localhost:8080/"
        },
        "outputId": "79646a7c-6344-4a38-85b3-8f0b4ab9040a"
      },
      "source": [
        "string = 'pynative'\r\n",
        "\r\n",
        "for index in range(len(string)):\r\n",
        " if index % 2 == 0:\r\n",
        "    print(string[index])\r\n",
        "\r\n",
        "# another method using string slicing\r\n",
        "newString = string[::2]\r\n",
        "print(newString)"
      ],
      "execution_count": null,
      "outputs": [
        {
          "output_type": "stream",
          "text": [
            "p\n",
            "n\n",
            "t\n",
            "v\n",
            "pntv\n"
          ],
          "name": "stdout"
        }
      ]
    },
    {
      "cell_type": "markdown",
      "metadata": {
        "id": "I0P344TnCtM_"
      },
      "source": [
        "**4: In the string \"pynative\" remove characters from zero up to 5 and return a new string**"
      ]
    },
    {
      "cell_type": "code",
      "metadata": {
        "id": "Ydf43l5_DB3E",
        "colab": {
          "base_uri": "https://localhost:8080/"
        },
        "outputId": "641f10c5-ecff-47cd-8388-2b7ae1d7ca2a"
      },
      "source": [
        "string = 'pynative'\r\n",
        "newString = string[6:]\r\n",
        "\r\n",
        "print(newString)\r\n"
      ],
      "execution_count": null,
      "outputs": [
        {
          "output_type": "stream",
          "text": [
            "ve\n"
          ],
          "name": "stdout"
        }
      ]
    },
    {
      "cell_type": "markdown",
      "metadata": {
        "id": "5i7uTUBtDQDL"
      },
      "source": [
        "**5: Reverse numbers 121 and 125 and return true if it is the same as the original number.**"
      ]
    },
    {
      "cell_type": "code",
      "metadata": {
        "id": "uVb1zuoiDl4C",
        "colab": {
          "base_uri": "https://localhost:8080/"
        },
        "outputId": "10ec0c72-f8a9-4f7a-f94b-953afba9ca3e"
      },
      "source": [
        "def checkNum(number):\r\n",
        "  newStr = str(number)\r\n",
        "  newNumber = newStr[::-1]\r\n",
        "  if number == int(newNumber):\r\n",
        "    print(True)\r\n",
        "  else:\r\n",
        "    print(newNumber + \" is not the same as \" + newStr)\r\n",
        "\r\n",
        "checkNum(121)\r\n",
        "checkNum(125)\r\n"
      ],
      "execution_count": 29,
      "outputs": [
        {
          "output_type": "stream",
          "text": [
            "True\n",
            "521 is not the same as 125\n"
          ],
          "name": "stdout"
        }
      ]
    },
    {
      "cell_type": "markdown",
      "metadata": {
        "id": "cf2_0MYzDuxl"
      },
      "source": [
        "**6: Given two list of numbers create a new list such that new list should contain only odd numbers from the first list and even numbers from the second list.**\r\n",
        "\r\n",
        "1.  List 1  [10, 20, 23, 11, 17]\r\n",
        "2.  List 2  [13, 43, 24, 36, 12]\r\n",
        "\r\n",
        "\r\n",
        "\r\n",
        " \r\n"
      ]
    },
    {
      "cell_type": "code",
      "metadata": {
        "colab": {
          "base_uri": "https://localhost:8080/"
        },
        "id": "uc3-1kCCT9Ij",
        "outputId": "7c4cc6b4-bc10-40a4-c1aa-89fa910869a2"
      },
      "source": [
        "List_1 = [10, 20, 23, 11, 17]\r\n",
        "List_2 = [13, 43, 24, 36, 12]\r\n",
        "List_3 = []\r\n",
        "\r\n",
        "for elements in List_1:\r\n",
        "  if elements % 2 != 0:\r\n",
        "    List_3.append(elements)\r\n",
        "\r\n",
        "for elements_2 in List_2:\r\n",
        "  if elements_2 % 2 == 0:\r\n",
        "    List_3.append(elements_2)\r\n",
        "\r\n",
        "print(List_3)\r\n",
        "\r\n"
      ],
      "execution_count": 46,
      "outputs": [
        {
          "output_type": "stream",
          "text": [
            "[23, 11, 17, 24, 36, 12]\n"
          ],
          "name": "stdout"
        }
      ]
    },
    {
      "cell_type": "markdown",
      "metadata": {
        "id": "z5GgC036ESdH"
      },
      "source": [
        "**7: Write a code to extract each digit from the integer 7536  in the reverse order**"
      ]
    },
    {
      "cell_type": "code",
      "metadata": {
        "id": "KA27ivt9EfVR",
        "colab": {
          "base_uri": "https://localhost:8080/"
        },
        "outputId": "72ffd162-d141-4824-fc47-7045e277124f"
      },
      "source": [
        "def reverseNum(number):\r\n",
        "  newStr = str(number)\r\n",
        "  reverse = newStr[::-1]\r\n",
        "  print(reverse)\r\n",
        "\r\n",
        "reverseNum(7536)\r\n"
      ],
      "execution_count": 30,
      "outputs": [
        {
          "output_type": "stream",
          "text": [
            "6357\n"
          ],
          "name": "stdout"
        }
      ]
    },
    {
      "cell_type": "markdown",
      "metadata": {
        "id": "Ac2IVsHR_x3f"
      },
      "source": [
        "**8. What is the output of the following code?**"
      ]
    },
    {
      "cell_type": "code",
      "metadata": {
        "id": "dzuN79j2_mE_",
        "colab": {
          "base_uri": "https://localhost:8080/",
          "height": 195
        },
        "outputId": "94397558-806b-4c4c-ec36-7ad4fca78343"
      },
      "source": [
        "sampleList = [\"Jon\", \"Kelly\", \"Jessa\"]\r\n",
        "sampleList.append(2, \"Scott\")\r\n",
        "print(sampleList)"
      ],
      "execution_count": null,
      "outputs": [
        {
          "output_type": "error",
          "ename": "TypeError",
          "evalue": "ignored",
          "traceback": [
            "\u001b[0;31m---------------------------------------------------------------------------\u001b[0m",
            "\u001b[0;31mTypeError\u001b[0m                                 Traceback (most recent call last)",
            "\u001b[0;32m<ipython-input-85-6e784efd483a>\u001b[0m in \u001b[0;36m<module>\u001b[0;34m()\u001b[0m\n\u001b[1;32m      1\u001b[0m \u001b[0msampleList\u001b[0m \u001b[0;34m=\u001b[0m \u001b[0;34m[\u001b[0m\u001b[0;34m\"Jon\"\u001b[0m\u001b[0;34m,\u001b[0m \u001b[0;34m\"Kelly\"\u001b[0m\u001b[0;34m,\u001b[0m \u001b[0;34m\"Jessa\"\u001b[0m\u001b[0;34m]\u001b[0m\u001b[0;34m\u001b[0m\u001b[0;34m\u001b[0m\u001b[0m\n\u001b[0;32m----> 2\u001b[0;31m \u001b[0msampleList\u001b[0m\u001b[0;34m.\u001b[0m\u001b[0mappend\u001b[0m\u001b[0;34m(\u001b[0m\u001b[0;36m2\u001b[0m\u001b[0;34m,\u001b[0m \u001b[0;34m\"Scott\"\u001b[0m\u001b[0;34m)\u001b[0m\u001b[0;34m\u001b[0m\u001b[0;34m\u001b[0m\u001b[0m\n\u001b[0m\u001b[1;32m      3\u001b[0m \u001b[0mprint\u001b[0m\u001b[0;34m(\u001b[0m\u001b[0msampleList\u001b[0m\u001b[0;34m)\u001b[0m\u001b[0;34m\u001b[0m\u001b[0;34m\u001b[0m\u001b[0m\n",
            "\u001b[0;31mTypeError\u001b[0m: append() takes exactly one argument (2 given)"
          ]
        }
      ]
    },
    {
      "cell_type": "markdown",
      "metadata": {
        "id": "mqNHojQj_7Gu"
      },
      "source": [
        "1.   The program executed with errors\r\n",
        "1.   [‘Jon’, ‘Kelly’, ‘Scott’, ‘Jessa’]\r\n",
        "2.   [‘Jon’, ‘Kelly’, ‘Jessa’, ‘Scott’]\r\n",
        "2.   [‘Jon’, ‘Scott’, ‘Kelly’, ‘Jessa’]\r\n",
        "\r\n",
        "\r\n"
      ]
    },
    {
      "cell_type": "code",
      "metadata": {
        "colab": {
          "base_uri": "https://localhost:8080/"
        },
        "id": "qepRw3JDJ7Io",
        "outputId": "09c603c1-a417-4b12-f0b2-4e2ad7d79a3a"
      },
      "source": [
        "# 1. The program executed with errors because list.append() method takes only one argument and the example uses two arguments.\r\n",
        "\r\n",
        "# correct code\r\n",
        "\r\n",
        "sampleList = ['Jon', 'Kelly', 'Jessa']\r\n",
        "sampleList.append('Scott')\r\n",
        "print(sampleList)"
      ],
      "execution_count": null,
      "outputs": [
        {
          "output_type": "stream",
          "text": [
            "['Jon', 'Kelly', 'Jessa', 'Scott']\n"
          ],
          "name": "stdout"
        }
      ]
    },
    {
      "cell_type": "markdown",
      "metadata": {
        "id": "hOzDvWv2Aqic"
      },
      "source": [
        "***9. What is the output of the following code?***"
      ]
    },
    {
      "cell_type": "code",
      "metadata": {
        "id": "GYNREZfOAw65",
        "colab": {
          "base_uri": "https://localhost:8080/"
        },
        "outputId": "c74ca7de-bdd4-4943-a58a-7685995a02b3"
      },
      "source": [
        "valueOne = 5 ** 2\r\n",
        "valueTwo = 5 ** 3\r\n",
        "\r\n",
        "print(valueOne)\r\n",
        "print(valueTwo)"
      ],
      "execution_count": null,
      "outputs": [
        {
          "output_type": "stream",
          "text": [
            "25\n",
            "125\n"
          ],
          "name": "stdout"
        }
      ]
    },
    {
      "cell_type": "markdown",
      "metadata": {
        "id": "VGsfNQ_QA2HK"
      },
      "source": [
        "\r\n",
        "1. 10\r\n",
        "   15\r\n",
        "2. 25 \r\n",
        "   125\r\n",
        "1.Error: invalid syntax\r\n",
        "\r\n",
        "\r\n",
        "\r\n",
        "\r\n",
        "\r\n",
        "\r\n",
        "\r\n"
      ]
    },
    {
      "cell_type": "code",
      "metadata": {
        "id": "qvZ5HuVjKml8"
      },
      "source": [
        "# 2. 25 125\r\n",
        "# The exponent operator (**) in Python calculates:\r\n",
        "#  5 ** 2 = 5 x 5 = 25 and \r\n",
        "#  5 ** 3 = 5 x 5 x 5 = 125"
      ],
      "execution_count": null,
      "outputs": []
    },
    {
      "cell_type": "markdown",
      "metadata": {
        "id": "GCgvAVj6sG1N"
      },
      "source": [
        "**10. Display the following data using string.format() method and as a message**\r\n",
        "* totalMoney = 1000\r\n",
        "* quantity =3\r\n",
        "* price = 450 \r\n",
        "\r\n",
        "\r\n",
        "\r\n",
        "\r\n"
      ]
    },
    {
      "cell_type": "code",
      "metadata": {
        "id": "dtXfJx31syUY",
        "colab": {
          "base_uri": "https://localhost:8080/"
        },
        "outputId": "4d863467-73ed-459f-8507-ed32fd422c63"
      },
      "source": [
        "message = \"There is {totalMoney} dollars in pennies!\"\r\n",
        "print(message.format(totalMoney = 1000))\r\n",
        "\r\n",
        "message_2 = \"There are {quantity} apples.\"\r\n",
        "print(message_2.format(quantity = 3))\r\n",
        "\r\n",
        "message_3 = \"It will cost {price} before taxes.\"\r\n",
        "print(message_3.format(price = 450))"
      ],
      "execution_count": 49,
      "outputs": [
        {
          "output_type": "stream",
          "text": [
            "There is 1000 dollars in pennies!\n",
            "There are 3 apples.\n",
            "It will cost 450 before taxes.\n"
          ],
          "name": "stdout"
        }
      ]
    },
    {
      "cell_type": "markdown",
      "metadata": {
        "id": "yxY9xGyLsywP"
      },
      "source": [
        "**11: Print First 10 natural numbers using while loop**"
      ]
    },
    {
      "cell_type": "markdown",
      "metadata": {
        "id": "WhRDBtDutC4M"
      },
      "source": [
        "while"
      ]
    },
    {
      "cell_type": "code",
      "metadata": {
        "colab": {
          "base_uri": "https://localhost:8080/"
        },
        "id": "Fh37wusyZeMt",
        "outputId": "ac645360-6835-4599-991a-30c33553c8ba"
      },
      "source": [
        "count = 1\r\n",
        "while (count < 11):\r\n",
        "  print(count)\r\n",
        "  count += 1"
      ],
      "execution_count": 57,
      "outputs": [
        {
          "output_type": "stream",
          "text": [
            "1\n",
            "2\n",
            "3\n",
            "4\n",
            "5\n",
            "6\n",
            "7\n",
            "8\n",
            "9\n",
            "10\n"
          ],
          "name": "stdout"
        }
      ]
    },
    {
      "cell_type": "markdown",
      "metadata": {
        "id": "5MBJ7mAztE0p"
      },
      "source": [
        "**12.  Reverse the following list using for loop**\r\n",
        "\r\n",
        "list1 = [10, 20, 30, 40, 50]"
      ]
    },
    {
      "cell_type": "code",
      "metadata": {
        "id": "TdWqlpJXtUvG",
        "colab": {
          "base_uri": "https://localhost:8080/"
        },
        "outputId": "aa25306d-15a3-4e93-b353-05e5cc4bf09a"
      },
      "source": [
        "list1 = [10, 20, 30, 40, 50]\r\n",
        "\r\n",
        "for elements in reversed(list1):\r\n",
        "  print(elements)\r\n",
        "\r\n"
      ],
      "execution_count": 62,
      "outputs": [
        {
          "output_type": "stream",
          "text": [
            "50\n",
            "40\n",
            "30\n",
            "20\n",
            "10\n"
          ],
          "name": "stdout"
        }
      ]
    },
    {
      "cell_type": "markdown",
      "metadata": {
        "id": "LyQAuxbgtVTM"
      },
      "source": [
        "**13: Display a message “Done” after successful execution of for loop**"
      ]
    },
    {
      "cell_type": "code",
      "metadata": {
        "colab": {
          "base_uri": "https://localhost:8080/"
        },
        "id": "S-h1xPdLcNs7",
        "outputId": "50a37d15-ee43-4674-8c28-7d5e1c9765ea"
      },
      "source": [
        "list1 = [10, 20, 30, 40, 50]\r\n",
        "\r\n",
        "for elements in reversed(list1):\r\n",
        "  print(elements)\r\n",
        "print(\"Done\")\r\n"
      ],
      "execution_count": 64,
      "outputs": [
        {
          "output_type": "stream",
          "text": [
            "50\n",
            "40\n",
            "30\n",
            "20\n",
            "10\n",
            "Done\n"
          ],
          "name": "stdout"
        }
      ]
    },
    {
      "cell_type": "markdown",
      "metadata": {
        "id": "Uggz_8FotmMO"
      },
      "source": [
        "**14. Use a loop to display elements from the given list (my_list) which are present at even positions**\r\n",
        "my_list = [10, 20, 30, 40, 50, 60, 70, 80, 90, 100]"
      ]
    },
    {
      "cell_type": "code",
      "metadata": {
        "id": "XI42cUtJtxha",
        "colab": {
          "base_uri": "https://localhost:8080/"
        },
        "outputId": "4de13354-7075-4d31-cfc7-59f7c90ed0ec"
      },
      "source": [
        "my_list = [10, 20, 30, 40, 50, 60, 70, 80, 90, 100]\r\n",
        "\r\n",
        "for elements in range(len(my_list)):\r\n",
        "  if elements % 2 == 0:\r\n",
        "    print(my_list[elements])"
      ],
      "execution_count": null,
      "outputs": [
        {
          "output_type": "stream",
          "text": [
            "10\n",
            "30\n",
            "50\n",
            "70\n",
            "90\n"
          ],
          "name": "stdout"
        }
      ]
    },
    {
      "cell_type": "markdown",
      "metadata": {
        "id": "usUBQQ0ouFgI"
      },
      "source": [
        "**15. Create a list of your favourite 5 fruits. Then**\r\n",
        "\r\n",
        "Add 2 new fruits to the list\r\n",
        "What's the length of your list now?\r\n",
        "Remove any one fruit from the list\r\n",
        "What's the new length of the list now?\r\n",
        "Could you sort the list? \r\n"
      ]
    },
    {
      "cell_type": "code",
      "metadata": {
        "id": "FyzB7ZnEyq0X",
        "colab": {
          "base_uri": "https://localhost:8080/"
        },
        "outputId": "54d97b2b-f8d7-4528-82e0-9bd683c708b4"
      },
      "source": [
        "fruits = ['apples', 'kiwis', 'bananas', 'strawberries', 'oranges']\r\n",
        "length = str(len(fruits))\r\n",
        "\r\n",
        "print(\"My original list has \" + length + \" fruits.\\n\")\r\n",
        "\r\n",
        "fruits.insert(0, 'pears')\r\n",
        "fruits.append('pineapple')\r\n",
        "length = str(len(fruits))\r\n",
        "\r\n",
        "print(\"The length of my list is now \" + length + \" after adding 2 new fruits.\\n\")\r\n",
        "\r\n",
        "fruits.remove('pears')\r\n",
        "length = str(len(fruits))\r\n",
        "\r\n",
        "print(\"The length of my list is now \" + length + \" after removing 1 fruit.\\n\")\r\n",
        "\r\n",
        "# Due to changes in the original list, the sort() function will not work.\r\n",
        "print(fruits.sort())\r\n",
        "\r\n",
        "# To sort the new list temporarily, we can use the sorted() function.\r\n",
        "print(sorted(fruits))\r\n"
      ],
      "execution_count": null,
      "outputs": [
        {
          "output_type": "stream",
          "text": [
            "My original list has 5 fruits.\n",
            "\n",
            "The length of my list is now 7 after adding 2 new fruits.\n",
            "\n",
            "The length of my list is now 6 after removing 1 fruit.\n",
            "\n",
            "None\n",
            "['apples', 'bananas', 'kiwis', 'oranges', 'pineapple', 'strawberries']\n"
          ],
          "name": "stdout"
        }
      ]
    },
    {
      "cell_type": "markdown",
      "metadata": {
        "id": "YnjUxqA8yMHc"
      },
      "source": [
        ""
      ]
    }
  ]
}